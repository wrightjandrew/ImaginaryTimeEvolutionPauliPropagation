{
 "cells": [
  {
   "cell_type": "code",
   "execution_count": 1,
   "id": "51e96902",
   "metadata": {},
   "outputs": [],
   "source": [
    "using PauliPropagation\n",
    "using Plots\n",
    "using Printf\n",
    "using LinearAlgebra\n",
    "using LaTeXStrings\n",
    "using ProgressMeter\n",
    "using Statistics"
   ]
  },
  {
   "cell_type": "code",
   "execution_count": 2,
   "id": "cf0fa174",
   "metadata": {},
   "outputs": [],
   "source": [
    "function getnewimaginarypaulistring(gate::MaskedPauliRotation, pstr::PauliStringType)\n",
    "    new_pstr, sign = pauliprod(gate.generator_mask, pstr, gate.qinds)\n",
    "    return new_pstr, -1im * sign\n",
    "end\n",
    "\n",
    "\n",
    "function PauliPropagation.applytoall!(gate::PauliRotation, theta::ComplexF64, psum, aux_psum; kwargs...)\n",
    "    # NOTE: This is for imaginary time evolution!\n",
    "    if real(theta) > 0.0\n",
    "        throw(ArgumentError(\"Parameter `theta` needs to be fully imaginary. Got theta=$theta\"))\n",
    "    end\n",
    "\n",
    "    \n",
    "    # turn the PauliRotation gate into a MaskedPauliRotation gate\n",
    "    # this allows for faster operations\n",
    "    gate = PauliPropagation._tomaskedpaulirotation(gate, paulitype(psum))\n",
    "\n",
    "    # pre-compute the sinh and cosh values because they are used for every Pauli string that does not commute with the gate\n",
    "    cosh_val = cos(theta)\n",
    "    sinh_val = sin(theta)\n",
    "    # loop over all Pauli strings and their coefficients in the Pauli sum\n",
    "    for (pstr, coeff) in psum\n",
    "\n",
    "        if !commutes(gate, pstr)\n",
    "            # if the gate does not commute with the pauli string, do nothing\n",
    "            continue\n",
    "        end\n",
    "\n",
    "        # else we know the gate will split the Pauli string into two\n",
    "        coeff1 = real(coeff * cosh_val)\n",
    "        new_pstr, sign = getnewimaginarypaulistring(gate, pstr)\n",
    "        coeff2 = real(coeff * sinh_val * sign)\n",
    "\n",
    "        # set the coefficient of the original Pauli string\n",
    "        set!(psum, pstr, coeff1)\n",
    "\n",
    "        # set the coefficient of the new Pauli string in the aux_psum\n",
    "        # we can set the coefficient because PauliRotations create non-overlapping new Pauli strings\n",
    "        set!(aux_psum, new_pstr, coeff2)\n",
    "    end\n",
    "\n",
    "    return\n",
    "end\n",
    "\n",
    "\n",
    "function PauliPropagation.applymergetruncate!(gate, psum, aux_psum, thetas, param_idx; max_weight=Inf, min_abs_coeff=1e-10, max_freq=Inf, max_sins=Inf, customtruncfunc=nothing, normalization=false, kwargs...)\n",
    "\n",
    "    # Pick out the next theta if gate is a ParametrizedGate.\n",
    "    # Else set the paramter to nothing for clarity that theta is not used.\n",
    "    if gate isa ParametrizedGate\n",
    "        theta = thetas[param_idx]\n",
    "        # If the gate is parametrized, decrement theta index by one.\n",
    "        param_idx -= 1\n",
    "    else\n",
    "        theta = nothing\n",
    "    end\n",
    "    # Apply the gate to all Pauli strings in psum, potentially writing into auxillary aux_psum in the process.\n",
    "    # The pauli sums will be changed in-place\n",
    "    applytoall!(gate, theta, psum, aux_psum; kwargs...)\n",
    "    \n",
    "    # Any contents of psum and aux_psum are merged into the larger of the two, which is returned as psum.\n",
    "    # The other is emptied and returned as aux_psum.\n",
    "    psum, aux_psum = mergeandempty!(psum, aux_psum)\n",
    "\n",
    "    nq = psum.nqubits    \n",
    "    if normalization\n",
    "        min_abs_coeff = min_abs_coeff * getcoeff(psum, :I, 1)\n",
    "    end\n",
    "    \n",
    "    # Check truncation conditions on all Pauli strings in psum and remove them if they are truncated.\n",
    "    PauliPropagation.checktruncationonall!(psum; max_weight, min_abs_coeff, max_freq, max_sins, customtruncfunc)\n",
    "\n",
    "    return psum, aux_psum, param_idx\n",
    "end"
   ]
  },
  {
   "cell_type": "code",
   "execution_count": 3,
   "id": "1c5eeafe",
   "metadata": {},
   "outputs": [
    {
     "data": {
      "text/plain": [
       "createMaxWeightRandomPauli (generic function with 1 method)"
      ]
     },
     "metadata": {},
     "output_type": "display_data"
    }
   ],
   "source": [
    "function createMaxWeightRandomPauli(nq::Int)\n",
    "    symbols = Symbol[]\n",
    "    for i in 1:nq\n",
    "        push!(symbols, rand([:X, :Y, :Z]))\n",
    "    end\n",
    "    return symbols\n",
    "end"
   ]
  },
  {
   "cell_type": "code",
   "execution_count": 4,
   "id": "4d38d07b",
   "metadata": {},
   "outputs": [
    {
     "data": {
      "text/plain": [
       "thermalStateWeightsEvolution (generic function with 1 method)"
      ]
     },
     "metadata": {},
     "output_type": "display_data"
    }
   ],
   "source": [
    "function thermalStateWeightsEvolution(circuit, nl, nq, pstr; max_weight=nq, min_abs_coeff=0)\n",
    "\n",
    "    psum = PauliSum(pstr)\n",
    "    psum = propagate!(circuit, psum; max_weight, min_abs_coeff, normalization=false)\n",
    "    weight = countweight(psum)\n",
    "    weightAvg = mean(weight)    \n",
    "    return weightAvg\n",
    "end"
   ]
  },
  {
   "cell_type": "code",
   "execution_count": 6,
   "id": "02000f01",
   "metadata": {},
   "outputs": [],
   "source": [
    "theta = 0.01im\n",
    "θ = theta\n",
    "nq = 20\n",
    "\n",
    "topology = bricklayertopology(nq)\n",
    "\n",
    "# the circuit\n",
    "circuit = Gate[]\n",
    "nl = 1\n",
    "for i in 1:nl\n",
    "    #append!(circuit, PauliRotation(:X, ii, θ) for ii in 1:nq);\n",
    "    append!(circuit, PauliRotation(:Z, ii, θ) for ii in 1:nq);\n",
    "    append!(circuit, PauliRotation([:X, :X], pair, θ) for pair in topology);\n",
    "end"
   ]
  },
  {
   "cell_type": "code",
   "execution_count": null,
   "id": "d7d58a1d",
   "metadata": {},
   "outputs": [
    {
     "name": "stderr",
     "output_type": "stream",
     "text": [
      "\u001b[32mProgress:   3%|██                                       |  ETA: 0:12:23\u001b[39m\u001b[K"
     ]
    }
   ],
   "source": [
    "nl = 1\n",
    "samples = 100\n",
    "weights = 0\n",
    "index = collect(1:10)\n",
    "@showprogress for i in 1:samples\n",
    "    # create a random Pauli string\n",
    "    symbols = createMaxWeightRandomPauli(10)\n",
    "    pstr = PauliString(nq, symbols, index)\n",
    "\n",
    "    # calculate the weights\n",
    "    weight = thermalStateWeightsEvolution(circuit, nl, nq, pstr; min_abs_coeff=0)\n",
    "    weights += weight\n",
    "end\n",
    "println(\"Average weight: \", weights/samples)\n"
   ]
  }
 ],
 "metadata": {
  "kernelspec": {
   "display_name": "Julia 1.10.4",
   "language": "julia",
   "name": "julia-1.10"
  },
  "language_info": {
   "file_extension": ".jl",
   "mimetype": "application/julia",
   "name": "julia",
   "version": "1.10.4"
  }
 },
 "nbformat": 4,
 "nbformat_minor": 5
}
