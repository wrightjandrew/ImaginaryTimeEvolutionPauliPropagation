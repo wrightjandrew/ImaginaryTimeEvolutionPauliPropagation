{
 "cells": [
  {
   "cell_type": "code",
   "execution_count": 4,
   "metadata": {},
   "outputs": [],
   "source": [
    "using PauliPropagation\n",
    "using Plots\n",
    "using Printf\n",
    "using LinearAlgebra\n",
    "using LaTeXStrings\n",
    "using ProgressMeter"
   ]
  },
  {
   "cell_type": "code",
   "execution_count": 5,
   "metadata": {},
   "outputs": [
    {
     "data": {
      "text/plain": [
       "thermalStateExpectation (generic function with 1 method)"
      ]
     },
     "execution_count": 5,
     "metadata": {},
     "output_type": "execute_result"
    }
   ],
   "source": [
    "function thermalStateExpectation(circuit, nl, nq, operator; max_weight=nq, min_abs_coeff=0)\n",
    "    pstr = PauliString(nq, :I, 1)\n",
    "    psum = PauliSum(pstr)\n",
    "\n",
    "    expectations = Float64[]\n",
    "\n",
    "    @showprogress for layers in 1:nl\n",
    "        psum = propagate!(circuit, psum; max_weight, min_abs_coeff, normalization=true)\n",
    "        layers += 1\n",
    "        expectation = getcoeff(psum, operator)\n",
    "        expectations = push!(expectations, expectation)\n",
    "    end\n",
    "    println(length(psum))\n",
    "    return expectations\n",
    "end"
   ]
  },
  {
   "cell_type": "code",
   "execution_count": 6,
   "metadata": {},
   "outputs": [],
   "source": [
    "theta = 0.01im\n",
    "θ = theta\n",
    "nq = 30\n",
    "\n",
    "nl = 1\n",
    "\n",
    "pstr = PauliString(nq, :I, 1)\n",
    "\n",
    "# the computational basis matrices\n",
    "rzmat = tomatrix(PauliRotation(:Z, 1), -θ)\n",
    "rxmat = tomatrix(PauliRotation(:X, 1), -θ)\n",
    "rzzmat = tomatrix(PauliRotation([:X, :X], [1, 2]), -θ)\n",
    "\n",
    "# the Pauli basis matrices\n",
    "rzptm = calculateptm(rzmat; heisenberg=false)\n",
    "rxptm = calculateptm(rxmat; heisenberg=false)\n",
    "rzzptm = calculateptm(rzzmat; heisenberg=false)\n",
    "\n",
    "# the Pauli basis transfermaps\n",
    "rzmap = totransfermap(rzptm)\n",
    "rxmap = totransfermap(rxptm)\n",
    "rzzmap = totransfermap(rzzptm);\n",
    "topology = bricklayertopology(nq)\n",
    "\n",
    "# the circuit\n",
    "circuit = Gate[]\n",
    "for i in 1:nl\n",
    "    #append!(circuit, TransferMapGate(rxmap, ii) for ii in 1:nq);\n",
    "    append!(circuit, TransferMapGate(rzmat, ii) for ii in 1:nq);\n",
    "    append!(circuit, TransferMapGate(rzzmat,collect(pair)) for pair in topology);\n",
    "end"
   ]
  },
  {
   "cell_type": "code",
   "execution_count": 8,
   "metadata": {},
   "outputs": [
    {
     "name": "stderr",
     "output_type": "stream",
     "text": [
      "\u001b[32mProgress: 100%|█████████████████████████████████████████| Time: 0:00:12\u001b[39m\n"
     ]
    },
    {
     "name": "stdout",
     "output_type": "stream",
     "text": [
      "31030"
     ]
    },
    {
     "name": "stderr",
     "output_type": "stream",
     "text": [
      "\u001b[32mProgress:  15%|███████                                  |  ETA: 0:00:01\u001b[39m"
     ]
    },
    {
     "name": "stdout",
     "output_type": "stream",
     "text": [
      "\n"
     ]
    },
    {
     "name": "stderr",
     "output_type": "stream",
     "text": [
      "\u001b[32mProgress:  90%|█████████████████████████████████████    |  ETA: 0:00:03\u001b[39m"
     ]
    }
   ],
   "source": [
    "obs_i = 20\n",
    "obs_j = 21\n",
    "observable = PauliString(nq, [:Z,:Z], [obs_i,obs_j])\n",
    "\n",
    "nl = 20\n",
    "trunc_coeffs = 2.0 .^ (-14:-1:-18)\n",
    "\n",
    "time = range(0.01, 0.01*nl, nl)\n",
    "\n",
    "plot(ylabel=L\"Absolute error of $\\langle Z_{20}Z_{21} \\rangle$\", xlabel=L\"\\beta\", title = L\"$H = \\sum_{i=1} -Z_i - X_iX_{i+1}$\")\n",
    "\n",
    "for j in trunc_coeffs\n",
    "    expectation = thermalStateExpectation(circuit, nl, nq, observable; min_abs_coeff=j, max_weight = 9)\n",
    "    plot!(time, expectation, label = L\"$2^{%$(round(log2(j), digits=2))}$\", legend=:topleft, lw=2, markersize=4, marker=:circle, alpha=0.5)\n",
    "end\n",
    "\n",
    "\n",
    "display(plot!())\n"
   ]
  }
 ],
 "metadata": {
  "kernelspec": {
   "display_name": "Julia 1.11.3",
   "language": "julia",
   "name": "julia-1.11"
  },
  "language_info": {
   "file_extension": ".jl",
   "mimetype": "application/julia",
   "name": "julia",
   "version": "1.11.3"
  },
  "orig_nbformat": 4,
  "vscode": {
   "interpreter": {
    "hash": "3ee855a6a65ac12688299f41bd38c31c939771a04d114bebc7de16f741602192"
   }
  }
 },
 "nbformat": 4,
 "nbformat_minor": 2
}
