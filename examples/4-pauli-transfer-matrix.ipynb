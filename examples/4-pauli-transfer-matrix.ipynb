{
 "cells": [
  {
   "cell_type": "markdown",
   "id": "d705e803-83d0-483f-8caa-80bd86637069",
   "metadata": {},
   "source": [
    "## Pauli Transfer Matrix\n",
    "The Pauli Transfer Matrix(PTM) of a (potentially unitary) matrix is its representation in Pauli basis, i.e., how it acts on each Pauli string. While this package is based on transforming Pauli strings into one or many Pauli strings, most gates are not defined via the actual PT matrix. However, there are some tools that you can use to work with matrices, both in 0/1 basis and in Pauli basis, potentially to define your own gates. "
   ]
  },
  {
   "cell_type": "code",
   "execution_count": 1,
   "id": "93f6240e-2a5c-4e8a-804d-bccd612ab1d4",
   "metadata": {},
   "outputs": [],
   "source": [
    "using PauliPropagation\n",
    "using LinearAlgebra"
   ]
  },
  {
   "cell_type": "markdown",
   "id": "fc059138-cc53-431a-99f7-2ad6971b0d92",
   "metadata": {},
   "source": [
    "Let us generate a random 1-qubit unitary matrix via Pauli matrix exponentials:"
   ]
  },
  {
   "cell_type": "code",
   "execution_count": 2,
   "id": "7a741b5c-79b9-416a-948f-5b3e0bcf6879",
   "metadata": {},
   "outputs": [
    {
     "data": {
      "text/plain": [
       "2×2 Matrix{ComplexF64}:\n",
       " 0.282099+0.914635im    -0.289583-0.00217345im\n",
       " 0.289583-0.00217345im   0.282099-0.914635im"
      ]
     },
     "execution_count": 2,
     "metadata": {},
     "output_type": "execute_result"
    }
   ],
   "source": [
    "# The Pauli matrices are not exported\n",
    "using PauliPropagation: Xmat, Ymat, Zmat \n",
    "\n",
    "U = exp(-im * (randn() * Xmat + randn() * Ymat + randn() * Zmat))"
   ]
  },
  {
   "cell_type": "markdown",
   "id": "66f368b1-f683-4608-85a0-06338e300eb0",
   "metadata": {},
   "source": [
    "Verify that $U$ is unitary via $U \\cdot U^\\dagger = U^\\dagger \\cdot U = \\mathbb{1}$,"
   ]
  },
  {
   "cell_type": "code",
   "execution_count": 3,
   "id": "9243326b-4ab3-4ace-b5a6-633f25e644ca",
   "metadata": {},
   "outputs": [
    {
     "data": {
      "text/plain": [
       "true"
      ]
     },
     "execution_count": 3,
     "metadata": {},
     "output_type": "execute_result"
    }
   ],
   "source": [
    "U * U' ≈ U' * U ≈ I(2)"
   ]
  },
  {
   "cell_type": "markdown",
   "id": "29ceadaa-72cb-458c-919e-4c2d3907fa30",
   "metadata": {},
   "source": [
    "This unitary is in the very common 0/1 basis, also called the computational basis.\n",
    "Here is how you can transform it into the Pauli basis:"
   ]
  },
  {
   "cell_type": "code",
   "execution_count": 4,
   "id": "1c1e4594-90ce-4907-a9a3-fdd929647740",
   "metadata": {},
   "outputs": [
    {
     "data": {
      "text/plain": [
       "4×4 transpose(::Matrix{Float64}) with eltype Float64:\n",
       " 1.0   0.0        0.0        0.0\n",
       " 0.0  -0.840831  -0.514776  -0.167358\n",
       " 0.0   0.517294  -0.673124  -0.5285\n",
       " 0.0   0.159406  -0.530952   0.832274"
      ]
     },
     "execution_count": 4,
     "metadata": {},
     "output_type": "execute_result"
    }
   ],
   "source": [
    "# note the default `heisenberg=true` kwarg\n",
    "Uptm = calculateptm(U)"
   ]
  },
  {
   "cell_type": "markdown",
   "id": "1e9405ee-79fe-4112-b211-9b1312c19fb4",
   "metadata": {},
   "source": [
    "This by default returns the PTM of `U` in the **Heisenberg** picture, i.e., how it acts in the backpropagation of Pauli strings - the default in this package.\n",
    "To get the Schrödinger version, you can take the transpose of this matrix or call `calculateptm(U, heisenberg=false)`."
   ]
  },
  {
   "cell_type": "markdown",
   "id": "28b65a75-0ee4-490c-b8a1-d981c72ef80d",
   "metadata": {},
   "source": [
    "To convince ourselves that `Uptm` is also a unitary in this basis, check $U_{ptm} \\cdot U_{ptm}^T = U_{ptm}^T \\cdot U_{ptm} = \\mathbb{1}$ due to unitaries being real-valued in this basis."
   ]
  },
  {
   "cell_type": "code",
   "execution_count": 5,
   "id": "97d60a96-3b38-41c0-9cd6-d3963c181aca",
   "metadata": {},
   "outputs": [
    {
     "data": {
      "text/plain": [
       "true"
      ]
     },
     "execution_count": 5,
     "metadata": {},
     "output_type": "execute_result"
    }
   ],
   "source": [
    "Uptm * transpose(Uptm) ≈ transpose(Uptm) * Uptm ≈ I(4)"
   ]
  },
  {
   "cell_type": "markdown",
   "id": "baa46151-e1f7-47fb-a844-2bc5e13ca3a7",
   "metadata": {},
   "source": [
    "Great, but what does this unitary even represent? We mentioned that it represents the action of `U` on Pauli strings. A 1-qubit gate can act on 4 Paulis, `I`, `X`, `Y`, and `Z`, each being represented as $(1, 0, 0, 0)^T$, $(0, 1, 0, 0)^T$, $(0, 0, 1, 0)^T$, and $(0, 0, 0, 1)^T$, respectively. `Uptm` thus describes how each of those column vectors or an arbitrary sum thereof is transformed."
   ]
  },
  {
   "cell_type": "markdown",
   "id": "b3468eab-b3ee-4cf3-8a24-36ad5a517984",
   "metadata": {},
   "source": [
    "### Defining Gates"
   ]
  },
  {
   "cell_type": "markdown",
   "id": "d0aa7807-ae02-4b21-94ee-87a549572aa4",
   "metadata": {},
   "source": [
    "These matrices can also be turned into gates via the `TransferMapGate`. It accepts either the matrix representation of the gate in the 0/1 basis or the Pauli basis."
   ]
  },
  {
   "cell_type": "code",
   "execution_count": 6,
   "id": "4b9d9514-f011-424f-befd-5280e64d8975",
   "metadata": {},
   "outputs": [
    {
     "data": {
      "text/plain": [
       "TransferMapGate{UInt8, Float64}(Vector{Tuple{UInt8, Float64}}[[(0x00, 1.0)], [(0x01, -0.8408311029097362), (0x02, 0.5172936137967203), (0x03, 0.15940631576172037)], [(0x01, -0.5147760368641947), (0x02, -0.6731236867912151), (0x03, -0.5309521015600133)], [(0x01, -0.1673579644056088), (0x02, -0.5284995926258892), (0x03, 0.8322736883647587)]], [1])"
      ]
     },
     "execution_count": 6,
     "metadata": {},
     "output_type": "execute_result"
    }
   ],
   "source": [
    "# on qubit 1\n",
    "qind = 1\n",
    "\n",
    "# for the unitary in 0/1 basis\n",
    "gU = TransferMapGate(U, qind)"
   ]
  },
  {
   "cell_type": "code",
   "execution_count": 7,
   "id": "532902f4-b35e-4a8c-a6d3-0e61c4d0a41a",
   "metadata": {},
   "outputs": [
    {
     "data": {
      "text/plain": [
       "TransferMapGate{UInt8, Float64}(Vector{Tuple{UInt8, Float64}}[[(0x00, 1.0)], [(0x01, -0.8408311029097362), (0x02, 0.5172936137967203), (0x03, 0.15940631576172037)], [(0x01, -0.5147760368641947), (0x02, -0.6731236867912151), (0x03, -0.5309521015600133)], [(0x01, -0.1673579644056088), (0x02, -0.5284995926258892), (0x03, 0.8322736883647587)]], [1])"
      ]
     },
     "execution_count": 7,
     "metadata": {},
     "output_type": "execute_result"
    }
   ],
   "source": [
    "# and also for the PTM\n",
    "gPTM = TransferMapGate(Uptm, qind)"
   ]
  },
  {
   "cell_type": "markdown",
   "id": "78bb5bb0-7f1a-4b5b-8294-abb4e6040792",
   "metadata": {},
   "source": [
    "And they produce the same gate. What is going on under the hood is that these matrices are converted into what we call *transfer maps*. They are created in the following way:"
   ]
  },
  {
   "cell_type": "code",
   "execution_count": 8,
   "id": "e46a95b4-adb0-4ed3-b57b-55d777ffda5f",
   "metadata": {},
   "outputs": [
    {
     "data": {
      "text/plain": [
       "4-element Vector{Vector{Tuple{UInt8, Float64}}}:\n",
       " [(0x00, 1.0)]\n",
       " [(0x01, -0.8408311029097362), (0x02, 0.5172936137967203), (0x03, 0.15940631576172037)]\n",
       " [(0x01, -0.5147760368641947), (0x02, -0.6731236867912151), (0x03, -0.5309521015600133)]\n",
       " [(0x01, -0.1673579644056088), (0x02, -0.5284995926258892), (0x03, 0.8322736883647587)]"
      ]
     },
     "execution_count": 8,
     "metadata": {},
     "output_type": "execute_result"
    }
   ],
   "source": [
    "ptmap = totransfermap(Uptm)"
   ]
  },
  {
   "cell_type": "markdown",
   "id": "e31d85e5-2cca-4a41-9753-4bea6e49e457",
   "metadata": {},
   "source": [
    "Remember that we encode our Pauli strings in integers, with single-qubit Paulis being 0 (`I`), 1 (`X`), 2 (`Y`), 3 (`Z`). If you index into `ptmap` with those numbers + 1, you will get the corresponding output Paulis with their coefficients. In other words, each entry of a PT map corresponds to a column of the PTM. The Paulis will be set onto the qubit index and the coefficients will be multiplied to the incoming Pauli string's coefficient.\n",
    "\n",
    "What we also see is that this unitary is 3-branching in Pauli basis. `X`, `Y`, and `Z` Paulis will each map to all three with different coefficients. We can define a `TransferMapGate` from a PT map, specifying on what qubit it acts (here qubit 1)."
   ]
  },
  {
   "cell_type": "code",
   "execution_count": 9,
   "id": "22145691-687a-43f0-b65d-a917c90d2569",
   "metadata": {},
   "outputs": [
    {
     "data": {
      "text/plain": [
       "TransferMapGate{UInt8, Float64}(Vector{Tuple{UInt8, Float64}}[[(0x00, 1.0)], [(0x01, -0.8408311029097362), (0x02, 0.5172936137967203), (0x03, 0.15940631576172037)], [(0x01, -0.5147760368641947), (0x02, -0.6731236867912151), (0x03, -0.5309521015600133)], [(0x01, -0.1673579644056088), (0x02, -0.5284995926258892), (0x03, 0.8322736883647587)]], [1])"
      ]
     },
     "execution_count": 9,
     "metadata": {},
     "output_type": "execute_result"
    }
   ],
   "source": [
    "g = TransferMapGate(ptmap, qind)"
   ]
  },
  {
   "cell_type": "markdown",
   "id": "49ffbda5-309b-4e71-af6c-fb0192ee781d",
   "metadata": {},
   "source": [
    "The gates `g`, `gU` and `gPTM` are all the same gate."
   ]
  },
  {
   "cell_type": "markdown",
   "id": "e18e4f47-903f-42c6-af29-5678ca666236",
   "metadata": {},
   "source": [
    "Keep in mind, however, that this gate is not parametrized. It always acts the same. This can be seen fact that it is a subtype of `StaticGate`. Gates subtyping `ParametrizedGate` will receive parameters from the `propagate()` function, but `TransferMapGate`s don't use any."
   ]
  },
  {
   "cell_type": "code",
   "execution_count": 10,
   "id": "ace51a74-5806-403b-a6f1-36b9f0af84c0",
   "metadata": {},
   "outputs": [
    {
     "data": {
      "text/plain": [
       "true"
      ]
     },
     "execution_count": 10,
     "metadata": {},
     "output_type": "execute_result"
    }
   ],
   "source": [
    "g isa StaticGate"
   ]
  },
  {
   "cell_type": "markdown",
   "id": "c5f50d5d-ed4d-4241-b759-a6d8bc727b32",
   "metadata": {},
   "source": [
    "Finally, let us define a circuit consisting of this gate on every qubit: "
   ]
  },
  {
   "cell_type": "code",
   "execution_count": 11,
   "id": "a4b7f7c6-c799-403f-a91f-3fae3294a8b5",
   "metadata": {},
   "outputs": [
    {
     "data": {
      "text/plain": [
       "PauliString(nqubits: 6, 1.0 * YZYYZY)"
      ]
     },
     "execution_count": 11,
     "metadata": {},
     "output_type": "execute_result"
    }
   ],
   "source": [
    "# 6 qubits\n",
    "nq = 6\n",
    "\n",
    "# define the circuit as a vector of gates\n",
    "circuit = [TransferMapGate(ptmap, qind) for qind in 1:nq];\n",
    "\n",
    "# make the observable a random global Pauli string because the gate acts trivially on identities `I`\n",
    "pstr = PauliString(nq, [rand((:X, :Y, :Z)) for _ in 1:nq], 1:nq)"
   ]
  },
  {
   "cell_type": "code",
   "execution_count": 12,
   "id": "81c3ba29-19e4-4f12-8a21-e723706ad7b2",
   "metadata": {},
   "outputs": [
    {
     "data": {
      "text/plain": [
       "PauliSum(nqubits: 6, 729 Pauli terms:\n",
       " 0.010954 * ZXYYYX\n",
       " -0.017249 * XZZYXY\n",
       " -0.016724 * YZXYXX\n",
       " 0.020866 * XYZXYZ\n",
       " 0.051746 * ZZXZZX\n",
       " -0.01279 * XZXYXX\n",
       " -0.041658 * YZZXYX\n",
       " 0.0081216 * YYXXXX\n",
       " 0.11217 * YZZYZY\n",
       " -0.041658 * YYXXZZ\n",
       " -0.032859 * ZZZXYX\n",
       " -0.016724 * XXYYZX\n",
       " 0.0083768 * XYYXXZ\n",
       " -0.016724 * YZXXXY\n",
       " 0.088477 * YZZYZZ\n",
       " -0.052813 * YZYXYX\n",
       " -0.0097811 * XZXXXX\n",
       " -0.056184 * ZYYYZZ\n",
       " 0.06979 * ZZZZZY\n",
       " 0.0034686 * ZXXYXY\n",
       "  ⋮)"
      ]
     },
     "execution_count": 12,
     "metadata": {},
     "output_type": "execute_result"
    }
   ],
   "source": [
    "psum = propagate(circuit, pstr)"
   ]
  },
  {
   "cell_type": "markdown",
   "id": "ae8f4f2d-9b7b-4d67-8506-55dfa5dc40f4",
   "metadata": {},
   "source": [
    "And there you go, you can now easily define gates from their matrix representations, both in 0/1 basis or Pauli basis."
   ]
  },
  {
   "cell_type": "markdown",
   "id": "c45a34e6",
   "metadata": {},
   "source": [
    "### Parametrized PTMs"
   ]
  },
  {
   "cell_type": "markdown",
   "id": "215c3ed0",
   "metadata": {},
   "source": [
    "Remember when we use `TransferMapGate`, we need a fixed matrix representation which is then transformed into the PTM. We can also compute that matrix for parametrized gates if `tomatrix()` is defined for them.\n",
    "Here is how to do that for a `PauliRotation`:"
   ]
  },
  {
   "cell_type": "code",
   "execution_count": 13,
   "id": "69bfe9b4",
   "metadata": {},
   "outputs": [
    {
     "data": {
      "text/plain": [
       "TransferMapGate{UInt8, Float64}(Vector{Tuple{UInt8, Float64}}[[(0x00, 1.0)], [(0x01, 1.0)], [(0x02, 0.7071067811865474), (0x03, -0.7071067811865474)], [(0x02, 0.7071067811865474), (0x03, 0.7071067811865474)]], [1])"
      ]
     },
     "execution_count": 13,
     "metadata": {},
     "output_type": "execute_result"
    }
   ],
   "source": [
    "# the matrix in the 0/1 basis\n",
    "U = tomatrix(PauliRotation(:X, 1), π/4)\n",
    "\n",
    "# the matrix in the Pauli basis\n",
    "ptm = calculateptm(U)\n",
    "\n",
    "# they can again be transformed into gates\n",
    "# TransferMapGate(U, 1)\n",
    "TransferMapGate(ptm, 1)"
   ]
  },
  {
   "cell_type": "markdown",
   "id": "9bc27121",
   "metadata": {},
   "source": [
    "### Compressing Circuits into one PT map"
   ]
  },
  {
   "cell_type": "markdown",
   "id": "e0c44e12-a649-45d1-8b5e-32ba7d5b7625",
   "metadata": {},
   "source": [
    "One functionality which may make some gate sequences more performant to simulate is the ability to compress them into one PT map via `totransfermap()`.\n",
    "Parameters for parametrized gates can be passed as well."
   ]
  },
  {
   "cell_type": "code",
   "execution_count": 14,
   "id": "6ade1dde",
   "metadata": {
    "scrolled": true
   },
   "outputs": [],
   "source": [
    "nq = 5\n",
    "\n",
    "circuit = Gate[]\n",
    "append!(circuit, CliffordGate(:CNOT, pair) for pair in bricklayertopology(nq))\n",
    "append!(circuit, CliffordGate(:H, ii) for ii in 1:nq)\n",
    "append!(circuit, PauliRotation(:Y, ii) for ii in 1:nq)\n",
    "\n",
    "# the angles for the Pauli rotations\n",
    "thetas = [π / 8 for _ in 1:nq]\n",
    "\n",
    "# compile everything into one\n",
    "ptmap = totransfermap(nq, circuit, thetas)\n",
    "circuit_map = TransferMapGate(ptmap, 1:nq);\n",
    "\n",
    "## feel free to print this huge PT map\n",
    "# print(\"Now that is a mess! But it is correct:\\n \", ptmap)"
   ]
  },
  {
   "cell_type": "code",
   "execution_count": 15,
   "id": "b2191b28-76d8-458a-aa71-3138c2c65b7e",
   "metadata": {},
   "outputs": [
    {
     "data": {
      "text/plain": [
       "PauliSum(nqubits: 5, 32 Pauli terms:\n",
       " 0.11548 * ZXIIZ\n",
       " -0.11548 * YZYXZ\n",
       " -0.047835 * ZXZYY\n",
       " -0.019814 * XIZYY\n",
       " -0.11548 * YYXXZ\n",
       " 0.047835 * IZXII\n",
       " -0.047835 * YZXZY\n",
       " 0.019814 * XIZZX\n",
       " 0.27881 * IZXXZ\n",
       " 0.047835 * XXZXI\n",
       " 0.047835 * YYYYX\n",
       " -0.11548 * IZYZY\n",
       " 0.27881 * ZIIZX\n",
       " 0.047835 * YYYZY\n",
       " 0.11548 * ZIZXI\n",
       " 0.047835 * ZXZZX\n",
       " -0.11548 * IYXYX\n",
       " 0.11548 * XXIZX\n",
       " -0.019814 * YZYII\n",
       " 0.019814 * ZXIXI\n",
       "  ⋮)"
      ]
     },
     "execution_count": 15,
     "metadata": {},
     "output_type": "execute_result"
    }
   ],
   "source": [
    "# it can be apply in one go\n",
    "pstr = PauliString(nq, [:X for _ in 1:nq], 1:nq)\n",
    "psum1 = propagate(circuit_map, pstr)"
   ]
  },
  {
   "cell_type": "markdown",
   "id": "cb6f7176",
   "metadata": {},
   "source": [
    "Let's verify that we get the same answer using a circuit constructed from `TransferMapGate`s and natively supported gates."
   ]
  },
  {
   "cell_type": "code",
   "execution_count": 16,
   "id": "1a8c582d",
   "metadata": {},
   "outputs": [
    {
     "name": "stdout",
     "output_type": "stream",
     "text": [
      "psum1 == psum2 = true\n"
     ]
    },
    {
     "data": {
      "text/plain": [
       "true"
      ]
     },
     "execution_count": 16,
     "metadata": {},
     "output_type": "execute_result"
    }
   ],
   "source": [
    "psum2 = propagate(circuit, pstr, thetas)\n",
    "@show psum1 == psum2"
   ]
  },
  {
   "cell_type": "markdown",
   "id": "0c55e945",
   "metadata": {},
   "source": [
    "Finally, lets's compare their performance"
   ]
  },
  {
   "cell_type": "code",
   "execution_count": 17,
   "id": "304a02b1",
   "metadata": {},
   "outputs": [
    {
     "name": "stdout",
     "output_type": "stream",
     "text": [
      "Compiled circuit via transfer map:\n",
      "  1.915 μs (61 allocations: 4.55 KiB)\n",
      "Original circuit:\n",
      "  8.831 μs (85 allocations: 5.84 KiB)\n"
     ]
    }
   ],
   "source": [
    "using BenchmarkTools\n",
    "println(\"Compiled circuit via transfer map:\")\n",
    "@btime propagate($circuit_map, $pstr);\n",
    "println(\"Original circuit:\")\n",
    "@btime propagate($circuit, $pstr, $thetas);"
   ]
  },
  {
   "cell_type": "markdown",
   "id": "df9856dc-56aa-470e-abf6-7983bf32d6cb",
   "metadata": {},
   "source": [
    "There are quite a few nuances to discuss here. First, the size of the circuit in terms of the number of qubits $n$ that can be compressed is limited. This is due to the $4^n$ best-case and $8^n$ worst-case memory and time scaling (depending on the branching behavior). It may still be possible and beneficial to compress common gate sequences, for example few-qubit entangling blocks occuring often throughout the circuit. However, it is not guaranteed that this type of PT map compression yields faster gates, especially when compressing few and otherwise highly optimized gates. The `TransferMapGate` is generic, but its application is not type stable and will induce a lot of memory movement. That being said - try it out for your use-case!\n",
    "\n",
    "For an example of more low-level definition of of high-performance gates, check out the `custom-gates` notebook."
   ]
  }
 ],
 "metadata": {
  "kernelspec": {
   "display_name": "Julia 1.11.2",
   "language": "julia",
   "name": "julia-1.11"
  },
  "language_info": {
   "file_extension": ".jl",
   "mimetype": "application/julia",
   "name": "julia",
   "version": "1.11.2"
  }
 },
 "nbformat": 4,
 "nbformat_minor": 5
}
