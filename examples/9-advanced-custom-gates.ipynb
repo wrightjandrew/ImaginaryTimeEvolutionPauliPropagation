{
 "cells": [
  {
   "cell_type": "markdown",
   "id": "aab63cff-f83d-460e-af5d-016f733a8a2c",
   "metadata": {},
   "source": [
    "# Advanced - How to Define Custom Gates\n",
    "In an earlier example notebook, we showed you the basics of defining custom gates. The approach demonstrated there may already be enough for your purposes, and potentially already as efficient as possible. In this notebook, we will discuss the considerations that go into making high-performing gates. "
   ]
  },
  {
   "cell_type": "code",
   "execution_count": 1,
   "id": "24b8c034-9aae-46f4-86f2-d8e507862980",
   "metadata": {},
   "outputs": [],
   "source": [
    "using PauliPropagation"
   ]
  },
  {
   "cell_type": "markdown",
   "id": "368d66c9-482b-49fd-ba37-59a80cbaace4",
   "metadata": {},
   "source": [
    "### The SWAP example"
   ]
  },
  {
   "cell_type": "markdown",
   "id": "806aa6b8-db44-491c-97f6-e0bee9422dc4",
   "metadata": {},
   "source": [
    "Let us again consider the SWAP gate example"
   ]
  },
  {
   "cell_type": "code",
   "execution_count": 2,
   "id": "f90a37ff-02a7-4c17-aed4-16c756b160ec",
   "metadata": {},
   "outputs": [],
   "source": [
    "struct CustomSWAPGate <: StaticGate\n",
    "    qinds::Tuple{Int, Int}  # The two sites to be swapped\n",
    "end"
   ]
  },
  {
   "cell_type": "markdown",
   "id": "393501f4-f7ab-4e55-b837-d5d10bc551c2",
   "metadata": {},
   "source": [
    "Again define the action,"
   ]
  },
  {
   "cell_type": "code",
   "execution_count": 3,
   "id": "35ed72c7-291d-4b18-85a4-2274e02f4049",
   "metadata": {},
   "outputs": [],
   "source": [
    "function PauliPropagation.apply(gate::CustomSWAPGate, pstr, coeff; kwargs...)\n",
    "    # get the Pauli on the first site\n",
    "    pauli1 = getpauli(pstr, gate.qinds[1])\n",
    "    # get the Pauli on the second site\n",
    "    pauli2 = getpauli(pstr, gate.qinds[2])\n",
    "    \n",
    "    # set the Pauli on the first site to the second Pauli\n",
    "    pstr = setpauli(pstr, pauli2, gate.qinds[1])\n",
    "    # set the Pauli on the second site to the first Pauli\n",
    "    pstr = setpauli(pstr, pauli1, gate.qinds[2])\n",
    "\n",
    "    # apply() is always expected to return a tuple of (pstr, coeff) tuples\n",
    "    return tuple((pstr, coeff))\n",
    "end"
   ]
  },
  {
   "cell_type": "markdown",
   "id": "ef398df4-7e70-4400-9524-19567d427d5f",
   "metadata": {},
   "source": [
    "Now set up a bigger simulation with 25 qubits on a 5 by 5 grid."
   ]
  },
  {
   "cell_type": "code",
   "execution_count": 4,
   "id": "9b45bc3b-311f-4978-9504-24d7c241b136",
   "metadata": {},
   "outputs": [],
   "source": [
    "nx = 5\n",
    "ny = 5\n",
    "nq = nx * ny\n",
    "\n",
    "topology = rectangletopology(nx, ny);"
   ]
  },
  {
   "cell_type": "markdown",
   "id": "e6448192-6cb5-45ac-82a9-4db194bd2643",
   "metadata": {},
   "source": [
    "`nl` layers of a circuit consisting of `RX` and `RZZ` Pauli rotations."
   ]
  },
  {
   "cell_type": "code",
   "execution_count": 5,
   "id": "71dd80ab-19f2-4494-ab0d-cc12ba63d021",
   "metadata": {},
   "outputs": [
    {
     "data": {
      "text/plain": [
       "195"
      ]
     },
     "execution_count": 5,
     "metadata": {},
     "output_type": "execute_result"
    }
   ],
   "source": [
    "nl = 3\n",
    "base_circuit = tfitrottercircuit(nq, nl; topology=topology);\n",
    "nparams = countparameters(base_circuit)"
   ]
  },
  {
   "cell_type": "markdown",
   "id": "506e0615-b017-4965-b170-ff3b348682aa",
   "metadata": {},
   "source": [
    "Define our observable as $ Z_7 Z_{13} $."
   ]
  },
  {
   "cell_type": "code",
   "execution_count": 6,
   "id": "2339aaa9-0396-439c-9630-dfc8fe47610d",
   "metadata": {},
   "outputs": [
    {
     "data": {
      "text/plain": [
       "PauliString(nqubits: 25, 1.0 * IIIIIIZIIIIIZIIIIIII...)"
      ]
     },
     "execution_count": 6,
     "metadata": {},
     "output_type": "execute_result"
    }
   ],
   "source": [
    "pstr = PauliString(nq, [:Z, :Z], [7, 13])"
   ]
  },
  {
   "cell_type": "markdown",
   "id": "3865fa13-401d-4535-b47d-d3e77279b642",
   "metadata": {},
   "source": [
    "Circuit parameters with a random seed."
   ]
  },
  {
   "cell_type": "code",
   "execution_count": 7,
   "id": "685ea00f-eb72-4db8-bb67-74597b58c9cd",
   "metadata": {},
   "outputs": [],
   "source": [
    "using Random\n",
    "Random.seed!(42)\n",
    "thetas = randn(nparams);"
   ]
  },
  {
   "cell_type": "markdown",
   "id": "f5080ff7-6d7b-4d20-afbb-a1018f8176d9",
   "metadata": {},
   "source": [
    "For this notebook, we will use a minimum coefficient threshold. The results are still almost exact in this simple case."
   ]
  },
  {
   "cell_type": "code",
   "execution_count": 8,
   "id": "feb80991-ffec-465c-9f1b-56264de3b7c0",
   "metadata": {},
   "outputs": [
    {
     "data": {
      "text/plain": [
       "0.005"
      ]
     },
     "execution_count": 8,
     "metadata": {},
     "output_type": "execute_result"
    }
   ],
   "source": [
    "min_abs_coeff = 5e-3"
   ]
  },
  {
   "cell_type": "markdown",
   "id": "340a1dad-c8cd-463c-98a0-0c7ff62bce1f",
   "metadata": {},
   "source": [
    "Now add a 1D line of SWAP gates after the first and second layer of gates in the base circuit."
   ]
  },
  {
   "cell_type": "code",
   "execution_count": 9,
   "id": "66888fc5-1242-404e-a714-f40ba0173448",
   "metadata": {},
   "outputs": [
    {
     "data": {
      "text/plain": [
       "65"
      ]
     },
     "execution_count": 9,
     "metadata": {},
     "output_type": "execute_result"
    }
   ],
   "source": [
    "nparams_per_layer = Int(length(base_circuit)/nl)"
   ]
  },
  {
   "cell_type": "code",
   "execution_count": 10,
   "id": "66ac1a75-d250-4c1b-a465-d3cf2d6a2ef1",
   "metadata": {},
   "outputs": [],
   "source": [
    "ourSWAP_circuit = deepcopy(base_circuit);\n",
    "# first the second layer so the insertion indices don't change \n",
    "for qind in 1:(nq-1)\n",
    "    insert!(ourSWAP_circuit, 2*nparams_per_layer, CustomSWAPGate((qind, qind+1)))\n",
    "end\n",
    "for qind in 1:(nq-1)\n",
    "    insert!(ourSWAP_circuit, nparams_per_layer, CustomSWAPGate((qind, qind+1)))\n",
    "end"
   ]
  },
  {
   "cell_type": "markdown",
   "id": "56a533b4-d1e4-4464-a9af-5bda308e6b71",
   "metadata": {},
   "source": [
    "Run the circuit"
   ]
  },
  {
   "cell_type": "code",
   "execution_count": 11,
   "id": "680f31cc-29a3-4a15-9386-288588b1ef17",
   "metadata": {},
   "outputs": [
    {
     "name": "stdout",
     "output_type": "stream",
     "text": [
      "  0.375881 seconds (785.42 k allocations: 37.534 MiB, 99.65% compilation time)\n"
     ]
    },
    {
     "data": {
      "text/plain": [
       "PauliSum(nqubits: 25, 576 Pauli terms:\n",
       " 0.0053683 * IIIIYZIIIXYIIIZIIIII...\n",
       " -0.0069415 * ZIIZYXZIIZXXZIIIZIII...\n",
       " 0.080065 * IIIZYIIIIIYIIIIIIIII...\n",
       " -0.0085018 * IIIIIZIIIXYIIIIIIIII...\n",
       " -0.03761 * IIIZXZIIIZZIIIIIIIII...\n",
       " -0.0063894 * IIIZXIIIIZYYZIIIZIII...\n",
       " 0.022245 * IIIZYIIIIZYZIIIIIIII...\n",
       " 0.0070561 * IIIZXXIIIXXXZIZIZIII...\n",
       " 0.0071172 * IIIZYZIIIZYYZIIZZIII...\n",
       " -0.00951 * IIIIIZZIIYXXZIZZYIII...\n",
       " 0.007368 * IIIZXIIIIXYIIIZIIIII...\n",
       " 0.093232 * IIIZXIIIIXXIIIZZIIII...\n",
       " 0.016597 * IIIIZZIIIXYIIIZIIIII...\n",
       " -0.0058598 * ZIIIIXIIIYXZIIZIIIII...\n",
       " 0.0086098 * IIIIZIIIIXXIIIZZIIII...\n",
       " 0.046612 * IIIZXIIIIZXIIIIZIIII...\n",
       " 0.012269 * IIIZXZIIIZXIIIIIIIII...\n",
       " 0.056603 * IIIIIZZIIYXXZIZIZIII...\n",
       " -0.029879 * IIIIZXZIIIZZIIIIIIII...\n",
       " 0.015797 * ZIIIIYIIIYXXZIZIZIII...\n",
       "  ⋮)"
      ]
     },
     "execution_count": 11,
     "metadata": {},
     "output_type": "execute_result"
    }
   ],
   "source": [
    "@time ourSWAP_psum = propagate(ourSWAP_circuit, pstr, thetas; min_abs_coeff=min_abs_coeff)"
   ]
  },
  {
   "cell_type": "markdown",
   "id": "2e08a041-a4f6-4aad-b327-fede3ea757a8",
   "metadata": {},
   "source": [
    "Overlap with the zero-state:"
   ]
  },
  {
   "cell_type": "code",
   "execution_count": 12,
   "id": "b1b2e630-7514-4f55-a577-b8a4b7a05c6b",
   "metadata": {},
   "outputs": [
    {
     "data": {
      "text/plain": [
       "-0.7211301948203009"
      ]
     },
     "execution_count": 12,
     "metadata": {},
     "output_type": "execute_result"
    }
   ],
   "source": [
    "overlapwithzero(ourSWAP_psum)"
   ]
  },
  {
   "cell_type": "markdown",
   "id": "707022ac-48c4-4cd8-b834-631b94f46aef",
   "metadata": {},
   "source": [
    "We already mentioned that `PauliPropagation.jl` contains a `CliffordGate` implementation of SWAP. Let's implement the same thing and compare performance."
   ]
  },
  {
   "cell_type": "code",
   "execution_count": 13,
   "id": "0f0737df-4232-4f04-81fb-677f414e7a10",
   "metadata": {},
   "outputs": [],
   "source": [
    "cliffSWAP_circuit = deepcopy(base_circuit);\n",
    "for qind in 1:(nq-1)\n",
    "    insert!(cliffSWAP_circuit, 2*nparams_per_layer, CliffordGate(:SWAP, (qind, qind+1)))\n",
    "end\n",
    "for qind in 1:(nq-1)\n",
    "    insert!(cliffSWAP_circuit, nparams_per_layer, CliffordGate(:SWAP, (qind, qind+1)))\n",
    "end"
   ]
  },
  {
   "cell_type": "code",
   "execution_count": 14,
   "id": "311683e3-8694-463d-a5a7-f3c3e2fd85d9",
   "metadata": {},
   "outputs": [
    {
     "name": "stdout",
     "output_type": "stream",
     "text": [
      "  0.042016 seconds (82.73 k allocations: 4.122 MiB, 97.09% compilation time)\n"
     ]
    }
   ],
   "source": [
    "@time cliffSWAP_psum = propagate(cliffSWAP_circuit, pstr, thetas; min_abs_coeff=min_abs_coeff);"
   ]
  },
  {
   "cell_type": "markdown",
   "id": "eb00879d-4fe0-4085-b0e7-92047a660171",
   "metadata": {},
   "source": [
    "Are the results the same?"
   ]
  },
  {
   "cell_type": "code",
   "execution_count": 15,
   "id": "26f57f19-0a51-45de-b0d2-d4277d68f336",
   "metadata": {},
   "outputs": [
    {
     "data": {
      "text/plain": [
       "-0.7211301948203009"
      ]
     },
     "execution_count": 15,
     "metadata": {},
     "output_type": "execute_result"
    }
   ],
   "source": [
    "overlapwithzero(cliffSWAP_psum)"
   ]
  },
  {
   "cell_type": "code",
   "execution_count": 16,
   "id": "3575568f-797f-41cd-9465-c498e3d30cd5",
   "metadata": {},
   "outputs": [
    {
     "data": {
      "text/plain": [
       "true"
      ]
     },
     "execution_count": 16,
     "metadata": {},
     "output_type": "execute_result"
    }
   ],
   "source": [
    "cliffSWAP_psum == ourSWAP_psum"
   ]
  },
  {
   "cell_type": "markdown",
   "id": "662a8cfb-1d51-4484-934b-154f2eff1863",
   "metadata": {},
   "source": [
    "Yes!"
   ]
  },
  {
   "cell_type": "markdown",
   "id": "6da382af-6dca-4676-8b1c-4deb5b473387",
   "metadata": {},
   "source": [
    "We can also benchmark the performance."
   ]
  },
  {
   "cell_type": "code",
   "execution_count": 17,
   "id": "45066059-b559-4a84-9071-da75dd0c4d43",
   "metadata": {},
   "outputs": [],
   "source": [
    "using BenchmarkTools"
   ]
  },
  {
   "cell_type": "code",
   "execution_count": 18,
   "id": "d6acda62-3919-4ad4-b43d-066064cdc9d5",
   "metadata": {},
   "outputs": [
    {
     "name": "stdout",
     "output_type": "stream",
     "text": [
      "  1.103 ms (1030 allocations: 158.00 KiB)\n"
     ]
    }
   ],
   "source": [
    "@btime propagate($ourSWAP_circuit, $pstr, $thetas; min_abs_coeff=$min_abs_coeff);"
   ]
  },
  {
   "cell_type": "code",
   "execution_count": 19,
   "id": "ef88fc28-4249-4969-b619-ebb20c25f60f",
   "metadata": {},
   "outputs": [
    {
     "name": "stdout",
     "output_type": "stream",
     "text": [
      "  1.145 ms (1030 allocations: 158.00 KiB)\n"
     ]
    }
   ],
   "source": [
    "@btime propagate($cliffSWAP_circuit, $pstr, $thetas; min_abs_coeff=$min_abs_coeff);"
   ]
  },
  {
   "cell_type": "markdown",
   "id": "10674764-e12b-4473-991c-162c5414db30",
   "metadata": {},
   "source": [
    "No downside at all from defining our custom gate. How? This is because the `apply` function for this gate is *type stable*! Type stability is absolutely crucial in Julia, and codes live and die by it."
   ]
  },
  {
   "cell_type": "code",
   "execution_count": 20,
   "id": "02c2812a-6a65-4e30-92c3-6390595a4b7b",
   "metadata": {},
   "outputs": [
    {
     "name": "stdout",
     "output_type": "stream",
     "text": [
      "MethodInstance for apply(::CustomSWAPGate, ::UInt64, ::Float64, ::Float64)\n",
      "  from apply(\u001b[90mgate\u001b[39m::\u001b[1mSG\u001b[22m, \u001b[90mpstr\u001b[39m, \u001b[90mcoeff\u001b[39m, \u001b[90mtheta\u001b[39m; kwargs...) where SG<:StaticGate\u001b[90m @\u001b[39m \u001b[90mPauliPropagation\u001b[39m \u001b[90m~/.julia/dev/PauliPropagation/src/Propagation/\u001b[39m\u001b[90m\u001b[4mgenerics.jl:172\u001b[24m\u001b[39m\n",
      "Static Parameters\n",
      "  SG = \u001b[36mCustomSWAPGate\u001b[39m\n",
      "Arguments\n",
      "  #self#\u001b[36m::Core.Const(PauliPropagation.apply)\u001b[39m\n",
      "  gate\u001b[36m::CustomSWAPGate\u001b[39m\n",
      "  pstr\u001b[36m::UInt64\u001b[39m\n",
      "  coeff\u001b[36m::Float64\u001b[39m\n",
      "  theta\u001b[36m::Float64\u001b[39m\n",
      "Body\u001b[36m::Tuple{Tuple{UInt64, Float64}}\u001b[39m\n",
      "\u001b[90m1 ─\u001b[39m %1 = PauliPropagation.:(var\"#apply#118\")\u001b[36m::Core.Const(PauliPropagation.var\"#apply#118\")\u001b[39m\n",
      "\u001b[90m│  \u001b[39m %2 = Core.NamedTuple()\u001b[36m::Core.Const(NamedTuple())\u001b[39m\n",
      "\u001b[90m│  \u001b[39m %3 = Base.pairs(%2)\u001b[36m::Core.Const(Base.Pairs{Symbol, Union{}, Tuple{}, @NamedTuple{}}())\u001b[39m\n",
      "\u001b[90m│  \u001b[39m %4 = (%1)(%3, #self#, gate, pstr, coeff, theta)\u001b[36m::Tuple{Tuple{UInt64, Float64}}\u001b[39m\n",
      "\u001b[90m└──\u001b[39m      return %4\n",
      "\n"
     ]
    }
   ],
   "source": [
    "@code_warntype apply(CustomSWAPGate((7, 8)), pstr.term, 0.0, 1.0)"
   ]
  },
  {
   "cell_type": "markdown",
   "id": "f39db31a-5e62-4708-abc8-a22d35511873",
   "metadata": {},
   "source": [
    "All blue means that everything is great! If correctly implemented, `apply` will be type stable if it returns a known number of Pauli and coefficient pairs. Here it is just 1 because it is a Clifford gate."
   ]
  },
  {
   "cell_type": "markdown",
   "id": "2fa419a7-6dac-4deb-be3f-fee383f28714",
   "metadata": {},
   "source": [
    "### A gate that branches into more than one Pauli string"
   ]
  },
  {
   "cell_type": "markdown",
   "id": "1db75113-7169-47cf-a893-c921a79bf96e",
   "metadata": {},
   "source": [
    "Onto an example of a gate that can _split_ a Pauli string into two: The `T` gate."
   ]
  },
  {
   "cell_type": "code",
   "execution_count": 21,
   "id": "88d9d612-60ed-4b75-ab89-caa0706ec319",
   "metadata": {},
   "outputs": [],
   "source": [
    "struct CustomTGate <: StaticGate\n",
    "    qind::Int\n",
    "end"
   ]
  },
  {
   "cell_type": "markdown",
   "id": "55e3ef4b-05c6-4d6d-a464-4e6e07af0a71",
   "metadata": {},
   "source": [
    "A `T` gate is a non-Clifford gate that commutes with `I` and `Z`, splits `X` into `cos(π/4)X - sin(π/4)Y`, and `Y` into `cos(π/4)Y + sin(π/4)X` (in the Heisenberg picture). \n",
    "\n",
    "Let's write the code for that."
   ]
  },
  {
   "cell_type": "code",
   "execution_count": 22,
   "id": "fcc87e99-9e9f-491e-a37b-82c6dcf2a712",
   "metadata": {},
   "outputs": [],
   "source": [
    "function PauliPropagation.apply(gate::CustomTGate, pstr, coeff; kwargs...)\n",
    "    # get the Pauli on the site `gate.qind`\n",
    "    pauli = getpauli(pstr, gate.qind)\n",
    "    \n",
    "    if pauli == 0 || pauli == 3  # I or Z commute\n",
    "        # return a tuple of one (pstr, coeff) tuple\n",
    "        return tuple((pstr, coeff))     \n",
    "    end\n",
    "    \n",
    "    if pauli == 1 # X goes to X, -Y\n",
    "        new_pauli = 2  # Y\n",
    "        # set the Pauli\n",
    "        new_pstr = setpauli(pstr, new_pauli, gate.qind)\n",
    "        # adapt the coefficients\n",
    "        new_coeff = -1 * coeff * sin(π/4)\n",
    "        \n",
    "    else # Y goes to Y, X\n",
    "        new_pauli = 1  # X\n",
    "        # set the Pauli\n",
    "        new_pstr = setpauli(pstr, new_pauli, gate.qind)\n",
    "        # adapt the coefficients\n",
    "        new_coeff = coeff * sin(π/4)\n",
    "    end\n",
    "\n",
    "    updated_coeff = coeff * cos(π/4)\n",
    "\n",
    "    # return a tuple of two (pstr, coeff) tuples\n",
    "    return tuple((pstr, updated_coeff), (new_pstr, new_coeff))\n",
    "    \n",
    "end"
   ]
  },
  {
   "cell_type": "markdown",
   "id": "f770b479-d5b9-4e56-b834-99c956ae392f",
   "metadata": {},
   "source": [
    "Insert a layer of `TGate`s after the first layer of the base circuit."
   ]
  },
  {
   "cell_type": "code",
   "execution_count": 23,
   "id": "4d254e83-d25f-40bc-b2e2-ff7108356f52",
   "metadata": {},
   "outputs": [],
   "source": [
    "ourT_circuit = deepcopy(base_circuit);\n",
    "for qind in 1:nq\n",
    "    insert!(ourT_circuit, 2*nparams_per_layer, CustomTGate(qind))\n",
    "end\n",
    "for qind in 1:nq\n",
    "    insert!(ourT_circuit, nparams_per_layer, CustomTGate(qind))\n",
    "end"
   ]
  },
  {
   "cell_type": "markdown",
   "id": "02671bf7-d072-4a57-9acf-8861c061e60c",
   "metadata": {},
   "source": [
    "And run:"
   ]
  },
  {
   "cell_type": "code",
   "execution_count": 24,
   "id": "08f545e3-e904-4509-8284-e6caaba58eb3",
   "metadata": {},
   "outputs": [
    {
     "name": "stdout",
     "output_type": "stream",
     "text": [
      "  0.040504 seconds (72.30 k allocations: 3.653 MiB, 89.10% compilation time)\n"
     ]
    },
    {
     "data": {
      "text/plain": [
       "PauliSum(nqubits: 25, 1702 Pauli terms:\n",
       " 0.014863 * IIIIIIZZIIIIXZIIIXZI...\n",
       " -0.032827 * IZIIIZYZIIIZYZIIIZII...\n",
       " 0.0058029 * IZZIIIIYIIIZXZIIIZII...\n",
       " 0.0054978 * IZIIIYXZIIIXXIIIZZII...\n",
       " -0.014213 * IIIIIIXIZIIZYYIIIYII...\n",
       " -0.0073527 * IIIIIIIIZIIYXYIIZXII...\n",
       " 0.0075631 * IIIIIIIIIIIXXZIIIYZI...\n",
       " -0.0090057 * IZIIIIZYIIIZXIIIIZII...\n",
       " -0.053549 * IIIIIZXZIIIZXZIIIZII...\n",
       " 0.01401 * IZIIIYXYIIIZYZIIIZII...\n",
       " 0.0097479 * IIIIIIXIZIIIXYIIIZZI...\n",
       " 0.019155 * IIIIIIXIIIIZXZIIIXZI...\n",
       " 0.011572 * IIIIIIYZZIIXXXZIZZZI...\n",
       " 0.0090639 * IIIIIZXIIIIYZIIIZYII...\n",
       " -0.0069645 * IZIIIXIZIIIZYIIIIZII...\n",
       " 0.0061054 * IIIIIXIIIIIIZIIIIIII...\n",
       " 0.031437 * IZIIIZYIIIIIXZIIIZII...\n",
       " -0.0056792 * IIIIIIZZZIIXYYIIZYII...\n",
       " 0.005949 * IZIIIIYZIIIXXZIIZYZI...\n",
       " -0.0075995 * IIIIIIYZIIIIYIIIIYZI...\n",
       "  ⋮)"
      ]
     },
     "execution_count": 24,
     "metadata": {},
     "output_type": "execute_result"
    }
   ],
   "source": [
    "@time ourT_psum = propagate(ourT_circuit, pstr, thetas; min_abs_coeff=min_abs_coeff)"
   ]
  },
  {
   "cell_type": "code",
   "execution_count": 25,
   "id": "0ecdf08b-0d83-490b-974c-e361f51f4d5a",
   "metadata": {},
   "outputs": [
    {
     "data": {
      "text/plain": [
       "0.33262899358840403"
      ]
     },
     "execution_count": 25,
     "metadata": {},
     "output_type": "execute_result"
    }
   ],
   "source": [
    "overlapwithzero(ourT_psum)"
   ]
  },
  {
   "cell_type": "markdown",
   "id": "c8e92904-891a-4452-ac23-dda32b524476",
   "metadata": {},
   "source": [
    "But did it work? Again, we have an implementation of a `TGate` in our library. In case you are interested, we currently implement `T` gates as Pauli `Z` rotations at an angle of `π/4`. Let's compare to that."
   ]
  },
  {
   "cell_type": "code",
   "execution_count": 26,
   "id": "16581d14-e8a6-4edf-8dfa-9dda89a3d402",
   "metadata": {},
   "outputs": [],
   "source": [
    "libraryT_circuit = deepcopy(base_circuit);\n",
    "for qind in 1:nq\n",
    "    insert!(libraryT_circuit, 2*nparams_per_layer, TGate(qind))\n",
    "end\n",
    "for qind in 1:nq\n",
    "    insert!(libraryT_circuit, nparams_per_layer, TGate(qind))\n",
    "end"
   ]
  },
  {
   "cell_type": "markdown",
   "id": "8ac418c2-c31b-4c00-bbe7-3d9b7a6cb850",
   "metadata": {},
   "source": [
    "If you call `PauliGate(:Z, qind, parameter)`, this will create a so-called `FrozenGate` wrapping the parametrized `PauliGate`, with a fixed `parameter` at the time of circuit construction.\n",
    "\n",
    "Run it and compare"
   ]
  },
  {
   "cell_type": "code",
   "execution_count": 27,
   "id": "19679bd0-8c89-4af3-919e-3dfc249923a4",
   "metadata": {},
   "outputs": [
    {
     "name": "stdout",
     "output_type": "stream",
     "text": [
      "  0.009682 seconds (9.65 k allocations: 766.672 KiB, 54.55% compilation time)\n"
     ]
    }
   ],
   "source": [
    "@time libraryT_psum = propagate(libraryT_circuit, pstr, thetas; min_abs_coeff=min_abs_coeff);"
   ]
  },
  {
   "cell_type": "code",
   "execution_count": 28,
   "id": "efcbaa05-baa7-4ae7-a6f2-779e8fac4792",
   "metadata": {},
   "outputs": [
    {
     "data": {
      "text/plain": [
       "0.33262899358840403"
      ]
     },
     "execution_count": 28,
     "metadata": {},
     "output_type": "execute_result"
    }
   ],
   "source": [
    "overlapwithzero(libraryT_psum)"
   ]
  },
  {
   "cell_type": "code",
   "execution_count": 29,
   "id": "0954d8e9-300b-49f0-afb6-e9b6587a0af4",
   "metadata": {},
   "outputs": [
    {
     "data": {
      "text/plain": [
       "true"
      ]
     },
     "execution_count": 29,
     "metadata": {},
     "output_type": "execute_result"
    }
   ],
   "source": [
    "libraryT_psum == ourT_psum"
   ]
  },
  {
   "cell_type": "markdown",
   "id": "77e73cc9-38ad-419e-852e-8c57a6f00ac9",
   "metadata": {},
   "source": [
    "It works! But is it optimal?"
   ]
  },
  {
   "cell_type": "code",
   "execution_count": 30,
   "id": "16666081-9ba9-4a7d-b9c6-f212f43fb425",
   "metadata": {},
   "outputs": [],
   "source": [
    "using BenchmarkTools"
   ]
  },
  {
   "cell_type": "code",
   "execution_count": 31,
   "id": "35d231ce-6fb3-460d-a7cc-82f4874d1686",
   "metadata": {},
   "outputs": [
    {
     "name": "stdout",
     "output_type": "stream",
     "text": [
      "  4.128 ms (1045 allocations: 273.09 KiB)\n"
     ]
    }
   ],
   "source": [
    "@btime propagate($ourT_circuit, $pstr, $thetas;min_abs_coeff=$min_abs_coeff);"
   ]
  },
  {
   "cell_type": "code",
   "execution_count": 32,
   "id": "1814be39-2c06-4b84-b7be-1639b96a8d40",
   "metadata": {},
   "outputs": [
    {
     "name": "stdout",
     "output_type": "stream",
     "text": [
      "  4.182 ms (1250 allocations: 326.22 KiB)\n"
     ]
    }
   ],
   "source": [
    "@btime propagate($libraryT_circuit, $pstr, $thetas; min_abs_coeff=$min_abs_coeff);"
   ]
  },
  {
   "cell_type": "markdown",
   "id": "7281edad-d506-4378-898a-39dcb1dc3dd0",
   "metadata": {},
   "source": [
    "No, because `apply` for the `CustomTGate` is not type-stable."
   ]
  },
  {
   "cell_type": "code",
   "execution_count": 33,
   "id": "3c9d93f5-c697-4452-8e4e-c563817dacf9",
   "metadata": {},
   "outputs": [
    {
     "name": "stdout",
     "output_type": "stream",
     "text": [
      "MethodInstance for apply(::CustomTGate, ::UInt64, ::Float64)\n",
      "  from apply(\u001b[90mgate\u001b[39m::\u001b[1mCustomTGate\u001b[22m, \u001b[90mpstr\u001b[39m, \u001b[90mcoeff\u001b[39m; kwargs...)\u001b[90m @\u001b[39m \u001b[90mMain\u001b[39m \u001b[90m\u001b[4mIn[22]:1\u001b[24m\u001b[39m\n",
      "Arguments\n",
      "  #self#\u001b[36m::Core.Const(PauliPropagation.apply)\u001b[39m\n",
      "  gate\u001b[36m::CustomTGate\u001b[39m\n",
      "  pstr\u001b[36m::UInt64\u001b[39m\n",
      "  coeff\u001b[36m::Float64\u001b[39m\n",
      "Body\u001b[33m\u001b[1m::Union{Tuple{Tuple{UInt64, Float64}}, Tuple{Tuple{UInt64, Float64}, Tuple{UInt64, Float64}}}\u001b[22m\u001b[39m\n",
      "\u001b[90m1 ─\u001b[39m %1 = Main.:(var\"#apply#2\")\u001b[36m::Core.Const(Main.var\"#apply#2\")\u001b[39m\n",
      "\u001b[90m│  \u001b[39m %2 = Core.NamedTuple()\u001b[36m::Core.Const(NamedTuple())\u001b[39m\n",
      "\u001b[90m│  \u001b[39m %3 = Base.pairs(%2)\u001b[36m::Core.Const(Base.Pairs{Symbol, Union{}, Tuple{}, @NamedTuple{}}())\u001b[39m\n",
      "\u001b[90m│  \u001b[39m %4 = (%1)(%3, #self#, gate, pstr, coeff)\u001b[33m\u001b[1m::Union{Tuple{Tuple{UInt64, Float64}}, Tuple{Tuple{UInt64, Float64}, Tuple{UInt64, Float64}}}\u001b[22m\u001b[39m\n",
      "\u001b[90m└──\u001b[39m      return %4\n",
      "\n"
     ]
    }
   ],
   "source": [
    "@code_warntype apply(CustomTGate(7), pstr.term, 0.0)"
   ]
  },
  {
   "cell_type": "markdown",
   "id": "ca74659f-9b55-4d71-94da-c086ba0a2e61",
   "metadata": {},
   "source": [
    "------------------------------------------------------------"
   ]
  },
  {
   "cell_type": "markdown",
   "id": "db24b4f3-7ce3-44cc-9a02-a0135a33871a",
   "metadata": {},
   "source": [
    "#### NOTE:\n",
    "Due to ongoing changes in the code base and unclear compiler optimizations, this example works \"better than expected\". Please stay put and feel free pretending like this function was slower than our implementation. In earlier versions of the code it was, and for other gates it may still be."
   ]
  },
  {
   "cell_type": "markdown",
   "id": "194cfdca-266d-40e5-821c-aaf7023bd706",
   "metadata": {},
   "source": [
    "------------------------------------------------------------"
   ]
  },
  {
   "cell_type": "markdown",
   "id": "91a107e7-3991-4fca-9e53-4c6884f5eccc",
   "metadata": {},
   "source": [
    "It either returns a tuple of one tuple `Tuple{Tuple{UInt64, Float64}}` or a tuple of two tuples `Tuple{Tuple{UInt64, Float64}, Tuple{UInt64, Float64}}`. Yellow `@code_warntype` output means it might be okay (it is not that much slower after all), but be wary of red. When this is the case, you may want to define some more involved functions above `apply()` for optimal performance. This is how we would do it. "
   ]
  },
  {
   "cell_type": "markdown",
   "id": "6e9f958d-98f4-48ac-84f1-808b192263ed",
   "metadata": {},
   "source": [
    "To avoid such type instabilities, we can overload a slightly higher level function `applyandadd!()`, which does the job of `apply()`, but as the name hints, also adds the created Pauli strings to the propagating Pauli sum. We can practically copy-paste the code from `apply()`, but the only difference being that we don't return anything, but `add!()` the Pauli strings to the `output_psum`. Be mindful of the fact that the function signature needs to be exactly like this. Even though you might not need a parameter `theta`, it needs to be received by your function."
   ]
  },
  {
   "cell_type": "code",
   "execution_count": 34,
   "id": "0cba0b07-f1a6-4ace-90b9-22f28c615e75",
   "metadata": {},
   "outputs": [],
   "source": [
    "function PauliPropagation.applyandadd!(gate::CustomTGate, pstr, coeff, theta, output_psum; kwargs...)\n",
    "    \n",
    "    pauli = getpauli(pstr, gate.qind)\n",
    "    \n",
    "    if pauli == 0 || pauli == 3  # I or Z commute\n",
    "        add!(output_psum, pstr, coeff)\n",
    "        return\n",
    "    end\n",
    "\n",
    "    if pauli == 1 # X goes to X, -Y\n",
    "        new_pauli = 2  # Y\n",
    "        new_pstr = setpauli(pstr, new_pauli, gate.qind)\n",
    "        new_coeff = -1 * coeff * sin(π/4)\n",
    "    else # Y goes to Y, X\n",
    "        new_pauli = 1  # X\n",
    "        new_pstr = setpauli(pstr, new_pauli, gate.qind)\n",
    "        new_coeff = coeff * sin(π/4)\n",
    "    end\n",
    "\n",
    "    updated_coeff = coeff * cos(π/4)\n",
    "    \n",
    "    add!(output_psum, pstr, updated_coeff)\n",
    "    add!(output_psum, new_pstr, new_coeff)\n",
    "\n",
    "    return\n",
    "end"
   ]
  },
  {
   "cell_type": "markdown",
   "id": "45f29574-4989-4d96-a89a-ce0662c88cff",
   "metadata": {},
   "source": [
    "This should resolve the slight type instability. Let's see if it worked and gives the same results."
   ]
  },
  {
   "cell_type": "code",
   "execution_count": 35,
   "id": "8aa12e1b-4723-465f-8e3b-d67cd9583751",
   "metadata": {},
   "outputs": [
    {
     "name": "stdout",
     "output_type": "stream",
     "text": [
      "  0.038371 seconds (39.50 k allocations: 2.093 MiB, 88.99% compilation time: 100% of which was recompilation)\n"
     ]
    }
   ],
   "source": [
    "@time ourT_psum2 = propagate(ourT_circuit, pstr, thetas; min_abs_coeff=min_abs_coeff);"
   ]
  },
  {
   "cell_type": "code",
   "execution_count": 36,
   "id": "84e4c3f3-10a0-4360-8203-3142bd622e51",
   "metadata": {},
   "outputs": [
    {
     "data": {
      "text/plain": [
       "0.33262899358840403"
      ]
     },
     "execution_count": 36,
     "metadata": {},
     "output_type": "execute_result"
    }
   ],
   "source": [
    "overlapwithzero(ourT_psum2)"
   ]
  },
  {
   "cell_type": "code",
   "execution_count": 37,
   "id": "da5b87ee-d5c1-4b60-9a8d-2eefc86398bc",
   "metadata": {},
   "outputs": [
    {
     "data": {
      "text/plain": [
       "true"
      ]
     },
     "execution_count": 37,
     "metadata": {},
     "output_type": "execute_result"
    }
   ],
   "source": [
    "ourT_psum == ourT_psum2"
   ]
  },
  {
   "cell_type": "markdown",
   "id": "542160bf-ed60-4873-a2b4-279ac373725e",
   "metadata": {},
   "source": [
    "And check the performance."
   ]
  },
  {
   "cell_type": "code",
   "execution_count": 38,
   "id": "20ddecd7-6e1d-4f47-8f9e-c79842c62c18",
   "metadata": {},
   "outputs": [
    {
     "name": "stdout",
     "output_type": "stream",
     "text": [
      "  6.489 ms (1045 allocations: 273.09 KiB)\n"
     ]
    }
   ],
   "source": [
    "@btime propagate($ourT_circuit, $pstr, $thetas; min_abs_coeff=$min_abs_coeff);"
   ]
  },
  {
   "cell_type": "code",
   "execution_count": 39,
   "id": "3227f9a3-1351-4023-abae-0b2ce38ff215",
   "metadata": {},
   "outputs": [
    {
     "name": "stdout",
     "output_type": "stream",
     "text": [
      "  6.511 ms (1250 allocations: 326.22 KiB)\n"
     ]
    }
   ],
   "source": [
    "@btime propagate($libraryT_circuit, $pstr, $thetas; min_abs_coeff=$min_abs_coeff);"
   ]
  },
  {
   "cell_type": "markdown",
   "id": "f3c51c78-721f-42e9-8113-78d74ed0e7f9",
   "metadata": {},
   "source": [
    "This is already much better and quite fast. But we still see that it is a bit slower than our inbuilt `TGate`. How so? The answer lies in the fact that we move Pauli strings more than necessary. Because the runtime of the T-gate simulation is dominated by commutation (because I is very comon for local observables), we could leave those commuting Pauli strings where they are -> in their original Pauli sum. For this, we can overload the function `applytoall!()`, which differs in that one performs the loop over the Pauli strings in the Pauli sum here, and one can thus use the old Pauli sum more flexibly. Our convention is that anything left in `psum` or `aux_psum` is later merged back into `psum`. Thus, we can simply skip the commuting Pauli strings, and edit the coefficient of Pauli strings in-place. See this version of the function:"
   ]
  },
  {
   "cell_type": "code",
   "execution_count": 40,
   "id": "24be4e54-be2e-4e35-b615-d290abfc7f42",
   "metadata": {},
   "outputs": [],
   "source": [
    "function PauliPropagation.applytoall!(gate::CustomTGate, theta, psum, aux_psum; kwargs...)\n",
    "    \n",
    "    for (pstr, coeff) in psum \n",
    "    \n",
    "        pauli = getpauli(pstr, gate.qind)\n",
    "\n",
    "        if pauli == 0 || pauli == 3  # I or Z commute\n",
    "            # do nothing\n",
    "            continue\n",
    "        end\n",
    "\n",
    "        if pauli == 1 # X goes to X, -Y\n",
    "            new_pauli = 2  # Y\n",
    "            new_pstr = setpauli(pstr, new_pauli, gate.qind)\n",
    "            new_coeff = -1 * coeff * sin(π/4)\n",
    "        else # Y goes to Y, X\n",
    "            new_pauli = 1  # X\n",
    "            new_pstr = setpauli(pstr, new_pauli, gate.qind)\n",
    "            new_coeff = coeff * sin(π/4)\n",
    "        end\n",
    "\n",
    "        updated_coeff = coeff * cos(π/4)\n",
    "\n",
    "        set!(psum, pstr, updated_coeff)\n",
    "        set!(aux_psum, new_pstr, new_coeff)\n",
    "    end\n",
    "    return\n",
    "end"
   ]
  },
  {
   "cell_type": "code",
   "execution_count": 41,
   "id": "bcfedac5-724f-4f75-9f5c-030e134d7bb6",
   "metadata": {},
   "outputs": [
    {
     "name": "stdout",
     "output_type": "stream",
     "text": [
      "  0.065850 seconds (29.42 k allocations: 1.681 MiB, 89.81% compilation time: 100% of which was recompilation)\n"
     ]
    }
   ],
   "source": [
    "@time ourT_psum2 = propagate(ourT_circuit, pstr, thetas; min_abs_coeff=min_abs_coeff);"
   ]
  },
  {
   "cell_type": "code",
   "execution_count": 42,
   "id": "3b34fa4d-ab30-444a-8a56-8f7f96e46653",
   "metadata": {},
   "outputs": [
    {
     "data": {
      "text/plain": [
       "0.33262899358840403"
      ]
     },
     "execution_count": 42,
     "metadata": {},
     "output_type": "execute_result"
    }
   ],
   "source": [
    "overlapwithzero(ourT_psum2)"
   ]
  },
  {
   "cell_type": "code",
   "execution_count": 43,
   "id": "28c33117-711a-4100-9e82-830e5420537f",
   "metadata": {},
   "outputs": [
    {
     "data": {
      "text/plain": [
       "true"
      ]
     },
     "execution_count": 43,
     "metadata": {},
     "output_type": "execute_result"
    }
   ],
   "source": [
    "ourT_psum == ourT_psum2"
   ]
  },
  {
   "cell_type": "markdown",
   "id": "2d78a316-4114-4e2e-ab76-e6cd78514b5f",
   "metadata": {},
   "source": [
    "And check the performance."
   ]
  },
  {
   "cell_type": "code",
   "execution_count": 44,
   "id": "98e4d134-c16a-404c-ac2b-bf31eee81e96",
   "metadata": {},
   "outputs": [
    {
     "name": "stdout",
     "output_type": "stream",
     "text": [
      "  6.558 ms (1050 allocations: 319.97 KiB)\n"
     ]
    }
   ],
   "source": [
    "@btime propagate($ourT_circuit, $pstr, $thetas; min_abs_coeff=$min_abs_coeff);"
   ]
  },
  {
   "cell_type": "code",
   "execution_count": 45,
   "id": "00f40e4e-8504-4580-8fe3-87261158d2f3",
   "metadata": {},
   "outputs": [
    {
     "name": "stdout",
     "output_type": "stream",
     "text": [
      "  6.523 ms (1250 allocations: 326.22 KiB)\n"
     ]
    }
   ],
   "source": [
    "@btime propagate($libraryT_circuit, $pstr, $thetas; min_abs_coeff=$min_abs_coeff);"
   ]
  },
  {
   "cell_type": "markdown",
   "id": "53c1bbce-e5bd-4e94-a389-d8b0c19e7d96",
   "metadata": {},
   "source": [
    "Enjoy defining custom and high-performance gates! "
   ]
  }
 ],
 "metadata": {
  "kernelspec": {
   "display_name": "Julia 1.11.2",
   "language": "julia",
   "name": "julia-1.11"
  },
  "language_info": {
   "file_extension": ".jl",
   "mimetype": "application/julia",
   "name": "julia",
   "version": "1.11.2"
  }
 },
 "nbformat": 4,
 "nbformat_minor": 5
}
