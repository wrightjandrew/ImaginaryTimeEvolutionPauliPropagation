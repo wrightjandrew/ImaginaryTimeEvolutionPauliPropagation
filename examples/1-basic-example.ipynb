{
 "cells": [
  {
   "cell_type": "markdown",
   "id": "de85c434-1248-4264-9c4f-47b7d5763840",
   "metadata": {},
   "source": [
    "# Basic Example Notebook\n",
    "Hello and welcome to `PauliPropagation.jl` - a Julia package for Pauli propagation simulation of quantum circuits and quantum systems.\n",
    "\n",
    "This package can be used to estimate quantities like\n",
    "$ \\text{Tr}[\\rho \\ \\mathcal{E}(O)] $\n",
    "where $\\rho$ is an initial state, $\\mathcal{E}$ is a quantum channel that is not necessarily unitary, and $O$ is an observable preferrably sparse in Pauli basis.\n",
    "\n",
    "In the following we are going to introduce the basic concepts and datatypes of the package."
   ]
  },
  {
   "cell_type": "code",
   "execution_count": 1,
   "id": "647b2634",
   "metadata": {},
   "outputs": [],
   "source": [
    "using PauliPropagation"
   ]
  },
  {
   "cell_type": "markdown",
   "id": "0c72b650-8497-443f-8919-f839b0f318b2",
   "metadata": {},
   "source": [
    "Define the number of qubits in the simulation."
   ]
  },
  {
   "cell_type": "code",
   "execution_count": 2,
   "id": "6b7e0352",
   "metadata": {},
   "outputs": [
    {
     "data": {
      "text/plain": [
       "64"
      ]
     },
     "metadata": {},
     "output_type": "display_data"
    }
   ],
   "source": [
    "nq = 64"
   ]
  },
  {
   "cell_type": "markdown",
   "id": "573f1cf8-e21b-4180-9cb4-50d873caa857",
   "metadata": {},
   "source": [
    "Now define the observable $O = Z_{32} = I_1 \\otimes ... \\otimes I_{31} \\otimes Z_{32} \\otimes Z_{33} \\otimes I_{33}... \\otimes I_{64}$.\n",
    "\n",
    "The `PauliString` type is our high-level way of handling Pauli strings. This above constructor defines a `PauliString` that has the only non-Identity Pauli at position 32.\n",
    "\n",
    "This library uses encodes Paulis into the bits of Integers for performance reasons, and also actions of gates onto Paulis are defined as bit operations. You can definitely get by just sticking to the high level interface. Check out some other example notebooks for more involved code."
   ]
  },
  {
   "cell_type": "code",
   "execution_count": 3,
   "id": "b8d96c9c",
   "metadata": {},
   "outputs": [
    {
     "data": {
      "text/plain": [
       "PauliString(nqubits: 64, 1.0 * IIIIIIIIIIIIIIIIIIII...)"
      ]
     },
     "metadata": {},
     "output_type": "display_data"
    }
   ],
   "source": [
    "pstr = PauliString(nq, :Z, 32)"
   ]
  },
  {
   "cell_type": "markdown",
   "id": "0c418fbb-a784-4469-90fe-db13eadfed0a",
   "metadata": {},
   "source": [
    "As another example, this what it prints for a 4-qubit example with a different coefficient:"
   ]
  },
  {
   "cell_type": "code",
   "execution_count": 4,
   "id": "a28dcf1f-ce43-4344-8f5e-5bc53e00d260",
   "metadata": {},
   "outputs": [
    {
     "data": {
      "text/plain": [
       "PauliString(nqubits: 4, 2.0 * IXYZ)"
      ]
     },
     "metadata": {},
     "output_type": "display_data"
    }
   ],
   "source": [
    "PauliString(4, [:X, :Y, :Z], [2, 3, 4], 2.0)"
   ]
  },
  {
   "cell_type": "markdown",
   "id": "d92d600b-f173-4c64-972f-f34c8bac8a9a",
   "metadata": {},
   "source": [
    "Under the hood everything works with the `PauliSum` data type. It can also be passed to `propagate()`, and you can create it like this:"
   ]
  },
  {
   "cell_type": "code",
   "execution_count": 5,
   "id": "92f12643-302d-4248-b8f8-50172366ae0f",
   "metadata": {},
   "outputs": [],
   "source": [
    "# input_psum = PauliSum(nq)\n",
    "# add!(input_psum, :Z, 32)\n",
    "# add!(input_psum, [:X, :X], [1, 64])\n",
    "# add!(input_psum, [:X, :Y, :Z], [1, 4, 7], 1.3)"
   ]
  },
  {
   "cell_type": "markdown",
   "id": "f4d8fae1-6240-44f9-8fd4-572ab95f9fa2",
   "metadata": {},
   "source": [
    "Now we specify the circuit that we want to run. We provide some simple constructors for common circuit ansätze. Here we use a generic circuit ansatz called the `hardwareefficientcircuit`. It consists of repeated RX- RZ - RX Pauli rotation gates intertwined with RYY entangling gates.\n",
    "\n",
    "For everything to work out, we need to specify the number of circuit layers and the entangling topology. By default we use the so-called 1D `bricklayertopology`. "
   ]
  },
  {
   "cell_type": "code",
   "execution_count": 5,
   "id": "3b33e38c",
   "metadata": {},
   "outputs": [
    {
     "data": {
      "text/plain": [
       "1530"
      ]
     },
     "metadata": {},
     "output_type": "display_data"
    }
   ],
   "source": [
    "nl = 6\n",
    "topology = bricklayertopology(nq; periodic=false)\n",
    "circuit = hardwareefficientcircuit(nq, nl; topology=topology)\n",
    "nparams = countparameters(circuit)"
   ]
  },
  {
   "cell_type": "markdown",
   "id": "3008fca9-b48c-47a5-bb8d-72555b83d41a",
   "metadata": {},
   "source": [
    "But you can use other predefined topologies in the library or customize a topology via an array or tuples like `[(1, 2), (1, 3), ...]`."
   ]
  },
  {
   "cell_type": "code",
   "execution_count": 7,
   "id": "a3d35c93-b2a8-4a69-b26e-52892d3cfb38",
   "metadata": {},
   "outputs": [],
   "source": [
    "# rectopology = rectangletopology(8, 8; periodic=false) \n",
    "\n",
    "# hardcoded_custom_topology = [(1, 2), (1, 15), (2, 3), (3, 4), (4, 5), (5, 6), (5, 16), (6, 7)]\n",
    "\n",
    "# function centralspintopology(nqubits)\n",
    "#     return [(1, ii) for ii in 2:nqubits]\n",
    "# end\n",
    "\n",
    "# centralspin_topology = centralspintopology(nq)"
   ]
  },
  {
   "cell_type": "markdown",
   "id": "f2a31420-2446-41a6-98b8-307c20e32bf7",
   "metadata": {},
   "source": [
    "There are also several other inbuilt circuits in the library and you can define your own custom circuits. Note that both circuits, and the angles they take, are defined in the Schrodinger picture. For example:"
   ]
  },
  {
   "cell_type": "code",
   "execution_count": 8,
   "id": "af221bfe-ba5b-4bd6-b086-db8d96ec8a51",
   "metadata": {},
   "outputs": [],
   "source": [
    "# circuit = tfitrottercircuit(nq, nl; topology=topology, start_with_ZZ=true);\n",
    "# circuit = tiltedtfitrottercircuit(nq, nl; topology=topology)\n",
    "# circuit = heisenbergtrottercircuit(nq, nl; topology=topology)"
   ]
  },
  {
   "cell_type": "code",
   "execution_count": 9,
   "id": "296306b5-42b3-47a8-b9e1-55161efe8044",
   "metadata": {},
   "outputs": [],
   "source": [
    "# function myheisenbergtrottercircuit(nqubits::Integer, nlayers::Integer; topology=nothing)\n",
    "#     circuit::Vector{Gate} = []\n",
    "\n",
    "#     if isnothing(topology)\n",
    "#         topology = bricklayertopology(nqubits)\n",
    "#     end\n",
    "\n",
    "#     for _ in 1:nlayers\n",
    "#         rxxlayer!(circuit, topology)\n",
    "#         ryylayer!(circuit, topology)\n",
    "#         rzzlayer!(circuit, topology)\n",
    "#     end\n",
    "\n",
    "#     return circuit\n",
    "# end\n",
    "\n",
    "# circuit = myheisenbergtrottercircuit(nq, nl; topology=topology);\n",
    "# nparams = countparameters(circuit)\n",
    "\n",
    "# Jxx = 0.5\n",
    "# Jyy = 0.25\n",
    "# Jzz = 0.25\n",
    "# dt = 0.2\n",
    "\n",
    "# thetaxx_indices = getparameterindices(circuit, PauliRotation, [:X, :X])\n",
    "# thetayy_indices = getparameterindices(circuit, PauliRotation, [:Y, :Y])\n",
    "# thetazz_indices = getparameterindices(circuit, PauliRotation, [:Z, :Z])\n",
    "\n",
    "# thetas = zeros(nparams)\n",
    "# thetas[thetaxx_indices] .= 2 * Jxx * dt\n",
    "# thetas[thetayy_indices] .= 2 * Jyy * dt\n",
    "# thetas[thetazz_indices] .= 2 * Jzz * dt;"
   ]
  },
  {
   "cell_type": "markdown",
   "id": "e437e722-53c7-4fc9-a7e2-eebabb2246c0",
   "metadata": {},
   "source": [
    "Let us draw some random parameters from a narrow-ish Gaussian around zero.\n",
    "These parameters are 1-to-1 assigned to the parametrized gates in the circuit, for the beginning to the end. Internally we will reverse both and apply the gates with their corresponding parameter in the Heisenberg picture."
   ]
  },
  {
   "cell_type": "code",
   "execution_count": 6,
   "id": "0a8db20a",
   "metadata": {},
   "outputs": [],
   "source": [
    "using Random\n",
    "Random.seed!(42)\n",
    "thetas = ones(nparams) * 0.1;"
   ]
  },
  {
   "cell_type": "markdown",
   "id": "fd71c65f-e765-48dd-997e-cd3fe50d2e7d",
   "metadata": {},
   "source": [
    "Now we get to the interesting part. The propagation of the Observable `pstr` through `circuit`. In other words, we apply the circuit onto the Pauli string."
   ]
  },
  {
   "cell_type": "markdown",
   "id": "a5ae8d7d-0d7b-41eb-b533-66c38fe1b223",
   "metadata": {},
   "source": [
    "First, let us do it exactly."
   ]
  },
  {
   "cell_type": "code",
   "execution_count": null,
   "id": "b0a745e9-7ab0-4a72-a8b4-d74a2a3b32d5",
   "metadata": {},
   "outputs": [],
   "source": [
    "psum = propagate(circuit, pstr, thetas, min_abs_coeff = 0)"
   ]
  },
  {
   "cell_type": "markdown",
   "id": "4a273580-468d-4022-9d25-285e10ad6fc0",
   "metadata": {},
   "source": [
    "Just to run it again after Julia's jit (just-in-time)-compilation, which compiles the code and makes subsequent calls faster:"
   ]
  },
  {
   "cell_type": "code",
   "execution_count": 12,
   "id": "8ae8105f-5522-4d84-8c2c-906465beacdf",
   "metadata": {},
   "outputs": [
    {
     "ename": "MethodError",
     "evalue": "MethodError: no method matching set!(::PauliSum{UInt128, Float64}, ::UInt128, ::ComplexF64)\n\nClosest candidates are:\n  set!(!Matched::Dict{TT, CT}, ::TT, ::CT) where {TT, CT}\n   @ PauliPropagation C:\\Users\\andre\\Desktop\\EPFL\\Master-Project\\ImaginaryTimeEvolutionPauliPropagation\\src\\PauliAlgebra\\datatypes.jl:639\n  set!(::PauliSum{TT, CT}, ::TT, !Matched::CT) where {TT, CT}\n   @ PauliPropagation C:\\Users\\andre\\Desktop\\EPFL\\Master-Project\\ImaginaryTimeEvolutionPauliPropagation\\src\\PauliAlgebra\\datatypes.jl:633\n  set!(!Matched::Dict{TT, NodePathProperties}, ::TT, !Matched::NodePathProperties) where TT\n   @ PauliPropagation C:\\Users\\andre\\Desktop\\EPFL\\Master-Project\\ImaginaryTimeEvolutionPauliPropagation\\src\\Surrogate\\datatypes.jl:126\n",
     "output_type": "error",
     "traceback": [
      "MethodError: no method matching set!(::PauliSum{UInt128, Float64}, ::UInt128, ::ComplexF64)\n",
      "\n",
      "Closest candidates are:\n",
      "  set!(!Matched::Dict{TT, CT}, ::TT, ::CT) where {TT, CT}\n",
      "   @ PauliPropagation C:\\Users\\andre\\Desktop\\EPFL\\Master-Project\\ImaginaryTimeEvolutionPauliPropagation\\src\\PauliAlgebra\\datatypes.jl:639\n",
      "  set!(::PauliSum{TT, CT}, ::TT, !Matched::CT) where {TT, CT}\n",
      "   @ PauliPropagation C:\\Users\\andre\\Desktop\\EPFL\\Master-Project\\ImaginaryTimeEvolutionPauliPropagation\\src\\PauliAlgebra\\datatypes.jl:633\n",
      "  set!(!Matched::Dict{TT, NodePathProperties}, ::TT, !Matched::NodePathProperties) where TT\n",
      "   @ PauliPropagation C:\\Users\\andre\\Desktop\\EPFL\\Master-Project\\ImaginaryTimeEvolutionPauliPropagation\\src\\Surrogate\\datatypes.jl:126\n",
      "\n",
      "\n",
      "Stacktrace:\n",
      "  [1] applytoall!(gate::PauliRotation, theta::ComplexF64, psum::PauliSum{UInt128, Float64}, aux_psum::PauliSum{UInt128, Float64}; kwargs::@Kwargs{})\n",
      "    @ PauliPropagation C:\\Users\\andre\\Desktop\\EPFL\\Master-Project\\ImaginaryTimeEvolutionPauliPropagation\\src\\Propagation\\specializations.jl:41\n",
      "  [2] applytoall!\n",
      "    @ C:\\Users\\andre\\Desktop\\EPFL\\Master-Project\\ImaginaryTimeEvolutionPauliPropagation\\src\\Propagation\\specializations.jl:19 [inlined]\n",
      "  [3] applymergetruncate!(gate::PauliRotation, psum::PauliSum{UInt128, Float64}, aux_psum::PauliSum{UInt128, Float64}, thetas::Vector{ComplexF64}, param_idx::Int64; max_weight::Float64, min_abs_coeff::Float64, max_freq::Float64, max_sins::Float64, customtruncfunc::Nothing, normalization::Bool, kwargs::@Kwargs{})\n",
      "    @ PauliPropagation C:\\Users\\andre\\Desktop\\EPFL\\Master-Project\\ImaginaryTimeEvolutionPauliPropagation\\src\\Propagation\\generics.jl:104\n",
      "  [4] propagate!(circ::Vector{Gate}, psum::PauliSum{UInt128, Float64}, thetas::Vector{ComplexF64}; max_weight::Float64, min_abs_coeff::Float64, max_freq::Float64, max_sins::Float64, customtruncfunc::Nothing, normalization::Bool, kwargs::@Kwargs{})\n",
      "    @ PauliPropagation C:\\Users\\andre\\Desktop\\EPFL\\Master-Project\\ImaginaryTimeEvolutionPauliPropagation\\src\\Propagation\\generics.jl:76\n",
      "  [5] propagate!\n",
      "    @ C:\\Users\\andre\\Desktop\\EPFL\\Master-Project\\ImaginaryTimeEvolutionPauliPropagation\\src\\Propagation\\generics.jl:55 [inlined]\n",
      "  [6] #propagate#113\n",
      "    @ C:\\Users\\andre\\Desktop\\EPFL\\Master-Project\\ImaginaryTimeEvolutionPauliPropagation\\src\\Propagation\\generics.jl:37 [inlined]\n",
      "  [7] propagate\n",
      "    @ C:\\Users\\andre\\Desktop\\EPFL\\Master-Project\\ImaginaryTimeEvolutionPauliPropagation\\src\\Propagation\\generics.jl:36 [inlined]\n",
      "  [8] #propagate#112\n",
      "    @ C:\\Users\\andre\\Desktop\\EPFL\\Master-Project\\ImaginaryTimeEvolutionPauliPropagation\\src\\Propagation\\generics.jl:21 [inlined]\n",
      "  [9] propagate(circ::Vector{Gate}, pstr::PauliString{UInt128, Float64}, thetas::Vector{ComplexF64})\n",
      "    @ PauliPropagation C:\\Users\\andre\\Desktop\\EPFL\\Master-Project\\ImaginaryTimeEvolutionPauliPropagation\\src\\Propagation\\generics.jl:19\n",
      " [10] macro expansion\n",
      "    @ .\\timing.jl:279 [inlined]\n",
      " [11] top-level scope\n",
      "    @ c:\\Users\\andre\\Desktop\\EPFL\\Master-Project\\ImaginaryTimeEvolutionPauliPropagation\\examples\\jl_notebook_cell_df34fa98e69747e1a8f8a730347b8e2f_X32sZmlsZQ==.jl:1"
     ]
    }
   ],
   "source": [
    "@time propagate(circuit, pstr, thetas);"
   ]
  },
  {
   "cell_type": "markdown",
   "id": "2c5e7920-76cf-4e55-bda9-5fca36b68099",
   "metadata": {},
   "source": [
    "How is it possible that we can exactly run 64-qubit circuits? We leverage a concept referred to as the _entanglement lightcone_. But we don't do it manually, the Pauli propagation framework does it naturally. Still, we created over 160k Pauli strings in an object of type `PauliSum`. As the name suggests, this is a sum of Pauli strings. Be very mindful of the fact that the runtime will initially scale exponentially with the circuit depth!"
   ]
  },
  {
   "cell_type": "markdown",
   "id": "c9722bb8-5cca-4175-a9c0-5e5eaf1ad021",
   "metadata": {},
   "source": [
    "The `psum` object may already be of interest of you. But here is a quick and easy way how to evaluate the expectation value if initial state is the zero-state, i.e. $\\rho = |0\\rangle\\langle 0|$."
   ]
  },
  {
   "cell_type": "code",
   "execution_count": 13,
   "id": "d14c19f8-2c42-4a5a-926c-d8fa910db087",
   "metadata": {},
   "outputs": [
    {
     "ename": "UndefVarError",
     "evalue": "UndefVarError: `psum` not defined",
     "output_type": "error",
     "traceback": [
      "UndefVarError: `psum` not defined\n",
      "\n",
      "Stacktrace:\n",
      " [1] top-level scope\n",
      "   @ c:\\Users\\andre\\Desktop\\EPFL\\Master-Project\\ImaginaryTimeEvolutionPauliPropagation\\examples\\jl_notebook_cell_df34fa98e69747e1a8f8a730347b8e2f_X35sZmlsZQ==.jl:1"
     ]
    }
   ],
   "source": [
    "overlapwithzero(psum)"
   ]
  },
  {
   "cell_type": "markdown",
   "id": "4615b109-4d8f-4baf-80e3-39c9713682ea",
   "metadata": {},
   "source": [
    "Remember, this was an exact calculation. Well actually, our library has a default truncation threshold of Pauli strings with coefficients smaller than 1e-10. Here is how you control the minimum absolute coefficient threshold `min_abs_coeff`. (Warning - if you are now using your own custom circuit / topology this may time out). "
   ]
  },
  {
   "cell_type": "code",
   "execution_count": 14,
   "id": "06f2bc39-813f-4cad-8eb6-99094f249634",
   "metadata": {},
   "outputs": [
    {
     "ename": "MethodError",
     "evalue": "MethodError: no method matching set!(::PauliSum{UInt128, Float64}, ::UInt128, ::ComplexF64)\n\nClosest candidates are:\n  set!(!Matched::Dict{TT, CT}, ::TT, ::CT) where {TT, CT}\n   @ PauliPropagation C:\\Users\\andre\\Desktop\\EPFL\\Master-Project\\ImaginaryTimeEvolutionPauliPropagation\\src\\PauliAlgebra\\datatypes.jl:639\n  set!(::PauliSum{TT, CT}, ::TT, !Matched::CT) where {TT, CT}\n   @ PauliPropagation C:\\Users\\andre\\Desktop\\EPFL\\Master-Project\\ImaginaryTimeEvolutionPauliPropagation\\src\\PauliAlgebra\\datatypes.jl:633\n  set!(!Matched::Dict{TT, NodePathProperties}, ::TT, !Matched::NodePathProperties) where TT\n   @ PauliPropagation C:\\Users\\andre\\Desktop\\EPFL\\Master-Project\\ImaginaryTimeEvolutionPauliPropagation\\src\\Surrogate\\datatypes.jl:126\n",
     "output_type": "error",
     "traceback": [
      "MethodError: no method matching set!(::PauliSum{UInt128, Float64}, ::UInt128, ::ComplexF64)\n",
      "\n",
      "Closest candidates are:\n",
      "  set!(!Matched::Dict{TT, CT}, ::TT, ::CT) where {TT, CT}\n",
      "   @ PauliPropagation C:\\Users\\andre\\Desktop\\EPFL\\Master-Project\\ImaginaryTimeEvolutionPauliPropagation\\src\\PauliAlgebra\\datatypes.jl:639\n",
      "  set!(::PauliSum{TT, CT}, ::TT, !Matched::CT) where {TT, CT}\n",
      "   @ PauliPropagation C:\\Users\\andre\\Desktop\\EPFL\\Master-Project\\ImaginaryTimeEvolutionPauliPropagation\\src\\PauliAlgebra\\datatypes.jl:633\n",
      "  set!(!Matched::Dict{TT, NodePathProperties}, ::TT, !Matched::NodePathProperties) where TT\n",
      "   @ PauliPropagation C:\\Users\\andre\\Desktop\\EPFL\\Master-Project\\ImaginaryTimeEvolutionPauliPropagation\\src\\Surrogate\\datatypes.jl:126\n",
      "\n",
      "\n",
      "Stacktrace:\n",
      "  [1] applytoall!(gate::PauliRotation, theta::ComplexF64, psum::PauliSum{UInt128, Float64}, aux_psum::PauliSum{UInt128, Float64}; kwargs::@Kwargs{})\n",
      "    @ PauliPropagation C:\\Users\\andre\\Desktop\\EPFL\\Master-Project\\ImaginaryTimeEvolutionPauliPropagation\\src\\Propagation\\specializations.jl:41\n",
      "  [2] applytoall!\n",
      "    @ C:\\Users\\andre\\Desktop\\EPFL\\Master-Project\\ImaginaryTimeEvolutionPauliPropagation\\src\\Propagation\\specializations.jl:19 [inlined]\n",
      "  [3] applymergetruncate!(gate::PauliRotation, psum::PauliSum{UInt128, Float64}, aux_psum::PauliSum{UInt128, Float64}, thetas::Vector{ComplexF64}, param_idx::Int64; max_weight::Float64, min_abs_coeff::Int64, max_freq::Float64, max_sins::Float64, customtruncfunc::Nothing, normalization::Bool, kwargs::@Kwargs{})\n",
      "    @ PauliPropagation C:\\Users\\andre\\Desktop\\EPFL\\Master-Project\\ImaginaryTimeEvolutionPauliPropagation\\src\\Propagation\\generics.jl:104\n",
      "  [4] propagate!(circ::Vector{Gate}, psum::PauliSum{UInt128, Float64}, thetas::Vector{ComplexF64}; max_weight::Float64, min_abs_coeff::Int64, max_freq::Float64, max_sins::Float64, customtruncfunc::Nothing, normalization::Bool, kwargs::@Kwargs{})\n",
      "    @ PauliPropagation C:\\Users\\andre\\Desktop\\EPFL\\Master-Project\\ImaginaryTimeEvolutionPauliPropagation\\src\\Propagation\\generics.jl:76\n",
      "  [5] propagate!\n",
      "    @ C:\\Users\\andre\\Desktop\\EPFL\\Master-Project\\ImaginaryTimeEvolutionPauliPropagation\\src\\Propagation\\generics.jl:55 [inlined]\n",
      "  [6] #propagate#113\n",
      "    @ C:\\Users\\andre\\Desktop\\EPFL\\Master-Project\\ImaginaryTimeEvolutionPauliPropagation\\src\\Propagation\\generics.jl:37 [inlined]\n",
      "  [7] propagate\n",
      "    @ C:\\Users\\andre\\Desktop\\EPFL\\Master-Project\\ImaginaryTimeEvolutionPauliPropagation\\src\\Propagation\\generics.jl:36 [inlined]\n",
      "  [8] #propagate#112\n",
      "    @ C:\\Users\\andre\\Desktop\\EPFL\\Master-Project\\ImaginaryTimeEvolutionPauliPropagation\\src\\Propagation\\generics.jl:21 [inlined]\n",
      "  [9] macro expansion\n",
      "    @ .\\timing.jl:279 [inlined]\n",
      " [10] top-level scope\n",
      "    @ c:\\Users\\andre\\Desktop\\EPFL\\Master-Project\\ImaginaryTimeEvolutionPauliPropagation\\examples\\jl_notebook_cell_df34fa98e69747e1a8f8a730347b8e2f_X40sZmlsZQ==.jl:1"
     ]
    }
   ],
   "source": [
    "@time psum_exact = propagate(circuit, pstr, thetas; min_abs_coeff=0)"
   ]
  },
  {
   "cell_type": "markdown",
   "id": "d9f8aec7-c871-4704-bbfb-d773e741e081",
   "metadata": {},
   "source": [
    "And the expectation value is pretty much the same."
   ]
  },
  {
   "cell_type": "code",
   "execution_count": 15,
   "id": "04d34e10-aaac-4abb-861e-a2a0cbf1ec8d",
   "metadata": {},
   "outputs": [
    {
     "ename": "UndefVarError",
     "evalue": "UndefVarError: `psum_exact` not defined",
     "output_type": "error",
     "traceback": [
      "UndefVarError: `psum_exact` not defined\n",
      "\n",
      "Stacktrace:\n",
      " [1] top-level scope\n",
      "   @ c:\\Users\\andre\\Desktop\\EPFL\\Master-Project\\ImaginaryTimeEvolutionPauliPropagation\\examples\\jl_notebook_cell_df34fa98e69747e1a8f8a730347b8e2f_X42sZmlsZQ==.jl:1"
     ]
    }
   ],
   "source": [
    "print(\"The error with our default truncation of `1e-10` is \", abs(overlapwithzero(psum_exact) - overlapwithzero(psum)))"
   ]
  },
  {
   "cell_type": "markdown",
   "id": "292b46a6-69b9-48db-8ba7-16937a454fb3",
   "metadata": {},
   "source": [
    "How about higher truncation thresholds?"
   ]
  },
  {
   "cell_type": "code",
   "execution_count": 16,
   "id": "47479711-5866-43bf-b5e4-7ef8aa0743ea",
   "metadata": {},
   "outputs": [
    {
     "ename": "MethodError",
     "evalue": "MethodError: no method matching set!(::PauliSum{UInt128, Float64}, ::UInt128, ::ComplexF64)\n\nClosest candidates are:\n  set!(!Matched::Dict{TT, CT}, ::TT, ::CT) where {TT, CT}\n   @ PauliPropagation C:\\Users\\andre\\Desktop\\EPFL\\Master-Project\\ImaginaryTimeEvolutionPauliPropagation\\src\\PauliAlgebra\\datatypes.jl:639\n  set!(::PauliSum{TT, CT}, ::TT, !Matched::CT) where {TT, CT}\n   @ PauliPropagation C:\\Users\\andre\\Desktop\\EPFL\\Master-Project\\ImaginaryTimeEvolutionPauliPropagation\\src\\PauliAlgebra\\datatypes.jl:633\n  set!(!Matched::Dict{TT, NodePathProperties}, ::TT, !Matched::NodePathProperties) where TT\n   @ PauliPropagation C:\\Users\\andre\\Desktop\\EPFL\\Master-Project\\ImaginaryTimeEvolutionPauliPropagation\\src\\Surrogate\\datatypes.jl:126\n",
     "output_type": "error",
     "traceback": [
      "MethodError: no method matching set!(::PauliSum{UInt128, Float64}, ::UInt128, ::ComplexF64)\n",
      "\n",
      "Closest candidates are:\n",
      "  set!(!Matched::Dict{TT, CT}, ::TT, ::CT) where {TT, CT}\n",
      "   @ PauliPropagation C:\\Users\\andre\\Desktop\\EPFL\\Master-Project\\ImaginaryTimeEvolutionPauliPropagation\\src\\PauliAlgebra\\datatypes.jl:639\n",
      "  set!(::PauliSum{TT, CT}, ::TT, !Matched::CT) where {TT, CT}\n",
      "   @ PauliPropagation C:\\Users\\andre\\Desktop\\EPFL\\Master-Project\\ImaginaryTimeEvolutionPauliPropagation\\src\\PauliAlgebra\\datatypes.jl:633\n",
      "  set!(!Matched::Dict{TT, NodePathProperties}, ::TT, !Matched::NodePathProperties) where TT\n",
      "   @ PauliPropagation C:\\Users\\andre\\Desktop\\EPFL\\Master-Project\\ImaginaryTimeEvolutionPauliPropagation\\src\\Surrogate\\datatypes.jl:126\n",
      "\n",
      "\n",
      "Stacktrace:\n",
      "  [1] applytoall!(gate::PauliRotation, theta::ComplexF64, psum::PauliSum{UInt128, Float64}, aux_psum::PauliSum{UInt128, Float64}; kwargs::@Kwargs{})\n",
      "    @ PauliPropagation C:\\Users\\andre\\Desktop\\EPFL\\Master-Project\\ImaginaryTimeEvolutionPauliPropagation\\src\\Propagation\\specializations.jl:41\n",
      "  [2] applytoall!\n",
      "    @ C:\\Users\\andre\\Desktop\\EPFL\\Master-Project\\ImaginaryTimeEvolutionPauliPropagation\\src\\Propagation\\specializations.jl:19 [inlined]\n",
      "  [3] applymergetruncate!(gate::PauliRotation, psum::PauliSum{UInt128, Float64}, aux_psum::PauliSum{UInt128, Float64}, thetas::Vector{ComplexF64}, param_idx::Int64; max_weight::Float64, min_abs_coeff::Float64, max_freq::Float64, max_sins::Float64, customtruncfunc::Nothing, normalization::Bool, kwargs::@Kwargs{})\n",
      "    @ PauliPropagation C:\\Users\\andre\\Desktop\\EPFL\\Master-Project\\ImaginaryTimeEvolutionPauliPropagation\\src\\Propagation\\generics.jl:104\n",
      "  [4] propagate!(circ::Vector{Gate}, psum::PauliSum{UInt128, Float64}, thetas::Vector{ComplexF64}; max_weight::Float64, min_abs_coeff::Float64, max_freq::Float64, max_sins::Float64, customtruncfunc::Nothing, normalization::Bool, kwargs::@Kwargs{})\n",
      "    @ PauliPropagation C:\\Users\\andre\\Desktop\\EPFL\\Master-Project\\ImaginaryTimeEvolutionPauliPropagation\\src\\Propagation\\generics.jl:76\n",
      "  [5] propagate!\n",
      "    @ C:\\Users\\andre\\Desktop\\EPFL\\Master-Project\\ImaginaryTimeEvolutionPauliPropagation\\src\\Propagation\\generics.jl:55 [inlined]\n",
      "  [6] #propagate#113\n",
      "    @ C:\\Users\\andre\\Desktop\\EPFL\\Master-Project\\ImaginaryTimeEvolutionPauliPropagation\\src\\Propagation\\generics.jl:37 [inlined]\n",
      "  [7] propagate\n",
      "    @ C:\\Users\\andre\\Desktop\\EPFL\\Master-Project\\ImaginaryTimeEvolutionPauliPropagation\\src\\Propagation\\generics.jl:36 [inlined]\n",
      "  [8] #propagate#112\n",
      "    @ C:\\Users\\andre\\Desktop\\EPFL\\Master-Project\\ImaginaryTimeEvolutionPauliPropagation\\src\\Propagation\\generics.jl:21 [inlined]\n",
      "  [9] macro expansion\n",
      "    @ .\\timing.jl:279 [inlined]\n",
      " [10] top-level scope\n",
      "    @ c:\\Users\\andre\\Desktop\\EPFL\\Master-Project\\ImaginaryTimeEvolutionPauliPropagation\\examples\\jl_notebook_cell_df34fa98e69747e1a8f8a730347b8e2f_X44sZmlsZQ==.jl:2"
     ]
    }
   ],
   "source": [
    "min_abs_coeff = 1e-3\n",
    "@time psum_coeff = propagate(circuit, pstr, thetas; min_abs_coeff = min_abs_coeff)"
   ]
  },
  {
   "cell_type": "code",
   "execution_count": 17,
   "id": "16b089b4-f661-4e62-b187-94e902d459b8",
   "metadata": {},
   "outputs": [
    {
     "ename": "UndefVarError",
     "evalue": "UndefVarError: `psum_exact` not defined",
     "output_type": "error",
     "traceback": [
      "UndefVarError: `psum_exact` not defined\n",
      "\n",
      "Stacktrace:\n",
      " [1] top-level scope\n",
      "   @ c:\\Users\\andre\\Desktop\\EPFL\\Master-Project\\ImaginaryTimeEvolutionPauliPropagation\\examples\\jl_notebook_cell_df34fa98e69747e1a8f8a730347b8e2f_X45sZmlsZQ==.jl:1"
     ]
    }
   ],
   "source": [
    "print(\"The error with `min_abs_coeff = $min_abs_coeff` is \", abs(overlapwithzero(psum_exact) - overlapwithzero(psum_coeff)))"
   ]
  },
  {
   "cell_type": "markdown",
   "id": "b1735bc2-a948-4b8e-9a4c-c57e18079f20",
   "metadata": {},
   "source": [
    "The expectation value is still surprisingly precise."
   ]
  },
  {
   "cell_type": "markdown",
   "id": "85b92ee4-e68c-4edc-9212-6f84c48d95fc",
   "metadata": {},
   "source": [
    "As a side-note, something that can be very useful and efficient, is to change a `PauliSum` *in-place*. For example:"
   ]
  },
  {
   "cell_type": "code",
   "execution_count": 18,
   "id": "bf09dfb3-036b-47df-a89b-771571cdb19e",
   "metadata": {},
   "outputs": [],
   "source": [
    "# input_psum = PauliSum(nq)\n",
    "# add!(input_psum, :Z, 32)\n",
    "# add!(input_psum, [:X, :X], [1, 64])\n",
    "# add!(input_psum, [:X, :Y, :Z], [1, 4, 7], 1.3)\n",
    "\n",
    "# @time propagate!(circuit, input_psum, thetas; min_abs_coeff=1e-3)\n",
    "# @time propagate!(circuit, input_psum, thetas; min_abs_coeff=1e-3) # and again\n",
    "# input_psum"
   ]
  },
  {
   "cell_type": "markdown",
   "id": "ca2dfe62-ff8e-41ba-8cf5-603ef5a41e89",
   "metadata": {},
   "source": [
    "Another very general but powerful truncation is one based on _Pauli weight_. We can truncate Pauli strings that have many non-Identity Paulis, which has been proven to be a valid truncation for random circuits, but it also works well in practice. We can pass this as the keyword argument `max_weight`."
   ]
  },
  {
   "cell_type": "code",
   "execution_count": 19,
   "id": "bba5a13d-8a31-4343-ab15-c4fd790f85cf",
   "metadata": {},
   "outputs": [
    {
     "ename": "MethodError",
     "evalue": "MethodError: no method matching set!(::PauliSum{UInt128, Float64}, ::UInt128, ::ComplexF64)\n\nClosest candidates are:\n  set!(!Matched::Dict{TT, CT}, ::TT, ::CT) where {TT, CT}\n   @ PauliPropagation C:\\Users\\andre\\Desktop\\EPFL\\Master-Project\\ImaginaryTimeEvolutionPauliPropagation\\src\\PauliAlgebra\\datatypes.jl:639\n  set!(::PauliSum{TT, CT}, ::TT, !Matched::CT) where {TT, CT}\n   @ PauliPropagation C:\\Users\\andre\\Desktop\\EPFL\\Master-Project\\ImaginaryTimeEvolutionPauliPropagation\\src\\PauliAlgebra\\datatypes.jl:633\n  set!(!Matched::Dict{TT, NodePathProperties}, ::TT, !Matched::NodePathProperties) where TT\n   @ PauliPropagation C:\\Users\\andre\\Desktop\\EPFL\\Master-Project\\ImaginaryTimeEvolutionPauliPropagation\\src\\Surrogate\\datatypes.jl:126\n",
     "output_type": "error",
     "traceback": [
      "MethodError: no method matching set!(::PauliSum{UInt128, Float64}, ::UInt128, ::ComplexF64)\n",
      "\n",
      "Closest candidates are:\n",
      "  set!(!Matched::Dict{TT, CT}, ::TT, ::CT) where {TT, CT}\n",
      "   @ PauliPropagation C:\\Users\\andre\\Desktop\\EPFL\\Master-Project\\ImaginaryTimeEvolutionPauliPropagation\\src\\PauliAlgebra\\datatypes.jl:639\n",
      "  set!(::PauliSum{TT, CT}, ::TT, !Matched::CT) where {TT, CT}\n",
      "   @ PauliPropagation C:\\Users\\andre\\Desktop\\EPFL\\Master-Project\\ImaginaryTimeEvolutionPauliPropagation\\src\\PauliAlgebra\\datatypes.jl:633\n",
      "  set!(!Matched::Dict{TT, NodePathProperties}, ::TT, !Matched::NodePathProperties) where TT\n",
      "   @ PauliPropagation C:\\Users\\andre\\Desktop\\EPFL\\Master-Project\\ImaginaryTimeEvolutionPauliPropagation\\src\\Surrogate\\datatypes.jl:126\n",
      "\n",
      "\n",
      "Stacktrace:\n",
      "  [1] applytoall!(gate::PauliRotation, theta::ComplexF64, psum::PauliSum{UInt128, Float64}, aux_psum::PauliSum{UInt128, Float64}; kwargs::@Kwargs{})\n",
      "    @ PauliPropagation C:\\Users\\andre\\Desktop\\EPFL\\Master-Project\\ImaginaryTimeEvolutionPauliPropagation\\src\\Propagation\\specializations.jl:41\n",
      "  [2] applytoall!\n",
      "    @ C:\\Users\\andre\\Desktop\\EPFL\\Master-Project\\ImaginaryTimeEvolutionPauliPropagation\\src\\Propagation\\specializations.jl:19 [inlined]\n",
      "  [3] applymergetruncate!(gate::PauliRotation, psum::PauliSum{UInt128, Float64}, aux_psum::PauliSum{UInt128, Float64}, thetas::Vector{ComplexF64}, param_idx::Int64; max_weight::Int64, min_abs_coeff::Float64, max_freq::Float64, max_sins::Float64, customtruncfunc::Nothing, normalization::Bool, kwargs::@Kwargs{})\n",
      "    @ PauliPropagation C:\\Users\\andre\\Desktop\\EPFL\\Master-Project\\ImaginaryTimeEvolutionPauliPropagation\\src\\Propagation\\generics.jl:104\n",
      "  [4] propagate!(circ::Vector{Gate}, psum::PauliSum{UInt128, Float64}, thetas::Vector{ComplexF64}; max_weight::Int64, min_abs_coeff::Float64, max_freq::Float64, max_sins::Float64, customtruncfunc::Nothing, normalization::Bool, kwargs::@Kwargs{})\n",
      "    @ PauliPropagation C:\\Users\\andre\\Desktop\\EPFL\\Master-Project\\ImaginaryTimeEvolutionPauliPropagation\\src\\Propagation\\generics.jl:76\n",
      "  [5] propagate!\n",
      "    @ C:\\Users\\andre\\Desktop\\EPFL\\Master-Project\\ImaginaryTimeEvolutionPauliPropagation\\src\\Propagation\\generics.jl:55 [inlined]\n",
      "  [6] #propagate#113\n",
      "    @ C:\\Users\\andre\\Desktop\\EPFL\\Master-Project\\ImaginaryTimeEvolutionPauliPropagation\\src\\Propagation\\generics.jl:37 [inlined]\n",
      "  [7] propagate\n",
      "    @ C:\\Users\\andre\\Desktop\\EPFL\\Master-Project\\ImaginaryTimeEvolutionPauliPropagation\\src\\Propagation\\generics.jl:36 [inlined]\n",
      "  [8] #propagate#112\n",
      "    @ C:\\Users\\andre\\Desktop\\EPFL\\Master-Project\\ImaginaryTimeEvolutionPauliPropagation\\src\\Propagation\\generics.jl:21 [inlined]\n",
      "  [9] macro expansion\n",
      "    @ .\\timing.jl:279 [inlined]\n",
      " [10] top-level scope\n",
      "    @ c:\\Users\\andre\\Desktop\\EPFL\\Master-Project\\ImaginaryTimeEvolutionPauliPropagation\\examples\\jl_notebook_cell_df34fa98e69747e1a8f8a730347b8e2f_X53sZmlsZQ==.jl:2"
     ]
    }
   ],
   "source": [
    "max_weight = 5\n",
    "@time psum_weight = propagate(circuit, pstr, thetas; max_weight = max_weight)"
   ]
  },
  {
   "cell_type": "code",
   "execution_count": 20,
   "id": "97d9f3c8-e917-4580-bb2a-ca06ea7c32f4",
   "metadata": {},
   "outputs": [
    {
     "ename": "UndefVarError",
     "evalue": "UndefVarError: `psum_exact` not defined",
     "output_type": "error",
     "traceback": [
      "UndefVarError: `psum_exact` not defined\n",
      "\n",
      "Stacktrace:\n",
      " [1] top-level scope\n",
      "   @ c:\\Users\\andre\\Desktop\\EPFL\\Master-Project\\ImaginaryTimeEvolutionPauliPropagation\\examples\\jl_notebook_cell_df34fa98e69747e1a8f8a730347b8e2f_X54sZmlsZQ==.jl:1"
     ]
    }
   ],
   "source": [
    "print(\"The error with `max_weight = $max_weight` is \", abs(overlapwithzero(psum_exact) - overlapwithzero(psum_weight)))"
   ]
  },
  {
   "cell_type": "markdown",
   "id": "e398f960-b3cc-4fb1-80bc-b8b21da073bd",
   "metadata": {},
   "source": [
    "One mindset to adopt when using this package (or any other computational physics package for that matter), is that exact computation will quickly be infeasible. Truncations introduce a necessary trade-off between computational cost and accuracy."
   ]
  },
  {
   "cell_type": "markdown",
   "id": "ac6b0cad-38c2-410d-b826-32c207ceb51e",
   "metadata": {},
   "source": [
    "### Time vs Accuracy\n",
    "\n",
    "Truncations are absolutely vital for Pauli propagation. Choose the truncations too tight and the results will be systematically wrong, choose the truncations too loose and the computation will be too hard. \n",
    "\n",
    "Here we show how varying the minimal coefficient threshold `min_abs_coeff` affects both the error and the runtime."
   ]
  },
  {
   "cell_type": "code",
   "execution_count": 21,
   "id": "79ed4bb2-e2c5-453b-9850-2a8b11d83a15",
   "metadata": {},
   "outputs": [],
   "source": [
    "# using Pkg; Pkg.add(\"Plots\")\n",
    "\n",
    "using Plots\n",
    "Plots.scalefontsizes(1.2)"
   ]
  },
  {
   "cell_type": "code",
   "execution_count": 22,
   "id": "2b8d4087-fc31-4ae5-95c9-32b13b5a9b68",
   "metadata": {},
   "outputs": [
    {
     "ename": "MethodError",
     "evalue": "MethodError: no method matching set!(::PauliSum{UInt128, Float64}, ::UInt128, ::ComplexF64)\n\nClosest candidates are:\n  set!(!Matched::Dict{TT, CT}, ::TT, ::CT) where {TT, CT}\n   @ PauliPropagation C:\\Users\\andre\\Desktop\\EPFL\\Master-Project\\ImaginaryTimeEvolutionPauliPropagation\\src\\PauliAlgebra\\datatypes.jl:639\n  set!(::PauliSum{TT, CT}, ::TT, !Matched::CT) where {TT, CT}\n   @ PauliPropagation C:\\Users\\andre\\Desktop\\EPFL\\Master-Project\\ImaginaryTimeEvolutionPauliPropagation\\src\\PauliAlgebra\\datatypes.jl:633\n  set!(!Matched::Dict{TT, NodePathProperties}, ::TT, !Matched::NodePathProperties) where TT\n   @ PauliPropagation C:\\Users\\andre\\Desktop\\EPFL\\Master-Project\\ImaginaryTimeEvolutionPauliPropagation\\src\\Surrogate\\datatypes.jl:126\n",
     "output_type": "error",
     "traceback": [
      "MethodError: no method matching set!(::PauliSum{UInt128, Float64}, ::UInt128, ::ComplexF64)\n",
      "\n",
      "Closest candidates are:\n",
      "  set!(!Matched::Dict{TT, CT}, ::TT, ::CT) where {TT, CT}\n",
      "   @ PauliPropagation C:\\Users\\andre\\Desktop\\EPFL\\Master-Project\\ImaginaryTimeEvolutionPauliPropagation\\src\\PauliAlgebra\\datatypes.jl:639\n",
      "  set!(::PauliSum{TT, CT}, ::TT, !Matched::CT) where {TT, CT}\n",
      "   @ PauliPropagation C:\\Users\\andre\\Desktop\\EPFL\\Master-Project\\ImaginaryTimeEvolutionPauliPropagation\\src\\PauliAlgebra\\datatypes.jl:633\n",
      "  set!(!Matched::Dict{TT, NodePathProperties}, ::TT, !Matched::NodePathProperties) where TT\n",
      "   @ PauliPropagation C:\\Users\\andre\\Desktop\\EPFL\\Master-Project\\ImaginaryTimeEvolutionPauliPropagation\\src\\Surrogate\\datatypes.jl:126\n",
      "\n",
      "\n",
      "Stacktrace:\n",
      " [1] applytoall!(gate::PauliRotation, theta::ComplexF64, psum::PauliSum{UInt128, Float64}, aux_psum::PauliSum{UInt128, Float64}; kwargs::@Kwargs{})\n",
      "   @ PauliPropagation C:\\Users\\andre\\Desktop\\EPFL\\Master-Project\\ImaginaryTimeEvolutionPauliPropagation\\src\\Propagation\\specializations.jl:41\n",
      " [2] applytoall!\n",
      "   @ C:\\Users\\andre\\Desktop\\EPFL\\Master-Project\\ImaginaryTimeEvolutionPauliPropagation\\src\\Propagation\\specializations.jl:19 [inlined]\n",
      " [3] applymergetruncate!(gate::PauliRotation, psum::PauliSum{UInt128, Float64}, aux_psum::PauliSum{UInt128, Float64}, thetas::Vector{ComplexF64}, param_idx::Int64; max_weight::Float64, min_abs_coeff::Int64, max_freq::Float64, max_sins::Float64, customtruncfunc::Nothing, normalization::Bool, kwargs::@Kwargs{})\n",
      "   @ PauliPropagation C:\\Users\\andre\\Desktop\\EPFL\\Master-Project\\ImaginaryTimeEvolutionPauliPropagation\\src\\Propagation\\generics.jl:104\n",
      " [4] propagate!(circ::Vector{Gate}, psum::PauliSum{UInt128, Float64}, thetas::Vector{ComplexF64}; max_weight::Float64, min_abs_coeff::Int64, max_freq::Float64, max_sins::Float64, customtruncfunc::Nothing, normalization::Bool, kwargs::@Kwargs{})\n",
      "   @ PauliPropagation C:\\Users\\andre\\Desktop\\EPFL\\Master-Project\\ImaginaryTimeEvolutionPauliPropagation\\src\\Propagation\\generics.jl:76\n",
      " [5] propagate!\n",
      "   @ C:\\Users\\andre\\Desktop\\EPFL\\Master-Project\\ImaginaryTimeEvolutionPauliPropagation\\src\\Propagation\\generics.jl:55 [inlined]\n",
      " [6] #propagate#113\n",
      "   @ C:\\Users\\andre\\Desktop\\EPFL\\Master-Project\\ImaginaryTimeEvolutionPauliPropagation\\src\\Propagation\\generics.jl:37 [inlined]\n",
      " [7] propagate\n",
      "   @ C:\\Users\\andre\\Desktop\\EPFL\\Master-Project\\ImaginaryTimeEvolutionPauliPropagation\\src\\Propagation\\generics.jl:36 [inlined]\n",
      " [8] #propagate#112\n",
      "   @ C:\\Users\\andre\\Desktop\\EPFL\\Master-Project\\ImaginaryTimeEvolutionPauliPropagation\\src\\Propagation\\generics.jl:21 [inlined]\n",
      " [9] top-level scope\n",
      "   @ .\\timing.jl:503"
     ]
    }
   ],
   "source": [
    "# the min_abs_coeff to check\n",
    "trunc_coeffs = 10.0 .^ (-1:-1:-10)\n",
    "\n",
    "# One more exact computation. Record the expectation value and time.\n",
    "res = @timed propagate(circuit, pstr, thetas; min_abs_coeff=0)\n",
    "exact_expectation = overlapwithzero(res.value)\n",
    "exact_time = res.time\n",
    "\n",
    "# Sweep over the truncation values\n",
    "expectations = zeros(length(trunc_coeffs))\n",
    "times = zeros(length(trunc_coeffs))\n",
    "for (ii, min_abs_coeff) in enumerate(trunc_coeffs)\n",
    "    res = @timed propagate(circuit, pstr, thetas; min_abs_coeff=min_abs_coeff)\n",
    "    expectations[ii] = overlapwithzero(res.value)\n",
    "    times[ii] = res.time\n",
    "end\n",
    "\n",
    "# calculate the absolute error to the exact expectation value\n",
    "abs_errors = abs.(expectations .- exact_expectation);"
   ]
  },
  {
   "cell_type": "markdown",
   "id": "33f73e2f-c8ac-427a-823f-e377ff9c0912",
   "metadata": {},
   "source": [
    "A plot of truncation threshold vs error (lower is better):"
   ]
  },
  {
   "cell_type": "code",
   "execution_count": 23,
   "id": "6a120288-1218-493b-86bc-bcddfe7300b1",
   "metadata": {},
   "outputs": [
    {
     "ename": "UndefVarError",
     "evalue": "UndefVarError: `abs_errors` not defined",
     "output_type": "error",
     "traceback": [
      "UndefVarError: `abs_errors` not defined\n",
      "\n",
      "Stacktrace:\n",
      " [1] top-level scope\n",
      "   @ c:\\Users\\andre\\Desktop\\EPFL\\Master-Project\\ImaginaryTimeEvolutionPauliPropagation\\examples\\jl_notebook_cell_df34fa98e69747e1a8f8a730347b8e2f_X63sZmlsZQ==.jl:1"
     ]
    }
   ],
   "source": [
    "plot(trunc_coeffs, abs_errors, xscale=:log10, yscale=:log10, marker=:o, label=\"With coefficient truncation\", xticks=sort(trunc_coeffs), xlabel=\"Truncation Threshold\", ylabel=\"Error\", yticks=10.0 .^ (-10:1:0), legend=:topleft)"
   ]
  },
  {
   "cell_type": "markdown",
   "id": "f45e593f-6b75-44c5-9a58-8534b4261836",
   "metadata": {},
   "source": [
    "A plot of truncation threshold vs runtime in seconds (lower is better):"
   ]
  },
  {
   "cell_type": "code",
   "execution_count": 24,
   "id": "404e1111-6ed4-41cb-9c1c-997c5181ea82",
   "metadata": {},
   "outputs": [
    {
     "ename": "UndefVarError",
     "evalue": "UndefVarError: `times` not defined",
     "output_type": "error",
     "traceback": [
      "UndefVarError: `times` not defined\n",
      "\n",
      "Stacktrace:\n",
      " [1] top-level scope\n",
      "   @ c:\\Users\\andre\\Desktop\\EPFL\\Master-Project\\ImaginaryTimeEvolutionPauliPropagation\\examples\\jl_notebook_cell_df34fa98e69747e1a8f8a730347b8e2f_X65sZmlsZQ==.jl:1"
     ]
    }
   ],
   "source": [
    "plot(trunc_coeffs, times, xscale=:log10, yscale=:log10, marker=:o, label=\"With coefficient truncation\", xticks=sort(trunc_coeffs), ylabel=\"Runtime [s]\", xlabel=\"Truncation Threshold\", yticks=10.0 .^ (-4:1:0), legend=:bottomleft)\n",
    "hline!([exact_time], color=\"grey\", label=\"Exact computation\", linestyle=:dash, lw=2)"
   ]
  },
  {
   "cell_type": "markdown",
   "id": "fc27c9ce-41e3-4fc1-8079-7569d4f03ddb",
   "metadata": {},
   "source": [
    "And finally, plot the error against the runtime. This tells you, if you need the result to `x` accuraccy, you will need `y` time.  "
   ]
  },
  {
   "cell_type": "code",
   "execution_count": 25,
   "id": "4fb2895e-676a-4480-b18f-0be945397b58",
   "metadata": {},
   "outputs": [
    {
     "ename": "UndefVarError",
     "evalue": "UndefVarError: `abs_errors` not defined",
     "output_type": "error",
     "traceback": [
      "UndefVarError: `abs_errors` not defined\n",
      "\n",
      "Stacktrace:\n",
      " [1] top-level scope\n",
      "   @ c:\\Users\\andre\\Desktop\\EPFL\\Master-Project\\ImaginaryTimeEvolutionPauliPropagation\\examples\\jl_notebook_cell_df34fa98e69747e1a8f8a730347b8e2f_Y100sZmlsZQ==.jl:1"
     ]
    }
   ],
   "source": [
    "plot(abs_errors, times, xscale=:log10, marker=:o, yscale=:log10, label=\"With coefficient truncation\", xticks=10.0 .^ (-10:2:0), xlabel=\"Error\", ylabel=\"Runtime [s]\", yticks=10.0 .^ (-4:1:0), legend=:bottomleft)\n",
    "hline!([exact_time], color=\"grey\", label=\"Exact computation\", linestyle=:dash, lw=2)"
   ]
  },
  {
   "cell_type": "markdown",
   "id": "5148c966-3fa3-4df5-8db9-790c1dbf9048",
   "metadata": {},
   "source": [
    "This highlights a very important concept: There is a time vs accuracy trade-off where one can get away with orders of magnitude less computing resources compared to exact results if one is happy with a certain error. The problem: You may never know what the exact result is, and thus you won't truly know how accurate the results are. You have to check for \"convergence\", which is a stabilization of the result as you lower the truncation. See for example this plot of the expectation value without the exact value for reference:"
   ]
  },
  {
   "cell_type": "code",
   "execution_count": 26,
   "id": "541be855-49bf-48d0-b9bb-d5a06c3473fc",
   "metadata": {},
   "outputs": [
    {
     "ename": "UndefVarError",
     "evalue": "UndefVarError: `expectations` not defined",
     "output_type": "error",
     "traceback": [
      "UndefVarError: `expectations` not defined\n",
      "\n",
      "Stacktrace:\n",
      " [1] top-level scope\n",
      "   @ c:\\Users\\andre\\Desktop\\EPFL\\Master-Project\\ImaginaryTimeEvolutionPauliPropagation\\examples\\jl_notebook_cell_df34fa98e69747e1a8f8a730347b8e2f_Y102sZmlsZQ==.jl:1"
     ]
    }
   ],
   "source": [
    "plot(trunc_coeffs, expectations, xscale=:log10, marker=:o, label=\"\", xticks=sort(trunc_coeffs), xlabel=\"Truncation Threshold\", ylabel=\"Expectation Value\", legend=:topleft)"
   ]
  },
  {
   "cell_type": "markdown",
   "id": "badb209e-cc29-49be-9c31-6f9fc85d6d3f",
   "metadata": {},
   "source": [
    "**An important note about this notebook:**\n",
    "The runtime and errors for different combinations of observable, circuit, and initial state vary **tremedously**. Truly challenging simulations may require `min_abs_coefficient` below `1e-6` or `max_weight` significantly above `10`. This will require heavy compute and perhaps new truncation rules or Pauli merging strategies (but this is left for another tutorial)."
   ]
  }
 ],
 "metadata": {
  "kernelspec": {
   "display_name": "Julia 1.10.4",
   "language": "julia",
   "name": "julia-1.10"
  },
  "language_info": {
   "file_extension": ".jl",
   "mimetype": "application/julia",
   "name": "julia",
   "version": "1.10.4"
  }
 },
 "nbformat": 4,
 "nbformat_minor": 5
}
