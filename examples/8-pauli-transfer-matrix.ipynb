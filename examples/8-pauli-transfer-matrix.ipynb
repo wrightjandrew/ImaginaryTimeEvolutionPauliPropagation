{
 "cells": [
  {
   "cell_type": "markdown",
   "id": "d705e803-83d0-483f-8caa-80bd86637069",
   "metadata": {},
   "source": [
    "## Pauli Transfer Matrix\n",
    "The Pauli Transfer Matrix(PTM) of a (potentially unitary) matrix is its representation in Pauli basis, i.e., how it acts on each Pauli string. While this package is based on transforming Pauli strings into one or many Pauli strings, most gates are not defined via the actual PT matrix. However, there are some tools that you can use to work with matrices, both in 0/1 basis and in Pauli basis, potentially to define your own gates. "
   ]
  },
  {
   "cell_type": "code",
   "execution_count": 1,
   "id": "93f6240e-2a5c-4e8a-804d-bccd612ab1d4",
   "metadata": {},
   "outputs": [],
   "source": [
    "using PauliPropagation\n",
    "using LinearAlgebra"
   ]
  },
  {
   "cell_type": "markdown",
   "id": "fc059138-cc53-431a-99f7-2ad6971b0d92",
   "metadata": {},
   "source": [
    "Let us generate a random 1-qubit unitary matrix via Pauli matrix exponentials:"
   ]
  },
  {
   "cell_type": "code",
   "execution_count": 77,
   "id": "7a741b5c-79b9-416a-948f-5b3e0bcf6879",
   "metadata": {},
   "outputs": [
    {
     "data": {
      "text/plain": [
       "2×2 Matrix{ComplexF64}:\n",
       " -0.676389+0.272189im   0.635702+0.253563im\n",
       " -0.635702+0.253563im  -0.676389-0.272189im"
      ]
     },
     "metadata": {},
     "output_type": "display_data"
    }
   ],
   "source": [
    "# The Pauli matrices are not exported\n",
    "using PauliPropagation: Xmat, Ymat, Zmat \n",
    "\n",
    "U = exp(-im * (randn() * Xmat + randn() * Ymat + randn() * Zmat))"
   ]
  },
  {
   "cell_type": "markdown",
   "id": "66f368b1-f683-4608-85a0-06338e300eb0",
   "metadata": {},
   "source": [
    "Verify that $U$ is unitary via $U \\cdot U^\\dagger = U^\\dagger \\cdot U = \\mathbb{1}$,"
   ]
  },
  {
   "cell_type": "code",
   "execution_count": 3,
   "id": "9243326b-4ab3-4ace-b5a6-633f25e644ca",
   "metadata": {},
   "outputs": [
    {
     "data": {
      "text/plain": [
       "true"
      ]
     },
     "metadata": {},
     "output_type": "display_data"
    }
   ],
   "source": [
    "U * U' ≈ U' * U ≈ I(2)"
   ]
  },
  {
   "cell_type": "markdown",
   "id": "29ceadaa-72cb-458c-919e-4c2d3907fa30",
   "metadata": {},
   "source": [
    "This unitary is in the very common 0/1 basis, also called the computational basis.\n",
    "Here is how you can transform it into the Pauli basis:"
   ]
  },
  {
   "cell_type": "code",
   "execution_count": 4,
   "id": "1c1e4594-90ce-4907-a9a3-fdd929647740",
   "metadata": {},
   "outputs": [
    {
     "data": {
      "text/plain": [
       "4×4 transpose(::Matrix{Float64}) with eltype Float64:\n",
       " 1.0   0.0        0.0        0.0\n",
       " 0.0   0.380327  -0.896647   0.226661\n",
       " 0.0  -0.875141  -0.428176  -0.225375\n",
       " 0.0   0.299133  -0.112644  -0.947539"
      ]
     },
     "metadata": {},
     "output_type": "display_data"
    }
   ],
   "source": [
    "# note the default `heisenberg=true` kwarg\n",
    "Uptm = calculateptm(U)"
   ]
  },
  {
   "cell_type": "markdown",
   "id": "1e9405ee-79fe-4112-b211-9b1312c19fb4",
   "metadata": {},
   "source": [
    "This by default returns the PTM of `U` in the **Heisenberg** picture, i.e., how it acts in the backpropagation of Pauli strings - the default in this package.\n",
    "To get the Schrödinger version, you can take the transpose of this matrix or call `alculateptm(U, heisenberg=false)`."
   ]
  },
  {
   "cell_type": "markdown",
   "id": "28b65a75-0ee4-490c-b8a1-d981c72ef80d",
   "metadata": {},
   "source": [
    "To convince ourselves that `Uptm` is also a unitary in this basis, check $U_{ptm} \\cdot U_{ptm}^T = U_{ptm}^T \\cdot U_{ptm} = \\mathbb{1}$ due to unitaries being real-valued in this basis."
   ]
  },
  {
   "cell_type": "code",
   "execution_count": 5,
   "id": "97d60a96-3b38-41c0-9cd6-d3963c181aca",
   "metadata": {},
   "outputs": [
    {
     "data": {
      "text/plain": [
       "true"
      ]
     },
     "metadata": {},
     "output_type": "display_data"
    }
   ],
   "source": [
    "Uptm * transpose(Uptm) ≈ transpose(Uptm) * Uptm ≈ I(4)"
   ]
  },
  {
   "cell_type": "markdown",
   "id": "baa46151-e1f7-47fb-a844-2bc5e13ca3a7",
   "metadata": {},
   "source": [
    "Great, but what does this unitary even represent? We mentioned that it represents the action of `U` on Pauli strings. A 1-qubit gate can act on 4 Paulis, `I`, `X`, `Y`, and `Z`, each being represented as $(1, 0, 0, 0)^T$, $(0, 1, 0, 0)^T$, $(0, 0, 1, 0)^T$, and $(0, 0, 0, 1)^T$, respectively. `Uptm` thus describes how each of those column vectors or an arbitrary sum thereof is transformed.\n",
    "\n",
    "You might already find use for this, but we also support transforming these PTMs into PT maps that can be turned into gates."
   ]
  },
  {
   "cell_type": "code",
   "execution_count": 6,
   "id": "e46a95b4-adb0-4ed3-b57b-55d777ffda5f",
   "metadata": {},
   "outputs": [
    {
     "data": {
      "text/plain": [
       "4-element Vector{Vector{Tuple{UInt8, Float64}}}:\n",
       " [(0x00, 1.0)]\n",
       " [(0x01, 0.3803268014658819), (0x02, -0.8751406277742586), (0x03, 0.2991327559890552)]\n",
       " [(0x01, -0.896647218616742), (0x02, -0.4281764008953049), (0x03, -0.11264428553283472)]\n",
       " [(0x01, 0.22666117760567495), (0x02, -0.22537491283463446), (0x03, -0.9475393708079833)]"
      ]
     },
     "metadata": {},
     "output_type": "display_data"
    }
   ],
   "source": [
    "ptmap = totransfermap(Uptm)"
   ]
  },
  {
   "cell_type": "markdown",
   "id": "e31d85e5-2cca-4a41-9753-4bea6e49e457",
   "metadata": {},
   "source": [
    "Remember that we encode our Pauli strings in integers, with single-qubit Paulis being 0 (`I`), 1 (`X`), 2 (`Y`), 3 (`Z`). If you index into `ptmap` with those numbers + 1, you will get the corresponding output Paulis with their coefficients. In other words, each entry of a PT map corresponds to a column of the PTM. The Paulis will be set onto the qubit index and the coefficients will be multiplied to the incoming Pauli string's coefficient.\n",
    "\n",
    "What we also see is that this unitary is 3-branching in Pauli basis. `X`, `Y`, and `Z` Paulis will each map to all three with different coefficients. We can define a `TransferMapGate` from PT map, specifying on what qubit it acts (here qubit 1)."
   ]
  },
  {
   "cell_type": "code",
   "execution_count": 7,
   "id": "22145691-687a-43f0-b65d-a917c90d2569",
   "metadata": {},
   "outputs": [
    {
     "data": {
      "text/plain": [
       "TransferMapGate{UInt8, Float64}(Vector{Tuple{UInt8, Float64}}[[(0x00, 1.0)], [(0x01, 0.4768394920371281), (0x02, -0.7396984712638481), (0x03, 0.4748370988493844)], [(0x01, 0.7982591569056932), (0x02, 0.5905700300300628), (0x03, 0.11836113402001157)], [(0x01, -0.3679761096185268), (0x02, 0.322603799172014), (0x03, 0.872078191167396)]], [1])"
      ]
     },
     "execution_count": 7,
     "metadata": {},
     "output_type": "execute_result"
    }
   ],
   "source": [
    "g = TransferMapGate(ptmap, 1)"
   ]
  },
  {
   "cell_type": "markdown",
   "id": "e18e4f47-903f-42c6-af29-5678ca666236",
   "metadata": {},
   "source": [
    "Keep in mind, however, that this gate is not parametrized. It always acts the same. "
   ]
  },
  {
   "cell_type": "code",
   "execution_count": 8,
   "id": "ace51a74-5806-403b-a6f1-36b9f0af84c0",
   "metadata": {},
   "outputs": [
    {
     "data": {
      "text/plain": [
       "true"
      ]
     },
     "execution_count": 8,
     "metadata": {},
     "output_type": "execute_result"
    }
   ],
   "source": [
    "g isa StaticGate"
   ]
  },
  {
   "cell_type": "markdown",
   "id": "c5f50d5d-ed4d-4241-b759-a6d8bc727b32",
   "metadata": {},
   "source": [
    "Finally, let us define a circuit consisting of this gate on every qubit: "
   ]
  },
  {
   "cell_type": "code",
   "execution_count": 17,
   "id": "a4b7f7c6-c799-403f-a91f-3fae3294a8b5",
   "metadata": {},
   "outputs": [
    {
     "data": {
      "text/plain": [
       "PauliString(nqubits: 6, 1.0 * YYYYZZ)"
      ]
     },
     "metadata": {},
     "output_type": "display_data"
    }
   ],
   "source": [
    "# 6 qubits\n",
    "nq = 6\n",
    "\n",
    "# define the circuit as a vector of gates\n",
    "circuit = [TransferMapGate(ptmap, qind) for qind in 1:nq];\n",
    "\n",
    "# make the observable a rabndom global Pauli string because the gate acts trivially on identities `I`\n",
    "pstr = PauliString(nq, [rand((:X, :Y, :Z)) for _ in 1:nq], 1:nq)"
   ]
  },
  {
   "cell_type": "code",
   "execution_count": 10,
   "id": "81c3ba29-19e4-4f12-8a21-e723706ad7b2",
   "metadata": {},
   "outputs": [
    {
     "data": {
      "text/plain": [
       "PauliSum(nqubits: 6, 729 Pauli terms:\n",
       " 0.021565 * ZXYYYX\n",
       " 0.058295 * XZZYXY\n",
       " -0.013901 * YZXYXX\n",
       " 0.029026 * XYZXYZ\n",
       " -0.0074999 * ZZXZZX\n",
       " -0.06908 * YZZXYX\n",
       " 0.015857 * XZXYXX\n",
       " -0.006951 * YYXXXX\n",
       " -0.050892 * YZZYZY\n",
       " -0.0068927 * YYXXZZ\n",
       " -0.18674 * ZZZXYX\n",
       " 0.0058411 * XXYYZX\n",
       " -0.0069218 * XYYXXZ\n",
       " 0.029148 * YZXXXY\n",
       " 0.032669 * YZZYZZ\n",
       " -0.025554 * YZYXYX\n",
       " 0.021433 * XZXXXX\n",
       " 0.012085 * ZYYYZZ\n",
       " -0.027572 * ZZZZZY\n",
       " -0.024598 * ZXXYXY\n",
       "  ⋮)"
      ]
     },
     "execution_count": 10,
     "metadata": {},
     "output_type": "execute_result"
    }
   ],
   "source": [
    "psum = propagate(circuit, pstr)"
   ]
  },
  {
   "cell_type": "markdown",
   "id": "ae8f4f2d-9b7b-4d67-8506-55dfa5dc40f4",
   "metadata": {},
   "source": [
    "And there you go, you can now easily define gates from their matrix representations, both in 0/1 basis or Pauli basis."
   ]
  },
  {
   "cell_type": "markdown",
   "id": "c45a34e6",
   "metadata": {},
   "source": [
    "# Parametrized PTM"
   ]
  },
  {
   "cell_type": "markdown",
   "id": "215c3ed0",
   "metadata": {},
   "source": [
    "Remember when we use `TransferMapGate`, we need a static matrix. However, there is a simpel work-around for parametrized gates. \n",
    "If we are looking at a parametrized gate e.g. a `PauliRotation`, we can first compute its static matrix given a parameter"
   ]
  },
  {
   "cell_type": "code",
   "execution_count": 2,
   "id": "69bfe9b4",
   "metadata": {},
   "outputs": [
    {
     "data": {
      "text/plain": [
       "4×4 transpose(::Matrix{Float64}) with eltype Float64:\n",
       " 1.0  0.0   0.0       0.0\n",
       " 0.0  1.0   0.0       0.0\n",
       " 0.0  0.0   0.707107  0.707107\n",
       " 0.0  0.0  -0.707107  0.707107"
      ]
     },
     "metadata": {},
     "output_type": "display_data"
    }
   ],
   "source": [
    "U = tomatrix(PauliRotation(:X, 1), π/4)\n",
    "ptm = calculateptm(U)"
   ]
  },
  {
   "cell_type": "markdown",
   "id": "94908645",
   "metadata": {},
   "source": [
    "Then `TransferMapGate` will treat the ptm as a static gate, because it has a fixed parameter."
   ]
  },
  {
   "cell_type": "code",
   "execution_count": 3,
   "id": "bb1a8a41",
   "metadata": {},
   "outputs": [
    {
     "data": {
      "text/plain": [
       "TransferMapGate{UInt8, Float64}(Vector{Tuple{UInt8, Float64}}[[(0x00, 1.0)], [(0x01, 1.0)], [(0x02, 0.7071067811865474), (0x03, -0.7071067811865474)], [(0x02, 0.7071067811865474), (0x03, 0.7071067811865474)]], [1])"
      ]
     },
     "metadata": {},
     "output_type": "display_data"
    }
   ],
   "source": [
    "Uptm = totransfermap(ptm)\n",
    "TransferMapGate(Uptm, 1)"
   ]
  },
  {
   "cell_type": "markdown",
   "id": "9bc27121",
   "metadata": {},
   "source": [
    "In fact we can constrcut parametrized circuits using these fixed gates"
   ]
  },
  {
   "cell_type": "code",
   "execution_count": 5,
   "id": "6ade1dde",
   "metadata": {},
   "outputs": [
    {
     "data": {
      "text/plain": [
       "PauliSum(nqubits: 5, 32 Pauli terms:\n",
       " 0.11548 * ZXIIZ\n",
       " -0.11548 * YZYXZ\n",
       " -0.047835 * ZXZYY\n",
       " -0.019814 * XIZYY\n",
       " -0.11548 * YYXXZ\n",
       " 0.047835 * IZXII\n",
       " -0.047835 * YZXZY\n",
       " 0.019814 * XIZZX\n",
       " 0.27881 * IZXXZ\n",
       " 0.047835 * XXZXI\n",
       " 0.047835 * YYYYX\n",
       " -0.11548 * IZYZY\n",
       " 0.27881 * ZIIZX\n",
       " 0.047835 * YYYZY\n",
       " 0.11548 * ZIZXI\n",
       " 0.047835 * ZXZZX\n",
       " -0.11548 * IYXYX\n",
       " 0.11548 * XXIZX\n",
       " -0.019814 * YZYII\n",
       " 0.019814 * ZXIXI\n",
       "  ⋮)"
      ]
     },
     "metadata": {},
     "output_type": "display_data"
    }
   ],
   "source": [
    "nq = 5\n",
    "\n",
    "circuit = Gate[]\n",
    "append!(circuit, CliffordGate(:CNOT, pair) for pair in bricklayertopology(nq))\n",
    "append!(circuit, CliffordGate(:H, ii) for ii in 1:nq)\n",
    "append!(circuit, PauliRotation(:Y, ii, π / 8) for ii in 1:nq)\n",
    "\n",
    "ptmap = totransfermap(nq, circuit)\n",
    "g = TransferMapGate(ptmap, 1:nq)\n",
    "\n",
    "pstr = PauliString(nq, [:X for _ in 1:nq], 1:nq)\n",
    "psum1 = propagate(g, pstr)"
   ]
  },
  {
   "cell_type": "markdown",
   "id": "cb6f7176",
   "metadata": {},
   "source": [
    "Let's verify that we get the same answer using a circuit constrcuted from `TransferMapGate`s and natively supported gates."
   ]
  },
  {
   "cell_type": "code",
   "execution_count": null,
   "id": "1a8c582d",
   "metadata": {},
   "outputs": [],
   "source": [
    "psum2 = propagate(circuit, pstr)\n",
    "@show psum1 == psum2"
   ]
  },
  {
   "cell_type": "markdown",
   "id": "0c55e945",
   "metadata": {},
   "source": [
    "Finally, lets's compare their performance"
   ]
  },
  {
   "cell_type": "code",
   "execution_count": 9,
   "id": "304a02b1",
   "metadata": {},
   "outputs": [
    {
     "name": "stdout",
     "output_type": "stream",
     "text": [
      "Compiled circuit via transfer map:\n",
      "  5.412 μs (57 allocations: 4.88 KiB)\n",
      "Original circuit:\n",
      "  21.325 μs (84 allocations: 6.36 KiB)\n"
     ]
    }
   ],
   "source": [
    "using BenchmarkTools\n",
    "println(\"Compiled circuit via transfer map:\")\n",
    "propagate(g, pstr);\n",
    "propagate(circuit, pstr);\n",
    "@btime propagate($g, $pstr);\n",
    "println(\"Original circuit:\")\n",
    "@btime propagate($circuit, $pstr);"
   ]
  },
  {
   "cell_type": "code",
   "execution_count": null,
   "id": "277bcc73",
   "metadata": {},
   "outputs": [],
   "source": []
  }
 ],
 "metadata": {
  "kernelspec": {
   "display_name": "Julia 1.10.7",
   "language": "julia",
   "name": "julia-1.10"
  },
  "language_info": {
   "file_extension": ".jl",
   "mimetype": "application/julia",
   "name": "julia",
   "version": "1.10.7"
  }
 },
 "nbformat": 4,
 "nbformat_minor": 5
}
