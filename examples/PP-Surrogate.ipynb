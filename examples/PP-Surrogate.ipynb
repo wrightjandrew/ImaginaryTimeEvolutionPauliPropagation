{
 "cells": [
  {
   "cell_type": "markdown",
   "id": "96393de6-688f-4eee-9d39-35dee1616fc6",
   "metadata": {},
   "source": [
    "# The Pauli Propagation Surrogate\n",
    "Given that large parts of the Pauli path branching are determined by the observable and the types of gates in the circuit, could we do the propagation once, somehow compile the paths, and never re-compute the full problem? Especially in expectation value calculations, where a lot fewer paths than we compute end up contributing?\n",
    "This is what our **Pauli propagation surrogate** is for! With an initial investment of time and especially memory, we try to make consecutive evaluations a lot faster. \n",
    "\n",
    "The surrogate is not the main focus of the PauliPropagation.jl package, and there are still a lot of potential improvements, but it may already be what you are looking for in some cases."
   ]
  },
  {
   "cell_type": "code",
   "execution_count": 1,
   "id": "2acd19a8-490e-4265-9352-57c41a67093a",
   "metadata": {},
   "outputs": [],
   "source": [
    "using PauliPropagation"
   ]
  },
  {
   "cell_type": "markdown",
   "id": "2f86502f-f8ca-44cd-8203-64878d31c7df",
   "metadata": {},
   "source": [
    "Let's define some arbitrary small example simulation. Please know that the surrogate currently only accepts circuits with `CliffordGate`s and `PauliRotation`s. "
   ]
  },
  {
   "cell_type": "code",
   "execution_count": 2,
   "id": "852eb2fe-79c3-4771-a521-3364cb9e8c23",
   "metadata": {},
   "outputs": [
    {
     "data": {
      "text/plain": [
       "64"
      ]
     },
     "execution_count": 2,
     "metadata": {},
     "output_type": "execute_result"
    }
   ],
   "source": [
    "nq = 8\n",
    "nl = 4\n",
    "\n",
    "topology = bricklayertopology(nq)\n",
    "circuit = efficientsu2circuit(nq, nl; topology)\n",
    "nparams = countparameters(circuit)"
   ]
  },
  {
   "cell_type": "code",
   "execution_count": 3,
   "id": "73a44920-960f-438c-bd55-ec7b64cae30b",
   "metadata": {},
   "outputs": [
    {
     "data": {
      "text/plain": [
       "PauliSum(nqubits: 8, 2 Pauli terms:\n",
       " 1.0 * IIIIIIIZ\n",
       " 1.0 * ZIIIIIII\n",
       ")"
      ]
     },
     "execution_count": 3,
     "metadata": {},
     "output_type": "execute_result"
    }
   ],
   "source": [
    "observable = PauliSum(nq)\n",
    "add!(observable, :Z, 1)\n",
    "add!(observable, :Z, nq)"
   ]
  },
  {
   "cell_type": "markdown",
   "id": "919f4363-7005-4131-a046-348f0dc804fe",
   "metadata": {},
   "source": [
    "### Using the Surrogate"
   ]
  },
  {
   "cell_type": "markdown",
   "id": "aab937cd-c27a-4b06-869e-485f929b72eb",
   "metadata": {},
   "source": [
    "Our surrogation approach is based on a custom `PathPropergies` type called `NodePathProperties`. Similar to the `PauliFreqTracker`, we use can truncate via `max_freq` and `max_sins`, but it also carries objects instead of coefficients that build a propagation graph on the fly. This graph will later be evaluated.\n",
    "\n",
    "Here is how you prepare the surrogate by wrapping your observable, i.e. your `PauliString` or `PauliSum` into `NodePathProperties`. This may become simpler in the future."
   ]
  },
  {
   "cell_type": "code",
   "execution_count": 4,
   "id": "f5b72407-cd51-44bd-9975-7aaaf231c546",
   "metadata": {},
   "outputs": [
    {
     "data": {
      "text/plain": [
       "PauliSum(nqubits: 8, 2 Pauli terms:\n",
       " NodePathProperties * IIIIIIIZ\n",
       " NodePathProperties * ZIIIIIII\n",
       ")"
      ]
     },
     "execution_count": 4,
     "metadata": {},
     "output_type": "execute_result"
    }
   ],
   "source": [
    "wrapped_observable = wrapcoefficients(observable, NodePathProperties)"
   ]
  },
  {
   "cell_type": "markdown",
   "id": "9e918840-46c5-408d-9d82-0d0ce5f0e612",
   "metadata": {},
   "source": [
    "To surrogate, simply propagate without passing any parameters `thetas`. Those come later. Note that for any harder simulation we should set truncation values!"
   ]
  },
  {
   "cell_type": "code",
   "execution_count": 5,
   "id": "a28ede0b-e705-4dea-97f3-20411aba84c4",
   "metadata": {},
   "outputs": [
    {
     "name": "stdout",
     "output_type": "stream",
     "text": [
      "  0.743384 seconds (1.52 M allocations: 74.270 MiB, 1.45% gc time, 97.98% compilation time)\n"
     ]
    },
    {
     "data": {
      "text/plain": [
       "PauliSum(nqubits: 8, 15314 Pauli terms:\n",
       " NodePathProperties * IIYZXIXI\n",
       " NodePathProperties * ZXXYXYZY\n",
       " NodePathProperties * XXIXXYXY\n",
       " NodePathProperties * XZIZYZYZ\n",
       " NodePathProperties * ZZIZIZYZ\n",
       " NodePathProperties * IIXZZXZI\n",
       " NodePathProperties * ZXXXZXXI\n",
       " NodePathProperties * YZIXXZII\n",
       " NodePathProperties * IIXZZZYZ\n",
       " NodePathProperties * ZZZZYXZZ\n",
       " NodePathProperties * ZZXYIYZZ\n",
       " NodePathProperties * XZZXZYIZ\n",
       " NodePathProperties * IIYYZZYX\n",
       " NodePathProperties * ZZZZIYZZ\n",
       " NodePathProperties * XZZXZZYZ\n",
       " NodePathProperties * IIYXXIYI\n",
       " NodePathProperties * ZZXZZXII\n",
       " NodePathProperties * XZXZZIZX\n",
       " NodePathProperties * XXXYIYXZ\n",
       " NodePathProperties * ZZIXZXZY\n",
       "  ⋮)"
      ]
     },
     "execution_count": 5,
     "metadata": {},
     "output_type": "execute_result"
    }
   ],
   "source": [
    "@time surrogate_psum = propagate(circuit, wrapped_observable)"
   ]
  },
  {
   "cell_type": "markdown",
   "id": "aeb32e36-f3c8-43f3-85cd-9917d63a7cfd",
   "metadata": {},
   "source": [
    "Done. Now we define the parameters for the Pauli rotations."
   ]
  },
  {
   "cell_type": "code",
   "execution_count": 6,
   "id": "3ab1505f-f234-4fd2-a431-450d2fe75f62",
   "metadata": {},
   "outputs": [],
   "source": [
    "using Random\n",
    "Random.seed!(42)\n",
    "thetas = randn(nparams);"
   ]
  },
  {
   "cell_type": "markdown",
   "id": "0e60b5a3-8cd2-41cc-b90a-ce76be379e4a",
   "metadata": {},
   "source": [
    "By calling `evaluate!()` on the surrogate Pauli sum, the computational graph is properly evaluated for specific parameter values."
   ]
  },
  {
   "cell_type": "code",
   "execution_count": 7,
   "id": "d5240496-d8f8-49d6-a04a-6cf3e6cc7d02",
   "metadata": {},
   "outputs": [],
   "source": [
    "# the surrogate_psum is evaluated in-place\n",
    "evaluate!(surrogate_psum, thetas);"
   ]
  },
  {
   "cell_type": "markdown",
   "id": "22e34923-7459-4ee6-b6c3-dd5cada65069",
   "metadata": {},
   "source": [
    "Now we can use the surrogate like the Pauli sums that you are used to."
   ]
  },
  {
   "cell_type": "code",
   "execution_count": 8,
   "id": "07129271-3360-405b-bc30-69a05cfbc3c3",
   "metadata": {},
   "outputs": [
    {
     "data": {
      "text/plain": [
       "-0.2488994501782641"
      ]
     },
     "execution_count": 8,
     "metadata": {},
     "output_type": "execute_result"
    }
   ],
   "source": [
    "overlapwithzero(surrogate_psum)"
   ]
  },
  {
   "cell_type": "markdown",
   "id": "71ba9356-fa7f-48f6-b952-c5831dc4b761",
   "metadata": {},
   "source": [
    "Now compare this with the conventional Pauli propagation simulation:"
   ]
  },
  {
   "cell_type": "code",
   "execution_count": 9,
   "id": "1ab4c8e2-95ca-4f3e-a7b0-f81349539cb6",
   "metadata": {},
   "outputs": [
    {
     "data": {
      "text/plain": [
       "PauliSum(nqubits: 8, 15314 Pauli terms:\n",
       " 0.00094943 * IIYZXIXI\n",
       " 0.0012401 * ZXXYXYZY\n",
       " -8.8328e-5 * XXIXXYXY\n",
       " -8.9315e-5 * XZIZYZYZ\n",
       " 0.00079019 * ZZIZIZYZ\n",
       " -0.0027623 * IIXZZXZI\n",
       " 2.3068e-5 * ZXXXZXXI\n",
       " 0.013333 * YZIXXZII\n",
       " -0.0047358 * IIXZZZYZ\n",
       " -0.00024593 * ZZZZYXZZ\n",
       " 0.00046659 * ZZXYIYZZ\n",
       " 2.7781e-5 * XZZXZYIZ\n",
       " 0.00014479 * IIYYZZYX\n",
       " 3.3844e-5 * ZZZZIYZZ\n",
       " -9.6428e-6 * XZZXZZYZ\n",
       " -0.0016772 * IIYXXIYI\n",
       " -0.0037817 * ZZXZZXII\n",
       " 2.8355e-6 * XZXZZIZX\n",
       " 4.4524e-6 * XXXYIYXZ\n",
       " -0.0002194 * ZZIXZXZY\n",
       "  ⋮)"
      ]
     },
     "execution_count": 9,
     "metadata": {},
     "output_type": "execute_result"
    }
   ],
   "source": [
    "psum = propagate(circuit, observable, thetas)"
   ]
  },
  {
   "cell_type": "code",
   "execution_count": 10,
   "id": "2e7a7e0e-dae4-487e-9714-8b0f48762361",
   "metadata": {},
   "outputs": [
    {
     "data": {
      "text/plain": [
       "-0.2488994501782641"
      ]
     },
     "execution_count": 10,
     "metadata": {},
     "output_type": "execute_result"
    }
   ],
   "source": [
    "# the same result\n",
    "overlapwithzero(psum)"
   ]
  },
  {
   "cell_type": "markdown",
   "id": "41f64967-76ff-4ef0-9924-11c87e33c828",
   "metadata": {},
   "source": [
    "### Benchmarking\n",
    "We mentioned this approach would be faster, but is it? First addressing the elephant in the room: The initial surrogation propagation is **a lot** slower. It also uses drastically more memory. These are things that can be improved in the future, but you may still find this useful. Also note that these notebooks are run with 12 usable CPU threads in the Julia kernel. Results may vary with more or less."
   ]
  },
  {
   "cell_type": "code",
   "execution_count": 11,
   "id": "d34e6810-c36b-4397-b6c7-77b42455b460",
   "metadata": {},
   "outputs": [],
   "source": [
    "# load Julia's benchmarking library\n",
    "using BenchmarkTools"
   ]
  },
  {
   "cell_type": "code",
   "execution_count": 12,
   "id": "2dcd1993-9f44-4d1f-97dd-3f7dd0546861",
   "metadata": {},
   "outputs": [
    {
     "name": "stdout",
     "output_type": "stream",
     "text": [
      "  692.796 μs (127 allocations: 490.94 KiB)\n"
     ]
    }
   ],
   "source": [
    "# benchmark the surrogate\n",
    "@btime evaluate!($surrogate_psum, $thetas);"
   ]
  },
  {
   "cell_type": "code",
   "execution_count": 13,
   "id": "a4c6b476-8231-4a4b-b5d1-2917215c6983",
   "metadata": {},
   "outputs": [
    {
     "name": "stdout",
     "output_type": "stream",
     "text": [
      "  5.237 ms (461 allocations: 1.16 MiB)\n"
     ]
    }
   ],
   "source": [
    "# benchmark the normal propagation\n",
    "@btime propagate($circuit, $observable, $thetas);"
   ]
  },
  {
   "cell_type": "markdown",
   "id": "fda412d0-b198-4552-90ed-947cd691cac1",
   "metadata": {},
   "source": [
    "Depending on whether you started started your Julia kernel with several CPU threads, this might already be faster. While we will discuss some caveats further down, this is not the surrogate's final form.\n",
    "\n",
    "We have not yet made use of the main advantage of a surrogate: If we know at the end which Pauli strings contribute to expectation values, we can call `evaluate!()`  only on those paths and none of the others. Let's filter the surrogate Pauli sum so that it only contains the Pauli strings relevant to `overlapwithzero()`, i.e. the $|0\\rangle\\langle0|$ state. "
   ]
  },
  {
   "cell_type": "code",
   "execution_count": 15,
   "id": "17cd2553-fa65-4986-903a-9930bef8e07b",
   "metadata": {},
   "outputs": [],
   "source": [
    "# zerofilter! actually changes the surrogate in-place. Copying may lead to wrong behavior.\n",
    "surrogate_psum = zerofilter!(surrogate_psum);\n",
    "\n",
    "## zerofilter!() is the same as this:\n",
    "# for pstr in paulis(surrogate_psum)\n",
    "#     if containsXorY(pstr)\n",
    "#         delete!(surrogate_psum, pstr)\n",
    "#     end\n",
    "# end"
   ]
  },
  {
   "cell_type": "code",
   "execution_count": 16,
   "id": "1f53be6d-3b0d-40df-8bdb-346d64cbaa1a",
   "metadata": {},
   "outputs": [
    {
     "name": "stdout",
     "output_type": "stream",
     "text": [
      "  78.126 μs (127 allocations: 15.50 KiB)\n"
     ]
    }
   ],
   "source": [
    "@btime evaluate!($surrogate_psum, $thetas);"
   ]
  },
  {
   "cell_type": "markdown",
   "id": "33b5183c-baa6-48e7-a004-5df2c07370cf",
   "metadata": {},
   "source": [
    "And this is substantially faster! \n",
    "\n",
    "So far we covered a very small-scale problem without the need to perform any truncations. Though this is what we will now do, highlighting some of the nuances and issues of a(/our) surrogate."
   ]
  },
  {
   "cell_type": "markdown",
   "id": "8447f0f2-b7b7-44b0-b528-3ced570340d0",
   "metadata": {},
   "source": [
    "### Truncating the Surrogate\n",
    "\n",
    "Set up a bigger problem on a 2D topology. Don't run this without truncations!"
   ]
  },
  {
   "cell_type": "code",
   "execution_count": 17,
   "id": "e48f0617-616c-4394-91c9-81182022e003",
   "metadata": {},
   "outputs": [
    {
     "data": {
      "text/plain": [
       "672"
      ]
     },
     "execution_count": 17,
     "metadata": {},
     "output_type": "execute_result"
    }
   ],
   "source": [
    "nx = 6\n",
    "ny = 6\n",
    "nq = nx * ny\n",
    "\n",
    "nl = 4\n",
    "\n",
    "topology = rectangletopology(nx, ny)\n",
    "\n",
    "circuit = hardwareefficientcircuit(nq, nl; topology)\n",
    "\n",
    "nparams = countparameters(circuit)"
   ]
  },
  {
   "cell_type": "code",
   "execution_count": 18,
   "id": "8a284653-2216-4298-ac3a-d9e4136e6d3b",
   "metadata": {},
   "outputs": [
    {
     "data": {
      "text/plain": [
       "PauliString(nqubits: 36, 1.0 * IIIIIIIIIIIIIIIIIIII...)"
      ]
     },
     "execution_count": 18,
     "metadata": {},
     "output_type": "execute_result"
    }
   ],
   "source": [
    "# a Pauli Z observable in the middle\n",
    "pstr = PauliString(nq, :Z, 21)"
   ]
  },
  {
   "cell_type": "code",
   "execution_count": 19,
   "id": "d51fa68e-7e5c-404b-a09e-d57dbbb5c3b6",
   "metadata": {},
   "outputs": [
    {
     "data": {
      "text/plain": [
       "PauliString(nqubits: 36, NodePathProperties * IIIIIIIIIIIIIIIIIIII...)"
      ]
     },
     "execution_count": 19,
     "metadata": {},
     "output_type": "execute_result"
    }
   ],
   "source": [
    "# wrap it in `NodePathProperties` again\n",
    "wrapped_pstr = wrapcoefficients(pstr, NodePathProperties)"
   ]
  },
  {
   "cell_type": "markdown",
   "id": "315ef8d3-9cd1-49e4-9c21-170e270a4d17",
   "metadata": {},
   "source": [
    "Now we set the truncation values. For this demonstration, we will chose them as rather inaccurate truncations. Otherwise we might run out of memory pretty quickly."
   ]
  },
  {
   "cell_type": "code",
   "execution_count": 20,
   "id": "7205e449-8f28-4b1f-8e08-d433c5357dd2",
   "metadata": {},
   "outputs": [],
   "source": [
    "max_freq = 26\n",
    "# max_sins = 10   # another option if your rotation angles are small\n",
    "max_weight = 7;"
   ]
  },
  {
   "cell_type": "code",
   "execution_count": 21,
   "id": "2d23658a-5389-4e47-b74e-204ce80662cb",
   "metadata": {},
   "outputs": [
    {
     "name": "stdout",
     "output_type": "stream",
     "text": [
      "  4.466471 seconds (45.87 M allocations: 1.813 GiB, 7.51% gc time, 8.38% compilation time)\n"
     ]
    },
    {
     "data": {
      "text/plain": [
       "PauliSum(nqubits: 36, 1626 Pauli terms:\n",
       " NodePathProperties * IIIIIIIIIIIIIXIIIIIZ...\n",
       " NodePathProperties * IIIIIIIIIIIIIIIIIIII...\n",
       " NodePathProperties * IIIIIIIIIIIIIIZIIIII...\n",
       " NodePathProperties * IIIIIIIIIIIIIIIIIIII...\n",
       " NodePathProperties * IIIIIIIIIIIIIIYIIIIZ...\n",
       " NodePathProperties * IIIIIIIIIIIIIIYXIIII...\n",
       " NodePathProperties * IIIIIIIIIIIIIIIYIIII...\n",
       " NodePathProperties * IIIIIIIIIIIIIIXIIIIX...\n",
       " NodePathProperties * IIIIIIIIIIIIIIXIIIIZ...\n",
       " NodePathProperties * IIIIIIIIIIIIIIYIIIIY...\n",
       " NodePathProperties * IIIIIIIIIIIIIIIIIIII...\n",
       " NodePathProperties * IIIIIIIIXIIIIIZXIIII...\n",
       " NodePathProperties * IIIIIIIIIIIIIIIZIIII...\n",
       " NodePathProperties * IIIIIIIIIIIIIIZIIIIY...\n",
       " NodePathProperties * IIIIIIIIIIIIIIIIIIIY...\n",
       " NodePathProperties * IIIIIIIIIIIIIIZIIIIZ...\n",
       " NodePathProperties * IIIIIIIIIIIIIIYIIIIY...\n",
       " NodePathProperties * IIIIIIIIIIIIZIIIIIXI...\n",
       " NodePathProperties * IIIIIIIIYIIIIIYZIIII...\n",
       " NodePathProperties * IIIIIIIIIIIIIIIIIIIX...\n",
       "  ⋮)"
      ]
     },
     "execution_count": 21,
     "metadata": {},
     "output_type": "execute_result"
    }
   ],
   "source": [
    "@time surrogate_psum = propagate(circuit, wrapped_pstr; max_freq, max_weight)"
   ]
  },
  {
   "cell_type": "code",
   "execution_count": 22,
   "id": "ffec0926-2c13-4e52-bed5-82866750921a",
   "metadata": {},
   "outputs": [],
   "source": [
    "# filter against the initial state to speed up evaluation\n",
    "surrogate_psum = zerofilter!(surrogate_psum);"
   ]
  },
  {
   "cell_type": "markdown",
   "id": "0b4dc0f9-cef1-432c-967f-4cb551456177",
   "metadata": {},
   "source": [
    "Now we can compare against non-surrogate Pauli propagation simulation. \n",
    "\n",
    "First, compare to the fully equivalent simulation with coefficients wrapped in `PauliFreqTracker`"
   ]
  },
  {
   "cell_type": "code",
   "execution_count": 23,
   "id": "ff99ac70-7469-49bb-931a-3741d0a759b1",
   "metadata": {},
   "outputs": [
    {
     "name": "stdout",
     "output_type": "stream",
     "text": [
      "Equivalent Pauli propagation takes time: 2.305508257. Expectation: -0.09195551666054731\n",
      "Pauli propagation surrogate takes time:  0.041868708. Expectation: -0.09195551665437665\n",
      "\n",
      "Equivalent Pauli propagation takes time: 2.002028923. Expectation: 0.0061961020258748875\n",
      "Pauli propagation surrogate takes time:  0.015220038. Expectation: 0.006196102025828212\n",
      "\n",
      "Equivalent Pauli propagation takes time: 1.990702787. Expectation: 0.26122265730227046\n",
      "Pauli propagation surrogate takes time:  0.014465094. Expectation: 0.2612226572956533\n",
      "\n",
      "Equivalent Pauli propagation takes time: 1.997343641. Expectation: 0.23681986847693884\n",
      "Pauli propagation surrogate takes time:  0.012949391. Expectation: 0.23681986862949678\n",
      "\n",
      "Equivalent Pauli propagation takes time: 1.992376058. Expectation: 0.017753943018382894\n",
      "Pauli propagation surrogate takes time:  0.012875657. Expectation: 0.017753942996396717\n",
      "\n",
      "Equivalent Pauli propagation takes time: 2.034662166. Expectation: 0.11424995928834947\n",
      "Pauli propagation surrogate takes time:  0.015339153. Expectation: 0.1142499589709459\n",
      "\n",
      "Equivalent Pauli propagation takes time: 2.10838882. Expectation: -0.023304227486245332\n",
      "Pauli propagation surrogate takes time:  0.014297325. Expectation: -0.023304227486453687\n",
      "\n",
      "Equivalent Pauli propagation takes time: 2.004879548. Expectation: -0.021730640866541518\n",
      "Pauli propagation surrogate takes time:  0.013689855. Expectation: -0.021730640866700873\n",
      "\n",
      "Equivalent Pauli propagation takes time: 1.965853133. Expectation: -0.2437068273729121\n",
      "Pauli propagation surrogate takes time:  0.014518897. Expectation: -0.2437068274419119\n",
      "\n",
      "Equivalent Pauli propagation takes time: 2.040058329. Expectation: -0.00026444458430953627\n",
      "Pauli propagation surrogate takes time:  0.012914714. Expectation: -0.000264086458895084\n",
      "\n"
     ]
    }
   ],
   "source": [
    "Random.seed!(420)\n",
    "\n",
    "for _ in 1:10\n",
    "    thetas = randn(nparams)\n",
    "    t1 = @timed psum = propagate(circuit, wrapcoefficients(pstr, PauliFreqTracker), thetas; max_freq, max_weight)\n",
    "    t2 = @timed evaluate!(surrogate_psum, thetas)\n",
    "    println(\"Equivalent Pauli propagation takes time: $(t1.time). Expectation: \", overlapwithzero(psum))\n",
    "    println(\"Pauli propagation surrogate takes time:  $(t2.time). Expectation: \", overlapwithzero(surrogate_psum))\n",
    "    println(\"\") # for space\n",
    "end"
   ]
  },
  {
   "cell_type": "markdown",
   "id": "4af3dd13-d52a-43c8-8327-e6af2b6fd4ef",
   "metadata": {},
   "source": [
    "In some sense, this comparison is *fair* in that it shows the power of the fast re-evaluation of the surrogate. On the other hand, though, truncation via `max_freq` (as used here) is a little unnatural when the parameters are known. If the parameters are known then you can simply use coefficient truncation via `min_abs_coeff` which is both quicker and more accurate. So let's compare against some simulations with `min_abs_coeff` truncation."
   ]
  },
  {
   "cell_type": "code",
   "execution_count": 24,
   "id": "b0c8cd98-b6ea-40d0-830e-55de76f94303",
   "metadata": {},
   "outputs": [
    {
     "name": "stdout",
     "output_type": "stream",
     "text": [
      "Conventional Pauli propagation takes time: 0.845896765. Expectation: -0.11957680055685282\n",
      "Pauli propagation surrogate takes time:    0.013028811. Expectation: -0.09195551665437665\n",
      "\n",
      "Conventional Pauli propagation takes time: 0.608163489. Expectation: 0.0390555694109426\n",
      "Pauli propagation surrogate takes time:    0.01503807. Expectation: 0.006196102025828212\n",
      "\n",
      "Conventional Pauli propagation takes time: 0.462560038. Expectation: 0.2592670505089839\n",
      "Pauli propagation surrogate takes time:    0.013515994. Expectation: 0.2612226572956533\n",
      "\n",
      "Conventional Pauli propagation takes time: 0.265769131. Expectation: 0.22284384871602575\n",
      "Pauli propagation surrogate takes time:    0.013623108. Expectation: 0.23681986862949678\n",
      "\n",
      "Conventional Pauli propagation takes time: 0.422622347. Expectation: 0.04981959282499783\n",
      "Pauli propagation surrogate takes time:    0.014756155. Expectation: 0.017753942996396717\n",
      "\n",
      "Conventional Pauli propagation takes time: 0.408100979. Expectation: 0.05547121704791136\n",
      "Pauli propagation surrogate takes time:    0.013112751. Expectation: 0.1142499589709459\n",
      "\n",
      "Conventional Pauli propagation takes time: 0.491540329. Expectation: 0.034108538239434966\n",
      "Pauli propagation surrogate takes time:    0.013488555. Expectation: -0.023304227486453687\n",
      "\n",
      "Conventional Pauli propagation takes time: 0.421916811. Expectation: -0.0362384710528811\n",
      "Pauli propagation surrogate takes time:    0.013672516. Expectation: -0.021730640866700873\n",
      "\n",
      "Conventional Pauli propagation takes time: 0.208821338. Expectation: -0.22312454576832402\n",
      "Pauli propagation surrogate takes time:    0.013472198. Expectation: -0.2437068274419119\n",
      "\n",
      "Conventional Pauli propagation takes time: 0.50373532. Expectation: -0.08455886704434287\n",
      "Pauli propagation surrogate takes time:    0.015333652. Expectation: -0.000264086458895084\n",
      "\n"
     ]
    }
   ],
   "source": [
    "min_abs_coeff = 1e-3  # this is a very inaccurate truncation for simulations of interest\n",
    "\n",
    "Random.seed!(420)\n",
    "\n",
    "for _ in 1:10\n",
    "    thetas = randn(nparams)\n",
    "    t1 = @timed psum = propagate(circuit, pstr, thetas; min_abs_coeff, max_weight)\n",
    "    t2 = @timed evaluate!(surrogate_psum, thetas)\n",
    "    println(\"Conventional Pauli propagation takes time: $(t1.time). Expectation: \", overlapwithzero(psum))\n",
    "    println(\"Pauli propagation surrogate takes time:    $(t2.time). Expectation: \", overlapwithzero(surrogate_psum))\n",
    "    println(\"\") # for space\n",
    "end"
   ]
  },
  {
   "cell_type": "markdown",
   "id": "a888b3e6-5c44-49a2-ab6a-328e926f0e72",
   "metadata": {},
   "source": [
    "Which approach is more accurate? The precise comparison is beyond the scope of this notebook and highly implementation dependent. What we can say at this point is that there is a potential advantage of using the surrogate **if you can afford the extra memory**. There is also some initial time overhead, but the faster re-evaluation should quickly compensate **if you are doing lots of evaluations**. When you are happy with rough but rapid estimates, the surrogate might be the way to go. "
   ]
  }
 ],
 "metadata": {
  "kernelspec": {
   "display_name": "Julia 1.11.2",
   "language": "julia",
   "name": "julia-1.11"
  },
  "language_info": {
   "file_extension": ".jl",
   "mimetype": "application/julia",
   "name": "julia",
   "version": "1.11.2"
  }
 },
 "nbformat": 4,
 "nbformat_minor": 5
}
