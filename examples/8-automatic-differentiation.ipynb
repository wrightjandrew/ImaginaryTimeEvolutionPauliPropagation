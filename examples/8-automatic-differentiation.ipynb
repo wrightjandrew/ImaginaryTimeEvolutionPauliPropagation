{
 "cells": [
  {
   "cell_type": "markdown",
   "id": "15cbaf9a-60d8-4998-97c2-fb013581470d",
   "metadata": {},
   "source": [
    "### An example of Automatic Differentiation"
   ]
  },
  {
   "cell_type": "code",
   "execution_count": 1,
   "id": "20669a1a-a02c-43d9-ab41-f83aafd83ace",
   "metadata": {},
   "outputs": [],
   "source": [
    "using PauliPropagation"
   ]
  },
  {
   "cell_type": "markdown",
   "id": "57585029-6b3d-40c4-871f-28900a04193f",
   "metadata": {},
   "source": [
    "Note that we will define a lot of variables going forward as constant via the `const` syntax. In Julia, this does not fix the value of the variable, but its type. This is vital when using global variables inside functions so that performance is maintained."
   ]
  },
  {
   "cell_type": "code",
   "execution_count": 2,
   "id": "707c3ac9-d46b-4c55-9607-2fcff94de271",
   "metadata": {},
   "outputs": [],
   "source": [
    "# denote with `const` so the code that uses this global variable remains fast\n",
    "const nq = 16\n",
    "\n",
    "# denote with `const` so the code that uses this global variable remains fast\n",
    "const topology = bricklayertopology(nq);"
   ]
  },
  {
   "cell_type": "markdown",
   "id": "2a24c7c3-e326-4563-91dd-ce9044ee8765",
   "metadata": {},
   "source": [
    "We define a transverse field Hamiltonian, whose derivative we will compute. This could be used within a variational energy minimization routine to find its ground state. \n",
    "\n",
    "The Hamiltonian here reads $H = \\sum_{i}X_i + \\sum_{\\langle i, j\\rangle}Z_iZ_j$ where $ \\langle i, j\\rangle$ denotes neighbors on the topology."
   ]
  },
  {
   "cell_type": "code",
   "execution_count": 3,
   "id": "9e1d5fb1-5cc0-419f-a50a-5126a5c20e48",
   "metadata": {},
   "outputs": [
    {
     "data": {
      "text/plain": [
       "PauliSum(nqubits: 16, 31 Pauli terms:\n",
       " 1.0 * IIXIIIIIIIIIIIII\n",
       " 1.0 * IIIIIIIIIIIIXIII\n",
       " 1.0 * IIIIIIIIIIIIIIIX\n",
       " 1.0 * IZZIIIIIIIIIIIII\n",
       " 1.0 * IIIIIIIIIIIIIXII\n",
       " 1.0 * IIIIIIXIIIIIIIII\n",
       " 1.0 * IIIIIIIIZZIIIIII\n",
       " 1.0 * XIIIIIIIIIIIIIII\n",
       " 1.0 * IIIIXIIIIIIIIIII\n",
       " 1.0 * IIIIIIIIIIIIZZII\n",
       " 1.0 * IIIIZZIIIIIIIIII\n",
       " 1.0 * IIIIIZZIIIIIIIII\n",
       " 1.0 * IIIIIIIZZIIIIIII\n",
       " 1.0 * IIIIIXIIIIIIIIII\n",
       " 1.0 * IIIIIIIIIIIZZIII\n",
       " 1.0 * IIIIIIIIIIXIIIII\n",
       " 1.0 * IIIIIIIIIZZIIIII\n",
       " 1.0 * IIIZZIIIIIIIIIII\n",
       " 1.0 * IIIIIIIIIIIXIIII\n",
       " 1.0 * IIIXIIIIIIIIIIII\n",
       "  ⋮)"
      ]
     },
     "execution_count": 3,
     "metadata": {},
     "output_type": "execute_result"
    }
   ],
   "source": [
    "H = PauliSum(nq)\n",
    "\n",
    "for qind in 1:nq\n",
    "    add!(H, :X, qind, 1.0)\n",
    "end\n",
    "\n",
    "for pair in topology\n",
    "    add!(H, [:Z, :Z], collect(pair), 1.0)\n",
    "end\n",
    "\n",
    "H"
   ]
  },
  {
   "cell_type": "markdown",
   "id": "c5f5e402-e941-4f2f-8f3e-2d0707c91e5d",
   "metadata": {},
   "source": [
    "Define some generic quantum circuit"
   ]
  },
  {
   "cell_type": "code",
   "execution_count": 4,
   "id": "12381cf7-77ff-481a-9098-518b71d34217",
   "metadata": {},
   "outputs": [
    {
     "data": {
      "text/plain": [
       "252"
      ]
     },
     "execution_count": 4,
     "metadata": {},
     "output_type": "execute_result"
    }
   ],
   "source": [
    "nl = 4\n",
    "\n",
    "# denote with `const` so the code that uses this global variable remains fast\n",
    "const circuit = hardwareefficientcircuit(nq, nl; topology=topology)\n",
    "nparams = countparameters(circuit)"
   ]
  },
  {
   "cell_type": "markdown",
   "id": "2ed752b6-0b10-4d0a-9a24-e0129edf1961",
   "metadata": {},
   "source": [
    "Importantly, we need to set our truncations. Depending on which package you are using to compute your gradients, you can use different truncations. \n",
    "\n",
    "`ReverseDiff` for example is a sophisticated package for automatic _reverse-mode_ differentiation. It will build a computational graph that it then differentiates using the chain rule. This is how large-scale neural networks are trained, and is commonly referred to as gradient _backpropagation_. The challenge here is that the graph for the chain rule is computed once (to the best of our knowledge), which means that only truncations during the initial computation will be respected. Truncations that we think work well here are `max_weight`, `max_freq`, and `max_sins`, as they do not depend on the particular parameters of the quantum circuit. On the other hand, which paths are explore with truncations such as `min_abs_coeff` will not be updated (again, to the best of our knowledge) as the gradients are computed.\n",
    "\n",
    "Packages such as `ForwardDiff` or manual numerical differentiation, on the other hand, always involve computation of the loss function, which is affected by all truncations. Unfortunately, these methods are slower for circuits with more than several dozen parameters."
   ]
  },
  {
   "cell_type": "markdown",
   "id": "2a678897-e092-42a6-b4f7-8dba976a251c",
   "metadata": {},
   "source": [
    "So let's wrap the coefficients into `PauliFreqTracker`, which keeps track how many times a path splits at a `PauliRotation`. We will use this to truncate our simulation, i.e., we will set a `max_freq` truncation. One could also truncate on `min_abs_coeff`, but `ReverseDiff` would not continually update which paths are truncated as you train based on which currently have small coefficient (at least we think so)."
   ]
  },
  {
   "cell_type": "code",
   "execution_count": 5,
   "id": "726723d4-5207-4016-9678-aebdd2b9a302",
   "metadata": {},
   "outputs": [
    {
     "data": {
      "text/plain": [
       "(:coeff, :nsins, :ncos, :freq)"
      ]
     },
     "execution_count": 5,
     "metadata": {},
     "output_type": "execute_result"
    }
   ],
   "source": [
    "# the fields on PauliFreqTracker\n",
    "fieldnames(PauliFreqTracker)"
   ]
  },
  {
   "cell_type": "markdown",
   "id": "816216be-c8e7-4eb5-84f9-c91075975cfc",
   "metadata": {},
   "source": [
    "The `coeff` field carries the coefficient as you are used to. But the other fields are used to keep track of additional things."
   ]
  },
  {
   "cell_type": "code",
   "execution_count": 6,
   "id": "f3c00f97-e4cf-43fe-bf49-78d279c26372",
   "metadata": {},
   "outputs": [
    {
     "data": {
      "text/plain": [
       "PauliFreqTracker{Float64}(coeff=1.0, nsins=0, ncos=0, freq=0)"
      ]
     },
     "execution_count": 6,
     "metadata": {},
     "output_type": "execute_result"
    }
   ],
   "source": [
    "# an example PauliFreqTracker\n",
    "# actually, PauliFreqTracker(1.0) also initializes the other fields to 0\n",
    "\n",
    "# PauliFreqTracker(1.0)\n",
    "PauliFreqTracker(1.0, 0, 0, 0)"
   ]
  },
  {
   "cell_type": "code",
   "execution_count": 7,
   "id": "b22694ce-e197-4cc4-8e74-3af0c5271bb7",
   "metadata": {},
   "outputs": [
    {
     "data": {
      "text/plain": [
       "PauliString(nqubits: 2, PauliFreqTracker(0.5) * XI)"
      ]
     },
     "execution_count": 7,
     "metadata": {},
     "output_type": "execute_result"
    }
   ],
   "source": [
    "# create a PauliString with PauliFreqTracker coefficient\n",
    "wrapped_pstr = PauliString(2, :X, 1, PauliFreqTracker(0.5, 0, 0, 0))"
   ]
  },
  {
   "cell_type": "code",
   "execution_count": 8,
   "id": "61f85bad-ad39-4e1d-ad31-82cd069ccc7d",
   "metadata": {},
   "outputs": [
    {
     "data": {
      "text/plain": [
       "PauliSum(nqubits: 2, 2 Pauli terms:\n",
       " PauliFreqTracker(-0.19471) * YZ\n",
       " PauliFreqTracker(0.46053) * XI\n",
       ")"
      ]
     },
     "execution_count": 8,
     "metadata": {},
     "output_type": "execute_result"
    }
   ],
   "source": [
    "# showcase what this PathProperties type tracks\n",
    "gate = PauliRotation([:Z, :Z], [1, 2])\n",
    "θ = 0.4\n",
    "wrapped_psum = propagate(gate, wrapped_pstr, θ)"
   ]
  },
  {
   "cell_type": "markdown",
   "id": "86e18706-168f-45f9-bc9a-9c51ccbcef1b",
   "metadata": {},
   "source": [
    "You can see that we tracked that both Pauli paths branched once (`freq=1`), and they received a `cos` or `sin` coefficient."
   ]
  },
  {
   "cell_type": "code",
   "execution_count": 9,
   "id": "c16ca723-618a-4f4c-9c9d-b8a282b1ff54",
   "metadata": {},
   "outputs": [
    {
     "data": {
      "text/plain": [
       "ValueIterator for a Dict{UInt8, PauliFreqTracker{Float64}} with 2 entries. Values:\n",
       "  PauliFreqTracker{Float64}(coeff=-0.19470917115432526, nsins=1, ncos=0, freq=1)\n",
       "  PauliFreqTracker{Float64}(coeff=0.46053049700144255, nsins=0, ncos=1, freq=1)"
      ]
     },
     "execution_count": 9,
     "metadata": {},
     "output_type": "execute_result"
    }
   ],
   "source": [
    "coefficients(wrapped_psum)"
   ]
  },
  {
   "cell_type": "markdown",
   "id": "e8463855-f97e-4bd5-acca-670cba32eb37",
   "metadata": {},
   "source": [
    "You can truncate based on these properties, which is valid even when being completely agnostic towards the parameters of the circuit."
   ]
  },
  {
   "cell_type": "code",
   "execution_count": 10,
   "id": "14867046-d5cb-4171-98fa-a5eef3687d45",
   "metadata": {},
   "outputs": [
    {
     "data": {
      "text/plain": [
       "PauliSum(nqubits: 2, (no Pauli strings))"
      ]
     },
     "execution_count": 10,
     "metadata": {},
     "output_type": "execute_result"
    }
   ],
   "source": [
    "# truncates everything that splits more than 0 times - this is everything\n",
    "wrapped_psum = propagate(gate, wrapped_pstr, θ; max_freq = 0)"
   ]
  },
  {
   "cell_type": "code",
   "execution_count": 11,
   "id": "4a5a9823-540b-469b-abfa-f85cccf303fd",
   "metadata": {},
   "outputs": [
    {
     "data": {
      "text/plain": [
       "PauliSum(nqubits: 2, 1 Pauli term: \n",
       " PauliFreqTracker(0.46053) * XI\n",
       ")"
      ]
     },
     "execution_count": 11,
     "metadata": {},
     "output_type": "execute_result"
    }
   ],
   "source": [
    "# truncates everything with more with nsins > 0\n",
    "wrapped_psum = propagate(gate, wrapped_pstr, θ; max_sins = 0)"
   ]
  },
  {
   "cell_type": "code",
   "execution_count": 12,
   "id": "f212b35d-8500-4220-81f3-5f8fbfdc27c0",
   "metadata": {},
   "outputs": [
    {
     "ename": "LoadError",
     "evalue": "ArgumentError: The `max_freq` and `max_sins` truncations can only be used with coefficients wrapped in `PathProperties` types.\nConsider using `wrapcoefficients() with the `PauliFreqTracker` type.",
     "output_type": "error",
     "traceback": [
      "ArgumentError: The `max_freq` and `max_sins` truncations can only be used with coefficients wrapped in `PathProperties` types.\nConsider using `wrapcoefficients() with the `PauliFreqTracker` type.",
      "",
      "Stacktrace:",
      " [1] _checkfreqandsinfields(psum::PauliSum{UInt8, Float64}, max_freq::Int64, max_sins::Float64)",
      "   @ PauliPropagation ~/.julia/dev/PauliPropagation/src/Propagation/generics.jl:285",
      " [2] propagate!(circ::PauliRotation, psum::PauliSum{UInt8, Float64}, thetas::Float64; max_weight::Float64, min_abs_coeff::Float64, max_freq::Int64, max_sins::Float64, customtruncfunc::Nothing, kwargs::@Kwargs{max_sin::Int64})",
      "   @ PauliPropagation ~/.julia/dev/PauliPropagation/src/Propagation/generics.jl:58",
      " [3] propagate!",
      "   @ ~/.julia/dev/PauliPropagation/src/Propagation/generics.jl:55 [inlined]",
      " [4] #propagate#116",
      "   @ ~/.julia/dev/PauliPropagation/src/Propagation/generics.jl:37 [inlined]",
      " [5] propagate",
      "   @ ~/.julia/dev/PauliPropagation/src/Propagation/generics.jl:36 [inlined]",
      " [6] #propagate#115",
      "   @ ~/.julia/dev/PauliPropagation/src/Propagation/generics.jl:21 [inlined]",
      " [7] top-level scope",
      "   @ In[12]:3"
     ]
    }
   ],
   "source": [
    "# these truncations do not work with the coefficients are not properly wrapped\n",
    "pstr = PauliString(2, :X, 1, 0.5)\n",
    "propagate(gate, pstr, θ; max_freq = 1, max_sin = 1)"
   ]
  },
  {
   "cell_type": "markdown",
   "id": "c57acb79-2b9b-4725-9448-8fd13cf3d1ba",
   "metadata": {},
   "source": [
    "Because it can be annoying to define your observable like this, we provide the function `wrapcoefficients()`, which returns a new `PauliString` or `PauliSum` where all coefficients are wrapped in the `PathProperties` type provided."
   ]
  },
  {
   "cell_type": "code",
   "execution_count": 13,
   "id": "c17e1225-ae9d-4925-b948-cee6bdcaf0a9",
   "metadata": {},
   "outputs": [
    {
     "data": {
      "text/plain": [
       "true"
      ]
     },
     "execution_count": 13,
     "metadata": {},
     "output_type": "execute_result"
    }
   ],
   "source": [
    "wrapcoefficients(pstr, PauliFreqTracker) == wrapped_pstr"
   ]
  },
  {
   "cell_type": "markdown",
   "id": "5d12f4af-8250-4ee2-a866-8ae073ec603b",
   "metadata": {},
   "source": [
    "Now do this to our Hamiltonian."
   ]
  },
  {
   "cell_type": "code",
   "execution_count": 14,
   "id": "4ef0f532-71f3-490f-bd8e-0a5e0ceb2035",
   "metadata": {},
   "outputs": [
    {
     "data": {
      "text/plain": [
       "PauliSum(nqubits: 16, 31 Pauli terms:\n",
       " PauliFreqTracker(1.0) * IIXIIIIIIIIIIIII\n",
       " PauliFreqTracker(1.0) * IIIIIIIIIIIIXIII\n",
       " PauliFreqTracker(1.0) * IIIIIIIIIIIIIIIX\n",
       " PauliFreqTracker(1.0) * IZZIIIIIIIIIIIII\n",
       " PauliFreqTracker(1.0) * IIIIIIIIIIIIIXII\n",
       " PauliFreqTracker(1.0) * IIIIIIXIIIIIIIII\n",
       " PauliFreqTracker(1.0) * IIIIIIIIZZIIIIII\n",
       " PauliFreqTracker(1.0) * XIIIIIIIIIIIIIII\n",
       " PauliFreqTracker(1.0) * IIIIXIIIIIIIIIII\n",
       " PauliFreqTracker(1.0) * IIIIIIIIIIIIZZII\n",
       " PauliFreqTracker(1.0) * IIIIZZIIIIIIIIII\n",
       " PauliFreqTracker(1.0) * IIIIIZZIIIIIIIII\n",
       " PauliFreqTracker(1.0) * IIIIIIIZZIIIIIII\n",
       " PauliFreqTracker(1.0) * IIIIIXIIIIIIIIII\n",
       " PauliFreqTracker(1.0) * IIIIIIIIIIIZZIII\n",
       " PauliFreqTracker(1.0) * IIIIIIIIIIXIIIII\n",
       " PauliFreqTracker(1.0) * IIIIIIIIIZZIIIII\n",
       " PauliFreqTracker(1.0) * IIIZZIIIIIIIIIII\n",
       " PauliFreqTracker(1.0) * IIIIIIIIIIIXIIII\n",
       " PauliFreqTracker(1.0) * IIIXIIIIIIIIIIII\n",
       "  ⋮)"
      ]
     },
     "execution_count": 14,
     "metadata": {},
     "output_type": "execute_result"
    }
   ],
   "source": [
    "wrapped_H = wrapcoefficients(H, PauliFreqTracker)"
   ]
  },
  {
   "cell_type": "markdown",
   "id": "0f55eeed-8972-4be0-9585-49733d70f138",
   "metadata": {},
   "source": [
    "Generate some generic parameters"
   ]
  },
  {
   "cell_type": "code",
   "execution_count": 15,
   "id": "36c63006-5d77-43ec-af6c-64b3a7e24212",
   "metadata": {},
   "outputs": [],
   "source": [
    "using Random\n",
    "Random.seed!(42)\n",
    "thetas = randn(nparams);"
   ]
  },
  {
   "cell_type": "markdown",
   "id": "285d3caa-30c5-431f-b3fd-0ebf2548477c",
   "metadata": {},
   "source": [
    "One expectation evaluation"
   ]
  },
  {
   "cell_type": "code",
   "execution_count": 16,
   "id": "0bef1ff0-7fd3-4b78-8f54-14ee1f660140",
   "metadata": {},
   "outputs": [
    {
     "name": "stdout",
     "output_type": "stream",
     "text": [
      "  0.244301 seconds (341.63 k allocations: 22.156 MiB, 71.64% compilation time)\n"
     ]
    },
    {
     "data": {
      "text/plain": [
       "-1.8904666076774599"
      ]
     },
     "execution_count": 16,
     "metadata": {},
     "output_type": "execute_result"
    }
   ],
   "source": [
    "max_freq = 25\n",
    "max_weight = 5\n",
    "\n",
    "@time psum = propagate(circuit, wrapped_H, thetas; max_freq, max_weight);\n",
    "overlapwithzero(psum)"
   ]
  },
  {
   "cell_type": "markdown",
   "id": "fec61b35-cf4c-459f-9cdc-d0ab48689011",
   "metadata": {},
   "source": [
    "#### What does not work:"
   ]
  },
  {
   "cell_type": "markdown",
   "id": "2be8e1dc-c677-413e-a1c1-c34ba143ab58",
   "metadata": {},
   "source": [
    "Now wrap it into a function that takes only `thetas` as argument. This is why we denoted many global variables as `const`, because we use them in here. Alternatively, one could have used so called `let` blocks for local variable namespaces.\n",
    "\n",
    "This loss function does not work because the `ReverseDiff` package needs to propagate its custom coefficient type. But `H` is already stricktly typed. So the following loss function would not be automatically differentiable."
   ]
  },
  {
   "cell_type": "code",
   "execution_count": 17,
   "id": "ff42aa41-fed2-42a3-974e-6c28861bcb5a",
   "metadata": {},
   "outputs": [
    {
     "data": {
      "text/plain": [
       "naivelossfunction (generic function with 1 method)"
      ]
     },
     "execution_count": 17,
     "metadata": {},
     "output_type": "execute_result"
    }
   ],
   "source": [
    "function naivelossfunction(thetas)   \n",
    "    psum = propagate(circuit, wrapped_H, thetas; max_freq, max_weight);\n",
    "    return overlapwithzero(psum)\n",
    "end"
   ]
  },
  {
   "cell_type": "code",
   "execution_count": 18,
   "id": "f111331a-7405-4191-811f-cd5d26d88b57",
   "metadata": {},
   "outputs": [
    {
     "name": "stdout",
     "output_type": "stream",
     "text": [
      "  0.314913 seconds (2.22 M allocations: 113.509 MiB, 3.94% gc time, 65.74% compilation time)\n"
     ]
    },
    {
     "data": {
      "text/plain": [
       "-2.1101816962371744"
      ]
     },
     "execution_count": 18,
     "metadata": {},
     "output_type": "execute_result"
    }
   ],
   "source": [
    "@time naivelossfunction(thetas)"
   ]
  },
  {
   "cell_type": "markdown",
   "id": "15507e9d-8eea-4a71-8547-daf0b931afbb",
   "metadata": {},
   "source": [
    "An example of how it would break:"
   ]
  },
  {
   "cell_type": "code",
   "execution_count": 19,
   "id": "53158f29-cd6e-441b-a8ea-314ee633bf29",
   "metadata": {},
   "outputs": [
    {
     "ename": "LoadError",
     "evalue": "ArgumentError: Converting an instance of ReverseDiff.TrackedReal{Float64, Float64, Nothing} to Float64 is not defined. Please use `ReverseDiff.value` instead.",
     "output_type": "error",
     "traceback": [
      "ArgumentError: Converting an instance of ReverseDiff.TrackedReal{Float64, Float64, Nothing} to Float64 is not defined. Please use `ReverseDiff.value` instead.",
      "",
      "Stacktrace:",
      "  [1] convert(::Type{Float64}, t::ReverseDiff.TrackedReal{Float64, Float64, Nothing})",
      "    @ ReverseDiff ~/.julia/packages/ReverseDiff/p1MzG/src/tracked.jl:261",
      "  [2] PauliFreqTracker",
      "    @ ~/.julia/dev/PauliPropagation/src/PathProperties/paulifreqtracker.jl:18 [inlined]",
      "  [3] #_applycos#111",
      "    @ ~/.julia/dev/PauliPropagation/src/PathProperties/paulifreqtracker.jl:136 [inlined]",
      "  [4] _applycos (repeats 2 times)",
      "    @ ~/.julia/dev/PauliPropagation/src/PathProperties/paulifreqtracker.jl:111 [inlined]",
      "  [5] splitapply(gate::MaskedPauliRotation{UInt32}, pstr::UInt32, coeff::PauliFreqTracker{Float64}, theta::ReverseDiff.TrackedReal{Float64, Float64, ReverseDiff.TrackedArray{Float64, Float64, 1, Vector{Float64}, Vector{Float64}}}; kwargs::@Kwargs{})",
      "    @ PauliPropagation ~/.julia/dev/PauliPropagation/src/PathProperties/paulifreqtracker.jl:69",
      "  [6] splitapply",
      "    @ ~/.julia/dev/PauliPropagation/src/PathProperties/paulifreqtracker.jl:67 [inlined]",
      "  [7] applytoall!(gate::PauliRotation, theta::ReverseDiff.TrackedReal{Float64, Float64, ReverseDiff.TrackedArray{Float64, Float64, 1, Vector{Float64}, Vector{Float64}}}, psum::PauliSum{UInt32, PauliFreqTracker{Float64}}, aux_psum::PauliSum{UInt32, PauliFreqTracker{Float64}}; kwargs::@Kwargs{})",
      "    @ PauliPropagation ~/.julia/dev/PauliPropagation/src/PathProperties/paulifreqtracker.jl:52",
      "  [8] applytoall!",
      "    @ ~/.julia/dev/PauliPropagation/src/PathProperties/paulifreqtracker.jl:38 [inlined]",
      "  [9] #applymergetruncate!#118",
      "    @ ~/.julia/dev/PauliPropagation/src/Propagation/generics.jl:108 [inlined]",
      " [10] propagate!(circ::Vector{Gate}, psum::PauliSum{UInt32, PauliFreqTracker{Float64}}, thetas::ReverseDiff.TrackedArray{Float64, Float64, 1, Vector{Float64}, Vector{Float64}}; max_weight::Int64, min_abs_coeff::Float64, max_freq::Int64, max_sins::Float64, customtruncfunc::Nothing, kwargs::@Kwargs{})",
      "    @ PauliPropagation ~/.julia/dev/PauliPropagation/src/Propagation/generics.jl:79",
      " [11] propagate!",
      "    @ ~/.julia/dev/PauliPropagation/src/Propagation/generics.jl:55 [inlined]",
      " [12] #propagate#116",
      "    @ ~/.julia/dev/PauliPropagation/src/Propagation/generics.jl:37 [inlined]",
      " [13] naivelossfunction(thetas::ReverseDiff.TrackedArray{Float64, Float64, 1, Vector{Float64}, Vector{Float64}})",
      "    @ Main ./In[17]:6",
      " [14] ReverseDiff.GradientTape(f::typeof(naivelossfunction), input::Vector{Float64}, cfg::ReverseDiff.GradientConfig{ReverseDiff.TrackedArray{Float64, Float64, 1, Vector{Float64}, Vector{Float64}}})",
      "    @ ReverseDiff ~/.julia/packages/ReverseDiff/p1MzG/src/api/tape.jl:199",
      " [15] gradient(f::Function, input::Vector{Float64}, cfg::ReverseDiff.GradientConfig{ReverseDiff.TrackedArray{Float64, Float64, 1, Vector{Float64}, Vector{Float64}}})",
      "    @ ReverseDiff ~/.julia/packages/ReverseDiff/p1MzG/src/api/gradients.jl:22",
      " [16] top-level scope",
      "    @ In[19]:4"
     ]
    }
   ],
   "source": [
    "# using Pkg; Pkg.add(\"ReverseDiff\")\n",
    "using ReverseDiff: gradient\n",
    "\n",
    "gradient(naivelossfunction, thetas)"
   ]
  },
  {
   "cell_type": "markdown",
   "id": "34de0990-8fc3-4921-b45a-fc858bd0778b",
   "metadata": {},
   "source": [
    "#### What works:"
   ]
  },
  {
   "cell_type": "markdown",
   "id": "5658ef0c-20ea-4bce-9e26-147a92a61bfc",
   "metadata": {},
   "source": [
    "We now create a loss function that does indeed work. It requires that we build the Hamiltonian with the correct coefficient type, which here is the element type of `thetas`. This will make everything differentiable."
   ]
  },
  {
   "cell_type": "code",
   "execution_count": 20,
   "id": "df906060-d2e3-495f-b043-667da74181ea",
   "metadata": {},
   "outputs": [
    {
     "data": {
      "text/plain": [
       "lossfunction (generic function with 1 method)"
      ]
     },
     "execution_count": 20,
     "metadata": {},
     "output_type": "execute_result"
    }
   ],
   "source": [
    "function lossfunction(thetas)\n",
    "    # differentiation libraries use custom types to trace through the computation\n",
    "    # we need to make all of our objects typed like that so that nothing breaks\n",
    "    CoeffType = eltype(thetas)\n",
    "\n",
    "    # define H again \n",
    "    H = PauliSum(nq, CoeffType)\n",
    "    for qind in 1:nq\n",
    "        add!(H, :X, qind, CoeffType(1.0))\n",
    "    end\n",
    "    for pair in topology\n",
    "        add!(H, [:Z, :Z], collect(pair), CoeffType(1.0))\n",
    "    end\n",
    "\n",
    "    # wrapp the coefficients into PauliFreqTracker so that we can use `max_freq` truncation.\n",
    "    wrapped_H = wrapcoefficients(H, PauliFreqTracker)\n",
    "\n",
    "    # be also need to run the in-place version with `!`, because by default we copy the Pauli sum\n",
    "    wrapped_H = propagate!(circuit, wrapped_H, thetas; max_freq, max_weight);\n",
    "    return overlapwithzero(wrapped_H)\n",
    "end"
   ]
  },
  {
   "cell_type": "markdown",
   "id": "6669b874-094a-4570-8519-2bb15a7ae2ed",
   "metadata": {},
   "source": [
    "Instead, we need to define a loss function that creates H every time with the correct coefficient type:"
   ]
  },
  {
   "cell_type": "code",
   "execution_count": 21,
   "id": "666ca6a0-cc70-41f4-afb4-976a33813f68",
   "metadata": {},
   "outputs": [
    {
     "name": "stdout",
     "output_type": "stream",
     "text": [
      "  0.110272 seconds (206.92 k allocations: 16.073 MiB, 37.94% compilation time)\n"
     ]
    },
    {
     "data": {
      "text/plain": [
       "-1.8904666076774599"
      ]
     },
     "execution_count": 21,
     "metadata": {},
     "output_type": "execute_result"
    }
   ],
   "source": [
    "@time lossfunction(thetas)"
   ]
  },
  {
   "cell_type": "markdown",
   "id": "b310aca8-77fe-4a8e-9b8b-7022e1350e5c",
   "metadata": {},
   "source": [
    "And gradients work."
   ]
  },
  {
   "cell_type": "code",
   "execution_count": 22,
   "id": "3e17cbe3-e60e-48dc-86db-8c6dec773d86",
   "metadata": {},
   "outputs": [
    {
     "name": "stdout",
     "output_type": "stream",
     "text": [
      "  1.991867 seconds (19.70 M allocations: 867.953 MiB, 12.76% gc time, 45.89% compilation time)\n"
     ]
    },
    {
     "data": {
      "text/plain": [
       "252-element Vector{Float64}:\n",
       " -0.5057064083446595\n",
       "  0.025028009253606664\n",
       " -0.47337187596655284\n",
       "  0.09285919084901251\n",
       "  0.0900343739787604\n",
       "  0.26751480771265024\n",
       "  0.07722722421907667\n",
       "  0.5186194278104864\n",
       " -0.4367624010611486\n",
       "  0.7767471716936789\n",
       "  0.0227644087188041\n",
       "  0.908680529040292\n",
       " -0.11929346203144106\n",
       "  ⋮\n",
       " -0.4835428738051231\n",
       " -0.2487625833982674\n",
       " -0.7705492109786312\n",
       "  0.2651823350777113\n",
       " -1.2311240255419973\n",
       "  1.4595405277023366\n",
       "  0.3972920774850484\n",
       " -0.7513152897757447\n",
       " -1.0433085832333235\n",
       "  0.6822884973623046\n",
       " -0.4331718877680776\n",
       " -0.24910861064112663"
      ]
     },
     "execution_count": 22,
     "metadata": {},
     "output_type": "execute_result"
    }
   ],
   "source": [
    "@time gradient(lossfunction, thetas)"
   ]
  },
  {
   "cell_type": "markdown",
   "id": "a27d00a5-218c-420d-a510-7c46554ae0af",
   "metadata": {},
   "source": [
    "Now import ReverseDiff and follow their example for very fast gradients:"
   ]
  },
  {
   "cell_type": "code",
   "execution_count": 23,
   "id": "dcfde742-f364-4e88-8e4a-4811c39ab2f4",
   "metadata": {},
   "outputs": [],
   "source": [
    "using ReverseDiff: GradientTape, gradient!, compile"
   ]
  },
  {
   "cell_type": "code",
   "execution_count": 24,
   "id": "37d103dd-a2f9-4547-91b6-6e563aff2fdc",
   "metadata": {},
   "outputs": [
    {
     "name": "stdout",
     "output_type": "stream",
     "text": [
      "  1.005530 seconds (17.09 M allocations: 739.427 MiB, 33.08% gc time, 0.52% compilation time)\n",
      "  0.410735 seconds (238.85 k allocations: 11.782 MiB, 26.70% compilation time)\n",
      "  0.310207 seconds\n"
     ]
    }
   ],
   "source": [
    "### This is following an ReverseDiff.jl example\n",
    "\n",
    "# some inputs and work buffer to play around with\n",
    "grad_array = similar(thetas);\n",
    "\n",
    "# pre-record a GradientTape for `gradsimulation` using inputs of length m with Float64 elements\n",
    "@time const simulation_tape = GradientTape(lossfunction, thetas)\n",
    "\n",
    "# first evaluation compiles and is slower\n",
    "@time gradient!(grad_array, simulation_tape, thetas)\n",
    "# second evaluation\n",
    "@time gradient!(grad_array, simulation_tape, thetas);"
   ]
  },
  {
   "cell_type": "code",
   "execution_count": 25,
   "id": "789942a9-ad5a-4e77-b53d-768fd326a8c6",
   "metadata": {},
   "outputs": [
    {
     "name": "stdout",
     "output_type": "stream",
     "text": [
      "  1.960937 seconds (27.74 M allocations: 1.155 GiB, 14.67% gc time, 14.14% compilation time)\n",
      "  0.272109 seconds (74.84 k allocations: 3.674 MiB, 21.19% compilation time)\n",
      "  0.215754 seconds\n"
     ]
    }
   ],
   "source": [
    "# compile to make it even faster\n",
    "@time const compiled_simulation_tape = compile(simulation_tape)\n",
    "\n",
    "# some inputs and work buffer to play around with\n",
    "grad_array_compiled = similar(thetas);\n",
    "\n",
    "# first evaluation compiles and is slower\n",
    "@time gradient!(grad_array_compiled, compiled_simulation_tape, thetas)\n",
    "# second evaluation\n",
    "@time gradient!(grad_array_compiled, compiled_simulation_tape, thetas);"
   ]
  },
  {
   "cell_type": "markdown",
   "id": "36437c88-7dc7-4384-bcf2-60c02d78638c",
   "metadata": {},
   "source": [
    "`grad_array` here carries the gradient result. It is changed in-place in `gradient!` so that the array does not need to get allocated over and over.\n",
    "\n",
    "See how calculating the gradient is only a few times slower than calculating the loss! The magic if reverse-mode differentiation. Feel free to explore other automatic differentiation libraries, including ones using forward-mode differentiation for when you have very few parameters. Also keep in mind that the loss functions we have defined can be sped up by not either declaring the global variables as `const` or by passing them via so-called *closures*."
   ]
  }
 ],
 "metadata": {
  "kernelspec": {
   "display_name": "Julia 1.11.2",
   "language": "julia",
   "name": "julia-1.11"
  },
  "language_info": {
   "file_extension": ".jl",
   "mimetype": "application/julia",
   "name": "julia",
   "version": "1.11.2"
  }
 },
 "nbformat": 4,
 "nbformat_minor": 5
}
