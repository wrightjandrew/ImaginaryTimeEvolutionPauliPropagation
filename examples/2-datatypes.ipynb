{
 "cells": [
  {
   "cell_type": "markdown",
   "id": "a89ad832-47ab-43e7-9d04-363192d491ef",
   "metadata": {},
   "source": [
    "# Explaining our Data Types\n",
    "What are data types? In imprecise terms, they are wrappers around attributes or values that one can define computational behavior on. In the Julia programming language, one defines data types via a `struct`. \n",
    "\n",
    "Our most important data type is `PauliSum`, which is a wrapper for a sum of Pauli strings. What is a Pauli string? Mathematically they are a tensor product of single-qubit Pauli matrices. For example, $I \\otimes X \\otimes Z$ is a 3-qubit Pauli string. For usability, we also have a `PauliString` type, but it is currently only meant as a higher-level representation of one Pauli string."
   ]
  },
  {
   "cell_type": "code",
   "execution_count": 1,
   "id": "be08e82c-6d81-4c3b-a957-78f66ac84902",
   "metadata": {},
   "outputs": [],
   "source": [
    "using PauliPropagation"
   ]
  },
  {
   "cell_type": "markdown",
   "id": "ba8319cb-c44b-4358-9018-d71cf5890fb2",
   "metadata": {},
   "source": [
    "Let us start by defining the number of qubits, here 3."
   ]
  },
  {
   "cell_type": "code",
   "execution_count": 2,
   "id": "fca055c2-ba19-4c56-aa69-ac51871f36f9",
   "metadata": {},
   "outputs": [
    {
     "data": {
      "text/plain": [
       "3"
      ]
     },
     "execution_count": 2,
     "metadata": {},
     "output_type": "execute_result"
    }
   ],
   "source": [
    "nqubits = 3"
   ]
  },
  {
   "cell_type": "markdown",
   "id": "28059bf7-e502-425b-85e9-2c9dae414c88",
   "metadata": {},
   "source": [
    "We start by defining a `PauliString`. As arguments, it expects the number of qubits, a list of symbols and a list of qubit indices. For convenience you can also pass one symbol and one qubit index, in case the Pauli string really only has support on one site. The way we denote Paulis at the high level is via Julia `Symbols`, which start with a colon `:`."
   ]
  },
  {
   "cell_type": "code",
   "execution_count": 3,
   "id": "7793e288-23ec-4474-9010-db78a061067e",
   "metadata": {},
   "outputs": [
    {
     "data": {
      "text/plain": [
       "PauliString(nqubits: 3, 1.0 * IXI)"
      ]
     },
     "execution_count": 3,
     "metadata": {},
     "output_type": "execute_result"
    }
   ],
   "source": [
    "# this works \n",
    "PauliString(nqubits, :X, 2)"
   ]
  },
  {
   "cell_type": "code",
   "execution_count": 4,
   "id": "da8aa5dc-d275-46b1-9eda-05bf9ffb7ea3",
   "metadata": {},
   "outputs": [
    {
     "data": {
      "text/plain": [
       "PauliString(nqubits: 3, 1.0 * IXY)"
      ]
     },
     "execution_count": 4,
     "metadata": {},
     "output_type": "execute_result"
    }
   ],
   "source": [
    "# and this works more generally\n",
    "pstr = PauliString(nqubits, [:X, :Y], [2, 3])"
   ]
  },
  {
   "cell_type": "markdown",
   "id": "5d5b8fa0-5232-46f1-a04c-519c8beb93f8",
   "metadata": {},
   "source": [
    "`PauliString` has the attributes `nqubits` and `term`. The latter is our efficient low-level implementation."
   ]
  },
  {
   "cell_type": "code",
   "execution_count": 5,
   "id": "4b7c2311-e98c-4a5f-b170-48fa4e377fc7",
   "metadata": {},
   "outputs": [
    {
     "data": {
      "text/plain": [
       "0x24"
      ]
     },
     "execution_count": 5,
     "metadata": {},
     "output_type": "execute_result"
    }
   ],
   "source": [
    "bit_pstr = pstr.term"
   ]
  },
  {
   "cell_type": "markdown",
   "id": "9b5cf55c-def4-4e45-9c34-8f1aeac78dba",
   "metadata": {},
   "source": [
    "What is `0x24`? This is how unsigned integer types display in many languages, and unsigned integers (here the 8-bit version `UInt8`) is how we encode our Pauli strings at a low level - as pairs of two bits!\n",
    "\n",
    "See that this is just a number, but don't worry too much about what particular number it is or why it displays as `0x24."
   ]
  },
  {
   "cell_type": "code",
   "execution_count": 6,
   "id": "5edf85d7-691a-43d4-a004-c63b66c8c4a8",
   "metadata": {},
   "outputs": [
    {
     "name": "stdout",
     "output_type": "stream",
     "text": [
      "36"
     ]
    }
   ],
   "source": [
    "print(0x24)"
   ]
  },
  {
   "cell_type": "markdown",
   "id": "67b73c52-0fb1-45d7-9ae2-9143fd4646ab",
   "metadata": {},
   "source": [
    "Now to the more important part: Bits. With the `Bits` package we can easily display the bits of the unsigned integer. Note that there qubits are indexed from right to left, but you do not need to remember this if you use our functions."
   ]
  },
  {
   "cell_type": "code",
   "execution_count": 7,
   "id": "141208a9-8fb6-4689-9242-5d47112767aa",
   "metadata": {},
   "outputs": [
    {
     "data": {
      "text/plain": [
       "<00100100>"
      ]
     },
     "execution_count": 7,
     "metadata": {},
     "output_type": "execute_result"
    }
   ],
   "source": [
    "using Bits\n",
    "bits(bit_pstr)"
   ]
  },
  {
   "cell_type": "markdown",
   "id": "d4540011-564b-43f2-ac06-59186f1990e1",
   "metadata": {},
   "source": [
    "Read this as `00 10 01 00` in pairs from right to left."
   ]
  },
  {
   "cell_type": "markdown",
   "id": "c7b784a9-ed1b-4aa2-b824-9927c4339c3a",
   "metadata": {},
   "source": [
    "The above shows that the first Pauli (on the right) is `00` (the number 0), which is `I`. The second is `01` (the number 1), which is `X`. The third is `10` (the number 2), which is `Y`. All bits beyond the left Pauli string limit will be zero. Do you see how those bits match the definition of `pstr`? Note that under the hood, we try to use the smallest integer type that can carry the full Pauli string. "
   ]
  },
  {
   "cell_type": "markdown",
   "id": "3f219a96-65d2-4dc9-baa5-f69de7a5779b",
   "metadata": {},
   "source": [
    "We can retrieve the Paulis on a low level via `getpauli()`, which is very important when implementing custom gates."
   ]
  },
  {
   "cell_type": "code",
   "execution_count": 8,
   "id": "ded7900e-ef86-4bbb-a0a3-2fc53e4461aa",
   "metadata": {},
   "outputs": [
    {
     "data": {
      "text/plain": [
       "(0x00, 0x01, 0x02)"
      ]
     },
     "execution_count": 8,
     "metadata": {},
     "output_type": "execute_result"
    }
   ],
   "source": [
    "# use `getpauli(bit_pstr, qind) to get the Paulis as 0, 1, 2, or 3 on the site `qind`\n",
    "getpauli(bit_pstr, 1), getpauli(bit_pstr, 2), getpauli(bit_pstr, 3) # IXY, as espected"
   ]
  },
  {
   "cell_type": "markdown",
   "id": "049f2bf0-92a3-474f-b718-56879911a19f",
   "metadata": {},
   "source": [
    "Equality checks between unsigned integers and regular integers work:"
   ]
  },
  {
   "cell_type": "code",
   "execution_count": 9,
   "id": "db4e1be7-f4e3-4501-855e-afe9e5566bfa",
   "metadata": {},
   "outputs": [
    {
     "data": {
      "text/plain": [
       "(true, true, true, true)"
      ]
     },
     "execution_count": 9,
     "metadata": {},
     "output_type": "execute_result"
    }
   ],
   "source": [
    "0x00 == 0 , 0x01 == 1, 0x02 == 2, 0x03 == 3"
   ]
  },
  {
   "cell_type": "markdown",
   "id": "26e5e22b-0f19-4891-a99f-43f647146715",
   "metadata": {},
   "source": [
    "And for clarity, here the bits:"
   ]
  },
  {
   "cell_type": "code",
   "execution_count": 10,
   "id": "17709cb9-0596-443d-9d8d-40182f8edfd3",
   "metadata": {},
   "outputs": [
    {
     "data": {
      "text/plain": [
       "(<00000000>, <00000001>, <00000010>, <00000011>)"
      ]
     },
     "execution_count": 10,
     "metadata": {},
     "output_type": "execute_result"
    }
   ],
   "source": [
    "bits(0x00), bits(0x01), bits(0x02), bits(0x03)"
   ]
  },
  {
   "cell_type": "markdown",
   "id": "bfe3306d-080f-4023-b347-779c7230e92b",
   "metadata": {},
   "source": [
    "If you wanted, you could also get several Paulis from a Pauli string and pack them into one integer. This can also be important for highly efficient gates."
   ]
  },
  {
   "cell_type": "code",
   "execution_count": 11,
   "id": "ca72d585-f45c-41dc-a678-9eb2703c5ec0",
   "metadata": {},
   "outputs": [
    {
     "data": {
      "text/plain": [
       "0x09"
      ]
     },
     "execution_count": 11,
     "metadata": {},
     "output_type": "execute_result"
    }
   ],
   "source": [
    "paulis = getpauli(bit_pstr, [2, 3])"
   ]
  },
  {
   "cell_type": "code",
   "execution_count": 12,
   "id": "12765fb2-cc7a-40f4-a731-b14e691f3b22",
   "metadata": {},
   "outputs": [
    {
     "data": {
      "text/plain": [
       "<00001001>"
      ]
     },
     "execution_count": 12,
     "metadata": {},
     "output_type": "execute_result"
    }
   ],
   "source": [
    "bits(paulis)"
   ]
  },
  {
   "cell_type": "markdown",
   "id": "c9518451-deae-4bd9-bb5f-f6a2fc150d9e",
   "metadata": {},
   "source": [
    "Here, `paulis` has the Pauli on site 2 of `pstr.term` on its first site, and the Pauli on site 3 of `pstr.term` on its second site."
   ]
  },
  {
   "cell_type": "markdown",
   "id": "9105a3c9-33cd-4f9e-8a14-6dea4b1d0e02",
   "metadata": {},
   "source": [
    "Setting Paulis on the bit representation is of course also possible. We do that via `setpauli()`."
   ]
  },
  {
   "cell_type": "code",
   "execution_count": 13,
   "id": "129e9255-fdf7-4316-85e2-53b52090b967",
   "metadata": {},
   "outputs": [
    {
     "data": {
      "text/plain": [
       "0x25"
      ]
     },
     "execution_count": 13,
     "metadata": {},
     "output_type": "execute_result"
    }
   ],
   "source": [
    "# use `setpauli(bit_pstr, target_bit_pauli, qind) to get the Paulis as 0, 1, 2, or 3 on the site `qind`\n",
    "new_pauli = :X  # 1 also works for very high-performance case, similarly :Y vs 2 and :Z vs 3\n",
    "new_bit_pstr = setpauli(bit_pstr, :X, 1)"
   ]
  },
  {
   "cell_type": "code",
   "execution_count": 14,
   "id": "0b217c06-d89a-4d7d-b310-ab05b97c5041",
   "metadata": {},
   "outputs": [
    {
     "data": {
      "text/plain": [
       "<00100101>"
      ]
     },
     "execution_count": 14,
     "metadata": {},
     "output_type": "execute_result"
    }
   ],
   "source": [
    "bits(new_bit_pstr)"
   ]
  },
  {
   "cell_type": "markdown",
   "id": "5e0a724c-55cc-4449-b88a-1f3ca153f420",
   "metadata": {},
   "source": [
    "Note that you can also set sequences of bits like with `getpauli()` above:"
   ]
  },
  {
   "cell_type": "code",
   "execution_count": 15,
   "id": "59be04a9-093d-4365-bd6b-7f7b1695e56b",
   "metadata": {},
   "outputs": [
    {
     "data": {
      "text/plain": [
       "<00101001>"
      ]
     },
     "execution_count": 15,
     "metadata": {},
     "output_type": "execute_result"
    }
   ],
   "source": [
    "bits(setpauli(bit_pstr, paulis, [1, 2]))  # [X, Y] from above set into the bits of site 1 and 2"
   ]
  },
  {
   "cell_type": "markdown",
   "id": "9d5c4a49-b2ea-45db-a76b-bea3f977b324",
   "metadata": {},
   "source": [
    "Now you have got to know our `PauliString` type and the lower workings of integer Pauli strings, let's briefly cover our high-level working horse: The `PauliSum` type. "
   ]
  },
  {
   "cell_type": "markdown",
   "id": "c03264df-b49a-490b-8b60-a4b49cd8189c",
   "metadata": {},
   "source": [
    "Create an empty Pauli sum:"
   ]
  },
  {
   "cell_type": "code",
   "execution_count": 16,
   "id": "90763bcb-2ead-4af4-bc94-6b87ef41dc81",
   "metadata": {},
   "outputs": [
    {
     "data": {
      "text/plain": [
       "PauliSum(nqubits: 3, (no Pauli strings))"
      ]
     },
     "execution_count": 16,
     "metadata": {},
     "output_type": "execute_result"
    }
   ],
   "source": [
    "psum = PauliSum(nqubits)"
   ]
  },
  {
   "cell_type": "markdown",
   "id": "7d2e9e92-d5c1-4b27-b228-9bc89aad82e6",
   "metadata": {},
   "source": [
    "If we inspect the Pauli sum `psum`, it carries two attributes: `nqubits` and `terms`. "
   ]
  },
  {
   "cell_type": "code",
   "execution_count": 17,
   "id": "0ad622d8-966b-4b8b-8a0a-3a497f82e8db",
   "metadata": {},
   "outputs": [
    {
     "data": {
      "text/plain": [
       "3"
      ]
     },
     "execution_count": 17,
     "metadata": {},
     "output_type": "execute_result"
    }
   ],
   "source": [
    "psum.nqubits"
   ]
  },
  {
   "cell_type": "code",
   "execution_count": 18,
   "id": "79f82a55-c52a-4d79-bdf0-063dc2ed3255",
   "metadata": {},
   "outputs": [
    {
     "data": {
      "text/plain": [
       "Dict{UInt8, Float64}()"
      ]
     },
     "execution_count": 18,
     "metadata": {},
     "output_type": "execute_result"
    }
   ],
   "source": [
    "psum.terms"
   ]
  },
  {
   "cell_type": "markdown",
   "id": "58bf2072-746a-44ef-8d33-49088564f954",
   "metadata": {},
   "source": [
    "`terms` are the collection of integer Pauli strings and their respective coefficients. We store them as a dictionary, which is currently empty. It says the type of that dictionary is `Dict{UInt8, Float64}`, and we will see what that means.\n",
    "\n",
    "Let us now add terms to the Pauli sum. We simply do this by calling the `add!()` function on `psum` with some extra information about the Pauli string that we want to add. All the ways in which you can add terms to a `PauliSum` you can also create `PauliString`s from above. They use the same syntax."
   ]
  },
  {
   "cell_type": "code",
   "execution_count": 19,
   "id": "b3327709-fce3-4607-b380-01c83550a509",
   "metadata": {},
   "outputs": [
    {
     "data": {
      "text/plain": [
       "PauliSum(nqubits: 3, 2 Pauli terms:\n",
       " 1.0 * IXI\n",
       " 0.5 * YIZ\n",
       ")"
      ]
     },
     "execution_count": 19,
     "metadata": {},
     "output_type": "execute_result"
    }
   ],
   "source": [
    "add!(psum, :X, 2)  # this adds 1.0 * IXI\n",
    "add!(psum, [:Y, :Z], [1, 3], 0.5)  # this adds 0.5 * YIZ\n",
    "\n",
    "psum  # the display order usually does not match the order in which you added the terms, but that is fine."
   ]
  },
  {
   "cell_type": "code",
   "execution_count": 20,
   "id": "e9aeb4e4-9fe9-42cc-9a93-032576f45a90",
   "metadata": {},
   "outputs": [
    {
     "data": {
      "text/plain": [
       "PauliSum(nqubits: 3, 3 Pauli terms:\n",
       " 1.0 * IXI\n",
       " 0.5 * YIZ\n",
       " -1.0 * IXY\n",
       ")"
      ]
     },
     "execution_count": 20,
     "metadata": {},
     "output_type": "execute_result"
    }
   ],
   "source": [
    "# operations like \"+\" or \"-\" work, but copy the entire Pauli sum\n",
    "psum - pstr"
   ]
  },
  {
   "cell_type": "code",
   "execution_count": 21,
   "id": "75afbdf1-d4c9-4dc3-aa3b-3ae414e3c591",
   "metadata": {},
   "outputs": [
    {
     "data": {
      "text/plain": [
       "PauliSum(nqubits: 3, 2 Pauli terms:\n",
       " 2.0 * IXI\n",
       " 1.0 * YIZ\n",
       ")"
      ]
     },
     "execution_count": 21,
     "metadata": {},
     "output_type": "execute_result"
    }
   ],
   "source": [
    "psum + psum"
   ]
  },
  {
   "cell_type": "code",
   "execution_count": 22,
   "id": "c44a6c43-076e-461b-a71b-6a362faf84d8",
   "metadata": {},
   "outputs": [
    {
     "data": {
      "text/plain": [
       "PauliSum(nqubits: 3, 3 Pauli terms:\n",
       " 1.0 * IXI\n",
       " 0.5 * YIZ\n",
       " 1.0 * IXY\n",
       ")"
      ]
     },
     "execution_count": 22,
     "metadata": {},
     "output_type": "execute_result"
    }
   ],
   "source": [
    "# this modifies in-place and is thus faster\n",
    "add!(psum, pstr)"
   ]
  },
  {
   "cell_type": "markdown",
   "id": "1fc8c76e-f05a-4cc8-8f13-2f6e72503e17",
   "metadata": {},
   "source": [
    "Let us now dig a bit deeper and look at the terms:"
   ]
  },
  {
   "cell_type": "code",
   "execution_count": 23,
   "id": "f1b2ba1e-5fb7-4c56-9bf2-4148a5b8c75b",
   "metadata": {},
   "outputs": [
    {
     "data": {
      "text/plain": [
       "Dict{UInt8, Float64} with 3 entries:\n",
       "  0x04 => 1.0\n",
       "  0x32 => 0.5\n",
       "  0x24 => 1.0"
      ]
     },
     "execution_count": 23,
     "metadata": {},
     "output_type": "execute_result"
    }
   ],
   "source": [
    "psum.terms"
   ]
  },
  {
   "cell_type": "markdown",
   "id": "db08e2cc-fc98-4f6e-8f12-2c5fb1432580",
   "metadata": {},
   "source": [
    "Here `0x04`, `0x32`, `0x24` are again our low-level implementation of Pauli strings as unsigned integers, here as 8-bit unsigned integers `UInt8`. The values of the dictionary are the coefficients."
   ]
  },
  {
   "cell_type": "code",
   "execution_count": 24,
   "id": "7ee6a8ec-2abf-4390-9611-bc1616eef9e7",
   "metadata": {},
   "outputs": [
    {
     "name": "stdout",
     "output_type": "stream",
     "text": [
      "4\n",
      "50\n",
      "36\n"
     ]
    }
   ],
   "source": [
    "println(0x4)\n",
    "println(0x32)\n",
    "println(0x24)"
   ]
  },
  {
   "cell_type": "markdown",
   "id": "54c57607-489f-4137-b13d-0ff3dae5d3a9",
   "metadata": {},
   "source": [
    "Here are some more examples of code snippets that work: "
   ]
  },
  {
   "cell_type": "code",
   "execution_count": 25,
   "id": "14a5de36-e71b-4ed4-9ba6-6a92635e6542",
   "metadata": {},
   "outputs": [
    {
     "data": {
      "text/plain": [
       "1.0"
      ]
     },
     "execution_count": 25,
     "metadata": {},
     "output_type": "execute_result"
    }
   ],
   "source": [
    "getcoeff(psum, :X, 2)"
   ]
  },
  {
   "cell_type": "code",
   "execution_count": 26,
   "id": "706c64ed-eb20-4fb1-aa6e-4be3880e3125",
   "metadata": {},
   "outputs": [
    {
     "data": {
      "text/plain": [
       "0.5"
      ]
     },
     "execution_count": 26,
     "metadata": {},
     "output_type": "execute_result"
    }
   ],
   "source": [
    "getcoeff(psum, [:Y, :Z], [1, 3])"
   ]
  },
  {
   "cell_type": "code",
   "execution_count": 27,
   "id": "5ba5b45a-1ea8-4adf-acd6-a1136a7332fc",
   "metadata": {},
   "outputs": [
    {
     "data": {
      "text/plain": [
       "PauliSum(nqubits: 3, 3 Pauli terms:\n",
       " 0.3 * IXI\n",
       " 0.15 * YIZ\n",
       " 0.3 * IXY\n",
       ")"
      ]
     },
     "execution_count": 27,
     "metadata": {},
     "output_type": "execute_result"
    }
   ],
   "source": [
    "mult!(psum, 0.3) # in-place"
   ]
  },
  {
   "cell_type": "code",
   "execution_count": 28,
   "id": "edc53563-972d-4bfe-9330-519554513dc9",
   "metadata": {},
   "outputs": [
    {
     "data": {
      "text/plain": [
       "PauliSum(nqubits: 3, 4 Pauli terms:\n",
       " 0.3 * IXI\n",
       " 0.15 * YIZ\n",
       " -1.3 * XXI\n",
       " 0.3 * IXY\n",
       ")"
      ]
     },
     "execution_count": 28,
     "metadata": {},
     "output_type": "execute_result"
    }
   ],
   "source": [
    "set!(psum, 0x45, -1.3)  # this is for the low level currently and cannot be used with Symbols :X, :Y, :Z"
   ]
  }
 ],
 "metadata": {
  "kernelspec": {
   "display_name": "Julia 1.11.2",
   "language": "julia",
   "name": "julia-1.11"
  },
  "language_info": {
   "file_extension": ".jl",
   "mimetype": "application/julia",
   "name": "julia",
   "version": "1.11.2"
  }
 },
 "nbformat": 4,
 "nbformat_minor": 5
}
